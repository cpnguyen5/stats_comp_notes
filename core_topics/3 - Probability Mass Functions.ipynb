{
 "cells": [
  {
   "cell_type": "markdown",
   "metadata": {},
   "source": [
    "# Probability Mass Functions\n",
    "\n",
    "**Probability Mass Function (PMF)** is another way to *represent distribution* by mapping each value to its probability.\n",
    "\n",
    "**Probability** is a frequency expressed as a *fraction of the sample size* (`n`).\n",
    "  * **Normalization**: process of dividing a *frequency* by a sample size (`n`) to get a *probability*\n",
    "     * sum of sample's probabilities = 1.0 (all divided by `n`)\n",
    "     * frequencies --> probabilities\n",
    "  \n",
    "#### Code\n",
    "Given a histogram dictionary (key-value: value-frequency), we can make another (PMF) dictionary that maps from each value to its probability.\n",
    "\n",
    "`{value: probability,...}`\n",
    "\n",
    "| Dict Type | Dict Key | Dict Value |\n",
    "|:------ | :---: | :---: |\n",
    "| Histogram | value | frequency |\n",
    "| PMF | value | probability |\n"
   ]
  },
  {
   "cell_type": "code",
   "execution_count": 1,
   "metadata": {
    "collapsed": false
   },
   "outputs": [],
   "source": [
    "import numpy as np\n",
    "import pandas as pd\n",
    "import matplotlib.pyplot as plt\n",
    "import nsfg\n",
    "\n",
    "%matplotlib inline"
   ]
  },
  {
   "cell_type": "code",
   "execution_count": 2,
   "metadata": {
    "collapsed": false
   },
   "outputs": [
    {
     "name": "stdout",
     "output_type": "stream",
     "text": [
      "{1: 0.2, 2: 0.4, 3: 0.2, 5: 0.2}\n"
     ]
    }
   ],
   "source": [
    "# Given a dictionary of values' frequencies (histogram)\n",
    "hist = {1:1,2:2,3:1,5:1}\n",
    "\n",
    "# Convert to dictionary of values' probabilities\n",
    "n = float(sum(hist.values()))\n",
    "pmf_d = {}\n",
    "\n",
    "for x,freq in hist.items():\n",
    "    pmf_d[x] = freq / n # probability (fraction of value/ sample size(n))\n",
    "print pmf_d"
   ]
  },
  {
   "cell_type": "code",
   "execution_count": 3,
   "metadata": {
    "collapsed": true
   },
   "outputs": [],
   "source": [
    "def pmf(dictionary):\n",
    "    \"\"\"Takes a histogram dictionary (frequency) and \n",
    "    create a PMF dictionary (probabilities).\n",
    "    \n",
    "    \"\"\"\n",
    "    n = float(sum(dictionary.values()))\n",
    "    pmf_d = {}\n",
    "\n",
    "    for x,freq in dictionary.items():\n",
    "        pmf_d[x] = freq / n\n",
    "    return pmf_d"
   ]
  },
  {
   "cell_type": "markdown",
   "metadata": {},
   "source": [
    "## Plotting PMFs\n",
    "\n",
    "  1. **Bar Graphs**: most useful if the number of values in the PMF is *small*.\n",
    "  2. ** Step Function**: useful if the number of values in the PMF is *large* & PMF is smooth.\n",
    "  \n",
    "#### PMFs vs.  Histograms (Frequency)\n",
    "Plotting with the PMF, instead of a histogram, will compare 2 distributions *without being mislead by the difference in sample size*.\n",
    "\n",
    "**Main Idea**: Both are useful to explore data and identify patterns & relationships since both can portray the distribution.\n",
    "\n",
    "#### Example: Pregnancy Length PMFs (Firsts vs. Others)\n",
    "**Interpretations**:\n",
    "  * *First* babies seem to be less likely than *Others* to arrive on time (week 39).\n",
    "  * *First* babies seem more likely to be late (weeks 41 & 42)."
   ]
  },
  {
   "cell_type": "code",
   "execution_count": 4,
   "metadata": {
    "collapsed": true
   },
   "outputs": [],
   "source": [
    "preg = nsfg.ReadFemPreg() # DataFrame\n",
    "live = preg[preg.outcome==1] # filter for live births\n",
    "firsts = live[live.birthord == 1]\n",
    "others = live[live.birthord != 1]\n",
    "\n",
    "# Series for prglngth\n",
    "firsts_prglngth = firsts['prglngth']\n",
    "others_prglngth = others['prglngth']\n",
    "\n",
    "# Histogram - dictionary of value-freq\n",
    "firsts_freq = firsts['prglngth'].value_counts().to_dict()\n",
    "others_freq = others['prglngth'].value_counts().to_dict()\n",
    "\n",
    "# PMF - dictionary of value-prob\n",
    "firsts_pmf = pmf(firsts_freq)\n",
    "others_pmf = pmf(others_freq)"
   ]
  },
  {
   "cell_type": "code",
   "execution_count": 5,
   "metadata": {
    "collapsed": false,
    "scrolled": true
   },
   "outputs": [
    {
     "data": {
      "image/png": "[encoded data removed]",
      "text/plain": [
       "<matplotlib.figure.Figure at 0xae0e978>"
      ]
     },
     "metadata": {},
     "output_type": "display_data"
    }
   ],
   "source": [
    "fig = plt.figure(figsize=(10, 2))\n",
    "bar_width = 0.35\n",
    "others_pmf_val=[bar_width + x for x in others_pmf.keys()] # side-by-side bars\n",
    "\n",
    "plt.bar(firsts_pmf.keys(), firsts_pmf.values(), width=bar_width, \n",
    "        color='blue', label='firsts')\n",
    "plt.bar(others_pmf_val, others_pmf.values(), width=bar_width, \n",
    "        color='green', label='others')\n",
    "plt.xlabel('weeks') # value\n",
    "plt.ylabel('probability') # pmf\n",
    "plt.title('Bar Grpah - Pregnancy Length Probability') # histogram of PMF\n",
    "plt.legend(loc='upper left')\n",
    "\n",
    "plt.show()\n",
    "plt.close(fig)"
   ]
  },
  {
   "cell_type": "markdown",
   "metadata": {},
   "source": [
    "Plot of 2 distribution groups (`firsts` & `others`) is better compared through a PMF plot since it mitigates differences in sample size.\n",
    "\n",
    "A PMF plot is the probability version of the histogram (frequency)."
   ]
  },
  {
   "cell_type": "code",
   "execution_count": 6,
   "metadata": {
    "collapsed": false
   },
   "outputs": [
    {
     "data": {
      "image/png": "[encoded data removed]",
      "text/plain": [
       "<matplotlib.figure.Figure at 0xaddf630>"
      ]
     },
     "metadata": {},
     "output_type": "display_data"
    }
   ],
   "source": [
    "plt.step(firsts_pmf.keys(), firsts_pmf.values(), label='firsts')\n",
    "plt.step(others_pmf.keys(), others_pmf.values(), label='others',)\n",
    "plt.xlabel('weeks')\n",
    "plt.ylabel('probability')\n",
    "plt.title('Step Function - Pregnancy Length Probability')\n",
    "plt.legend(loc='upper left')\n",
    "plt.show()"
   ]
  },
  {
   "cell_type": "markdown",
   "metadata": {},
   "source": [
    "### Subplot"
   ]
  },
  {
   "cell_type": "code",
   "execution_count": 7,
   "metadata": {
    "collapsed": false,
    "scrolled": true
   },
   "outputs": [
    {
     "data": {
      "image/png": "[encoded data removed]",
      "text/plain": [
       "<matplotlib.figure.Figure at 0x123cce10>"
      ]
     },
     "metadata": {},
     "output_type": "display_data"
    }
   ],
   "source": [
    "fig = plt.figure(figsize=(15,4))\n",
    "plt.subplot(1,2,1)\n",
    "bar_width = 0.35\n",
    "others_pmf_val=[bar_width + x for x in others_pmf.keys()]\n",
    "\n",
    "plt.bar(firsts_pmf.keys(), firsts_pmf.values(), width=bar_width, \n",
    "        color='blue', label='firsts')\n",
    "plt.bar(others_pmf_val, others_pmf.values(), width=bar_width, \n",
    "        color='green', label='others')\n",
    "plt.xlabel('weeks')\n",
    "plt.ylabel('probability')\n",
    "plt.title('Bar Graph')\n",
    "plt.legend(loc='upper left')\n",
    "\n",
    "plt.subplot(1,2,2)\n",
    "plt.step(firsts_pmf.keys(), firsts_pmf.values(), label='firsts')\n",
    "plt.step(others_pmf.keys(), others_pmf.values(), label='others',)\n",
    "plt.xlabel('weeks')\n",
    "plt.ylabel('probability')\n",
    "plt.title('Step Function')\n",
    "plt.legend(loc='upper left')\n",
    "\n",
    "plt.suptitle('PMF - Pregnancy Length Probability')\n",
    "plt.show()\n",
    "plt.close(fig)"
   ]
  },
  {
   "cell_type": "markdown",
   "metadata": {},
   "source": [
    "### Other Visualizations\n",
    "\n",
    "Once you have an idea of what's going on in the data, the next step is to design a visualization that makes the patterns previously identified as clear as possible.\n",
    "\n",
    "In the NSFG data, the biggest differences, in the distributions are near the *mode*. A visualization zooming on this part (weeks 35-46) and transforming the data to emphasize the differences is demonstrated below.\n",
    "  * Differences in distribution between the 2 groups (`Firsts` & `Others`) is most apparent near the mode.\n",
    "\n",
    "##### Conclusion\n",
    "The plot supports the pattern (potential conclusion):   \n",
    "`First` babies are \n",
    "  * less likely to be born in week 39\n",
    "  * somewhat more likely to be born in weeks 41-42."
   ]
  },
  {
   "cell_type": "code",
   "execution_count": 8,
   "metadata": {
    "collapsed": false
   },
   "outputs": [
    {
     "data": {
      "image/png": "[encoded data removed]",
      "text/plain": [
       "<matplotlib.figure.Figure at 0xd33acf8>"
      ]
     },
     "metadata": {},
     "output_type": "display_data"
    }
   ],
   "source": [
    "weeks = range(35,46)\n",
    "diffs = []\n",
    "for week in weeks:\n",
    "    p1 = firsts_pmf[week] # probability of Firsts group for a given week\n",
    "    p2 = others_pmf[week] # probability of Others group for a given week\n",
    "    diff = 100 * (p1 - p2) # diffs in probability of birth for each value (given week)\n",
    "    diffs.append(diff)\n",
    "\n",
    "plt.figure()\n",
    "plt.bar(weeks, diffs)\n",
    "plt.xlabel('weeks')\n",
    "plt.ylabel('percentage points')\n",
    "plt.title('Difference in PMFs')\n",
    "\n",
    "plt.show()\n",
    "plt.close(fig)"
   ]
  },
  {
   "cell_type": "markdown",
   "metadata": {},
   "source": [
    "## The Class Size Paradox\n",
    "\n",
    "A type of computation done with **PMF** objects.\n",
    "\n",
    "#### Example: American Universities' Student-to-Faculty Ratio\n",
    "At many institutions, the student-to-faculty ratio is ~ 10:1. However, most students are often surprised to discover that their average class is bigger than 10.\n",
    "\n",
    "Two reasons for this discrepancy:\n",
    "  1. Students typically take 4-5 classes per semester, but professors often teach 1-2.\n",
    "  2. The number of students who enjoy a small class is small, but the number of students in a large class is large.\n",
    "  \n",
    "The 1st effect is obvious; the 2nd is  more subtle.\n",
    "\n",
    "**Example**: Suppose a college offers 65 classes in a given semester with the following distribution:\n",
    "\n",
    "| Size   | Count |   \n",
    "| :-----:|:-----:| \n",
    "| 5-9    | 8  | \n",
    "| 10-14  | 8  |  \n",
    "| 15-19  | 14  |  \n",
    "| 20-24  | 4 |  \n",
    "| 25-29  | 6  |  \n",
    "| 30-34  | 12  |  \n",
    "| 35-39  | 8  |  \n",
    "| 40-44  | 3  |  \n",
    "| 45-49  | 2  |  \n",
    "\n",
    "**Actual**\n",
    "If you ask the dean for the average class size, he would construct a PMF, compute the mean, and report that the average class size is 23.7.\n",
    "\n",
    "d = {7:8, 12:8, 17:14, 22:4, 27:6, 32:12, 37:8, 42:3, 47:2}"
   ]
  },
  {
   "cell_type": "code",
   "execution_count": 9,
   "metadata": {
    "collapsed": false
   },
   "outputs": [
    {
     "name": "stdout",
     "output_type": "stream",
     "text": [
      "Actual PMF Mean:  23.6923076923\n"
     ]
    }
   ],
   "source": [
    "d = {7:8, 12:8, 17:14, 22:4, 27:6, 32:12, 37:8, 42:3, 47:2}\n",
    "pmf_actual = pmf(d)\n",
    "actual_mean = 0.0\n",
    "for val, prob in pmf_actual.items():\n",
    "    actual_mean += val * prob # PMF mean\n",
    "\n",
    "print \"Actual PMF Mean: \", actual_mean"
   ]
  },
  {
   "cell_type": "markdown",
   "metadata": {},
   "source": [
    "**Observed**\n",
    "However, if you survey a group of students, sk them how many students are in their classes, and compute the mean...you would think the average class was bigger. How much bigger?\n",
    "\n",
    "First, compute the distribution observed by students, * where the probability associated with each class size is \"biased\" by the number of students  in the class*.\n",
    "\n",
    "Multiply the probability by *x* (number of students who observe that class size) for each class size (*x*). The result is a new PMF, representing the **biased distribution**."
   ]
  },
  {
   "cell_type": "code",
   "execution_count": 10,
   "metadata": {
    "collapsed": true
   },
   "outputs": [],
   "source": [
    "def pmf_norm(d, fraction=1.0):\n",
    "    \"\"\"Normalizes PMF so the sum of all probs is fraction.\n",
    "    Sum off all probability will = 1.0\"\"\"\n",
    "    \n",
    "    total = sum(d.values())\n",
    "    factor = fraction / total\n",
    "    for x in d:\n",
    "        d[x] *= factor\n",
    "    return total\n",
    "\n",
    "def bias_pmf(d):\n",
    "    \"\"\"Takes histrogram dictionary and compute the PMF \n",
    "    with associated bias for each key-value\"\"\"\n",
    "    bias_pmf = pmf(d)\n",
    "    \n",
    "    for val, prob in bias_pmf.items():\n",
    "        bias_pmf[val] = val*prob\n",
    "    \n",
    "    pmf_norm(bias_pmf)\n",
    "    return bias_pmf"
   ]
  },
  {
   "cell_type": "code",
   "execution_count": 11,
   "metadata": {
    "collapsed": false
   },
   "outputs": [
    {
     "name": "stdout",
     "output_type": "stream",
     "text": [
      "Observed PMF Mean:  29.1233766234\n"
     ]
    }
   ],
   "source": [
    "# pmf_obs = pmf(d)\n",
    "\n",
    "# for val, prob in pmf_obs.items():\n",
    "#     pmf_obs[val] = val*prob\n",
    "    \n",
    "# pmf_norm(pmf_obs) # returns total, but normalizes dict as byproduct\n",
    "\n",
    "pmf_obs = bias_pmf(d)\n",
    "\n",
    "obs_mean = 0.0\n",
    "for val, prob in pmf_obs.items():\n",
    "    obs_mean += val * prob # PMF mean\n",
    "\n",
    "print \"Observed PMF Mean: \", obs_mean"
   ]
  },
  {
   "cell_type": "code",
   "execution_count": 12,
   "metadata": {
    "collapsed": false
   },
   "outputs": [
    {
     "data": {
      "image/png": "[encoded data removed]",
      "text/plain": [
       "<matplotlib.figure.Figure at 0x11f58cf8>"
      ]
     },
     "metadata": {},
     "output_type": "display_data"
    }
   ],
   "source": [
    "def sorted_dict(d):\n",
    "    \"\"\"Creates 2 lists, keys and values, from the sorted dictionary.\"\"\"\n",
    "    x = []\n",
    "    y = []\n",
    "    for key in sorted(d.keys()):\n",
    "        x+= [key]\n",
    "        y+= [d[key]]\n",
    "    return x,y\n",
    "\n",
    "x_act, y_act = sorted_dict(pmf_actual)\n",
    "x_obs, y_obs = sorted_dict(pmf_obs)\n",
    "\n",
    "plt.step(x_act, y_act, label='actual', color='red')\n",
    "plt.step(x_obs, y_obs, label='observed')\n",
    "plt.xlabel('class size')\n",
    "plt.ylabel('PMF')\n",
    "plt.title('PMF Class Size')\n",
    "plt.legend(loc='upper right')\n",
    "plt.ylim([0.0,0.30])\n",
    "plt.show()\n",
    "plt.close(fig)"
   ]
  },
  {
   "cell_type": "markdown",
   "metadata": {},
   "source": [
    "**Interpretation**: The biased distribution (observed) have fewer small classes and more large ones. \n",
    "\n",
    "The mean of the biased distribution is 29.1, ~ 25% higher than the actual mean.\n",
    "\n",
    "**Actual Mean** = 23.7  \n",
    "**Observed Mean** = 29.1"
   ]
  },
  {
   "cell_type": "markdown",
   "metadata": {},
   "source": [
    "### Alternative to Obtaining the Unbiased ('Actual') Mean\n",
    "#### Solution to Limited Reliable Data\n",
    "For example, in the event that the *actual* class size cannot be obtained from the dean. You're limited to observed values that are biased.\n",
    "\n",
    "The *actual* distribution can be estimated from the *observed* distribution. Choose random sample of students & ask how many are in their classes. (Inverted process of finding biased PMF)."
   ]
  },
  {
   "cell_type": "code",
   "execution_count": 13,
   "metadata": {
    "collapsed": true
   },
   "outputs": [],
   "source": [
    "def unbiased_pmf(biased_pmf):\n",
    "    \"\"\"Find actual/unbiased PMF based on observed data.\n",
    "    \n",
    "    biased_pmf: biased PMF dictionary\n",
    "    \"\"\" \n",
    "    new_pmf = biased_pmf.copy()\n",
    "    for val, prob in biased_pmf.items():\n",
    "        new_pmf[val] = prob * (1.0/val)\n",
    "    \n",
    "    pmf_norm(new_pmf)\n",
    "    return new_pmf"
   ]
  },
  {
   "cell_type": "code",
   "execution_count": 16,
   "metadata": {
    "collapsed": false
   },
   "outputs": [
    {
     "name": "stdout",
     "output_type": "stream",
     "text": [
      "\n",
      "Unbiased PMF Mean =  23.6923076923\n"
     ]
    }
   ],
   "source": [
    "# check if unbias matches actual\n",
    "unbias_pmf = unbiased_pmf(pmf_obs)\n",
    "for key in unbias_pmf.keys():\n",
    "    if round(unbias_pmf[key],5) != round(pmf_actual[key],5):\n",
    "        print False\n",
    "#     print True\n",
    "\n",
    "unbias_mean = 0.0\n",
    "for val, prob in unbias_pmf.items():\n",
    "    unbias_mean += val * prob # PMF mean\n",
    "\n",
    "print \"\\n\", \"Unbiased PMF Mean = \", unbias_mean"
   ]
  },
  {
   "cell_type": "code",
   "execution_count": 15,
   "metadata": {
    "collapsed": false
   },
   "outputs": [
    {
     "data": {
      "image/png": "[encoded data removed]",
      "text/plain": [
       "<matplotlib.figure.Figure at 0x127f2080>"
      ]
     },
     "metadata": {},
     "output_type": "display_data"
    }
   ],
   "source": [
    "x_unbias, y_unbias = sorted_dict(unbias_pmf)\n",
    "\n",
    "plt.step(x_unbias, y_unbias, label='Unbias', color='red')\n",
    "plt.xlabel('class size')\n",
    "plt.ylabel('PMF')\n",
    "plt.title('PMF Class Size')\n",
    "plt.legend(loc='upper right')\n",
    "plt.ylim([0.0,0.30])\n",
    "plt.show()\n",
    "plt.close(fig)"
   ]
  }
 ],
 "metadata": {
  "kernelspec": {
   "display_name": "Python 2",
   "language": "python",
   "name": "python2"
  },
  "language_info": {
   "codemirror_mode": {
    "name": "ipython",
    "version": 2
   },
   "file_extension": ".py",
   "mimetype": "text/x-python",
   "name": "python",
   "nbconvert_exporter": "python",
   "pygments_lexer": "ipython2",
   "version": "2.7.11"
  }
 },
 "nbformat": 4,
 "nbformat_minor": 2
}
