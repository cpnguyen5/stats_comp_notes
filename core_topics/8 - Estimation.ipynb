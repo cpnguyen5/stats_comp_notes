{
 "cells": [
  {
   "cell_type": "markdown",
   "metadata": {},
   "source": [
    "# Chapter 8: Estimation\n",
    "\n",
    "## The Estimation Game\n",
    "**Estimation**: the process of inferring the parameters of a distribution from a sample.\n",
    "  * \"Guessing what the distribution is\"\n",
    "\n",
    "**Estimator**: a statistic used to estimate a parameter.\n",
    "  * \"Methods to estimate the distribution\"\n",
    "\n",
    "Estimator Approaches:\n",
    "  1. Use the **sample mean** (x<sub>mean</sub>== $\\bar{x}$) as an estimate of **μ** (distribution's mean (overall data)).\n",
    "    * Example: If x<sub>mean</sub> of the random sample is 0.155, it's reasonable to guess that **μ** = 0.155.\n",
    "  2. Identify & discard **outliers**, then compute the **sample mean**.\n",
    "    * Estimate of *only* the **sample mean** may be inaccurate if **outliers** are present due to an errorneous survey (wrong decimal place).\n",
    "  3. Use the **median** as an estimator.\n",
    "\n",
    "Which estimator is best depends on the circumstances (for example, whether there are outliers) and on what the goal is. Are you trying to minimize errors or maximize your chance of getting the right answer?\n",
    "\n",
    "**General Rule of Thumbs**\n",
    " * Using **sample mean** to estimate the *mean* works a little better than using the *median*. In the long run, it minimizes **RMSE**.\n",
    " * Using the **median** to estimate is more robust in the *presence of **outliers** or **large errors**.\n",
    "\n",
    "\n",
    "### Mean Squared Error (MSE)\n",
    "**Mean Squared Error (MSE)**: a measure of estimation error\n",
    "  * **sample mean** ($\\bar{x}$) minimizes the MSE, *if there are no outliers*.\n",
    "\n",
    "If we play the \"estimation game\" many times & each time, compute the error ($\\bar{x}$ - μ), the sample mean minimizes\n",
    "`MSE = (1/m)` Σ ($\\bar{x}$ - μ)<sup>2</sup>\n",
    "  * `m`: number of times you play the \"estimation game\"\n",
    "  * `n`: size of the sample used to compute sample mean\n",
    "  \n",
    "#### Root Mean Squared Error (RMSE)\n",
    "**Root Mean Squared Error (RMSE)**: the square root of MSE\n",
    "  * a more meaningful representation of typical error magnitude\n",
    "  * one of several ways to summarize the **average error of an estimation process**  \n",
    "  \n",
    "#### `RMSE` function\n",
    "Parameters:\n",
    "  * `estimates`: list of estimates\n",
    "  * `actual`: actual value being estimated\n",
    "    * we don't know `actual` (if we did, we wouldn't need to estimate it)"
   ]
  },
  {
   "cell_type": "code",
   "execution_count": 14,
   "metadata": {
    "collapsed": true
   },
   "outputs": [],
   "source": [
    "import numpy as np\n",
    "import pandas as pd\n",
    "import matplotlib.pyplot as plt\n",
    "import math\n",
    "from statsmodels.distributions.empirical_distribution import ECDF\n",
    "\n",
    "%matplotlib inline"
   ]
  },
  {
   "cell_type": "code",
   "execution_count": 2,
   "metadata": {
    "collapsed": false
   },
   "outputs": [],
   "source": [
    "def RMSE(estimates, actual):\n",
    "    \"\"\"Computes the root mean squared error of a sequence of estimates.\n",
    "\n",
    "    estimate: sequence of numbers (estimates)\n",
    "    actual: actual value\n",
    "\n",
    "    returns: float RMSE\n",
    "    \"\"\"\n",
    "    e2 = [(estimate-actual)**2 for estimate in estimates]\n",
    "    mse = np.mean(e2)\n",
    "    return math.sqrt(mse)"
   ]
  },
  {
   "cell_type": "markdown",
   "metadata": {},
   "source": [
    "#### `Estimate1` function\n",
    "The function simulating the \"estimation game\" or experiments where we try to estimate the mean of a population based on a sample with size `n`=7. We run `iters`=1000 experiments and collect the mean & median of each sample.\n",
    "\n",
    "`n` is the size of the sample & `m` is the number of times we play the game.\n",
    "\n",
    "`means` is the list of estimates based on x<sub>mean</sub>.  \n",
    "`medians` is the list of medians."
   ]
  },
  {
   "cell_type": "code",
   "execution_count": 3,
   "metadata": {
    "collapsed": true
   },
   "outputs": [],
   "source": [
    "import random\n",
    "\n",
    "def Estimate1(n=7, m=1000):\n",
    "    \"\"\"Evaluates RMSE of sample mean and median as estimators.\n",
    "\n",
    "    n: sample size\n",
    "    m: number of iterations\n",
    "    \"\"\"\n",
    "    mu = 0\n",
    "    sigma = 1\n",
    "\n",
    "    means = []\n",
    "    medians = []\n",
    "    for _ in range(m):\n",
    "        xs = [random.gauss(mu, sigma) for _ in range(n)]\n",
    "        xbar = np.mean(xs)\n",
    "        median = np.median(xs)\n",
    "        means.append(xbar)\n",
    "        medians.append(median)\n",
    "\n",
    "    print('Experiment 1')\n",
    "    print('rmse xbar', RMSE(means, mu))\n",
    "    print('rmse median', RMSE(medians, mu))"
   ]
  },
  {
   "cell_type": "code",
   "execution_count": 4,
   "metadata": {
    "collapsed": false
   },
   "outputs": [
    {
     "name": "stdout",
     "output_type": "stream",
     "text": [
      "Experiment 1\n",
      "('rmse xbar', 0.38283245975325064)\n",
      "('rmse median', 0.45587137986848314)\n"
     ]
    }
   ],
   "source": [
    "Estimate1()"
   ]
  },
  {
   "cell_type": "markdown",
   "metadata": {},
   "source": [
    "**Results**:  \n",
    "RMSE<sub>sample mean</sub> = 0.37  \n",
    "RMSE<sub>median</sub> = 0.451\n",
    "\n",
    "**Conclusions**:\n",
    "  * If we use the **sample mean** to estimate the mean of the distribution (based on a sample with `n`=7), we'd expect to be off by 0.37 on average (RMSE<sub>sample mean</sub>).\n",
    "  * Using the **median** to estimate the mean yields RMSE of 0.45, confirming that the **sample mean** yields a lower **RMSE** (at least for this example).\n",
    "\n",
    "### Shortcomings of Minimizing MSE\n",
    "Minimizing **MSE** is a nice property, but it's not always the best strategy.  \n",
    "\n",
    "Examples:\n",
    "1. Estimating the Distribution of Wind Speeds at a Building Site.\n",
    "  * If the estimate is *too high*, we might overbuild the structure & increase costs.\n",
    "  * If the estimate is *too low*, building might collapse.\n",
    "  * Reason: cost as a function of error is **not symmetric**\n",
    "2. Roll 3 six-sided dice & predict the total.\n",
    "  * The value that minimizes MSE is 10.5. This is a bad guess as the total of 3 dice is *never* 10.5.\n",
    "  * For this case, you'd want an estimator tha thas the highest chance of being right (**Maximum Likelihood Estimator (MLE)**)\n",
    "  \n",
    "**Maximum Likelihood Estimator** (MLE): an estimator that computes the *point estimate* most likely to be correct"
   ]
  },
  {
   "cell_type": "markdown",
   "metadata": {},
   "source": [
    "## Guess the Variance (σ<sup>2</sup>)\n",
    "Estimating the **variance** of a distribution.\n",
    "\n",
    "### Estimators\n",
    "**Bias** (of an estimator): the tendency of an estimator to be *above or below* the actual value of the parameter, when averaged over repeated experiments\n",
    "  * average error doesn't converge to 0 in the long run\n",
    "\n",
    "**Unbias**: An estimator is unbiased if the expected total (or mean) error (*after many iterations of the estimation game*) is 0.\n",
    "\n",
    "Estimator Approaches:\n",
    "1. Use the **sample variance** (`S`<sup>2</sup>)\n",
    "  * An adequate estimator for large samples\n",
    "  * *Shortcoming*: tends to be too low for *small samples* (**biased estimator**)  \n",
    "    \n",
    "  `S`<sup>2</sup> = (1/`n`) Σ (*x*<sub>i</sub> - $\\bar{x}$)<sup>2</sup>  \n",
    "  \n",
    "2. `S`<sup>2</sup><sub>n-1</sub> = `(1/(n-1)` Σ (*x*<sub>i</sub> - $\\bar{x}$)<sup>1</sup>\n",
    "  * **unbiased estimator** of σ<sup>2</sup>\n",
    "  * Issues: names & symbol are used inconsistently\n",
    "     * \"sample variance\" can refer to either `S`<sup>2</sup> or `S`<sup>2</sup><sub>n-1</sub>\n",
    "     * symbol `S`<sup>2</sup> used for either or both\n",
    "\n",
    "### `MeanError` function\n",
    "`MeanError` computes the **mean error** for a collection of estimates. In other words, it computes the **mean difference** between the *estimates* & *actual value*."
   ]
  },
  {
   "cell_type": "code",
   "execution_count": 5,
   "metadata": {
    "collapsed": true
   },
   "outputs": [],
   "source": [
    "def MeanError(estimates, actual):\n",
    "    \"\"\"Computes the mean error of a sequence of estimates.\n",
    "\n",
    "    estimate: sequence of numbers\n",
    "    actual: actual value\n",
    "\n",
    "    returns: float mean error\n",
    "    \"\"\"\n",
    "    errors = [estimate-actual for estimate in estimates]\n",
    "    return np.mean(errors)"
   ]
  },
  {
   "cell_type": "markdown",
   "metadata": {},
   "source": [
    "### `Estimate2` function\n",
    "The function simulates experiments where we try to *estimate the variance of a population* based on a sample with size `n`=7. We run `iters`=1000 experiments & 2 estimates for each sample: `S`<sup>2</sup> and `S`<sup>2</sup><sub>n-1</sub>"
   ]
  },
  {
   "cell_type": "code",
   "execution_count": 6,
   "metadata": {
    "collapsed": false
   },
   "outputs": [
    {
     "name": "stdout",
     "output_type": "stream",
     "text": [
      "('mean error biased', -0.15568372749359582)\n",
      "('mean error unbiased', -0.014964348742528482)\n"
     ]
    }
   ],
   "source": [
    "def Estimate2(n=7, iters=1000):\n",
    "    mu = 0\n",
    "    sigma = 1\n",
    "\n",
    "    estimates1 = []\n",
    "    estimates2 = []\n",
    "    for _ in range(iters):\n",
    "        xs = [random.gauss(mu, sigma) for i in range(n)]\n",
    "        biased = np.var(xs)\n",
    "        unbiased = np.var(xs, ddof=1) # ddof = delta degrees of freedom\n",
    "        estimates1.append(biased)\n",
    "        estimates2.append(unbiased)\n",
    "\n",
    "    print('mean error biased', MeanError(estimates1, sigma**2))\n",
    "    print('mean error unbiased', MeanError(estimates2, sigma**2))\n",
    "    \n",
    "Estimate2()"
   ]
  },
  {
   "cell_type": "markdown",
   "metadata": {},
   "source": [
    "**Conclusions**\n",
    "  * The **mean error** for `S`<sup>2</sup> is *non-zero* (`S`<sup>2</sup>=-0.13), *which suggests that it is biased*.\n",
    "\n",
    "  * The **mean error** for `S`<sup>2</sup><sub>n-1</sub> is *close to 0* and gets even smaller if we increase `iters`. (`S`<sup>2</sup><sub>n-1</sub>=0.015)\n",
    "    * As `m` increases, we expect the **mean error** to approach 0.\n",
    "  "
   ]
  },
  {
   "cell_type": "markdown",
   "metadata": {},
   "source": [
    "Properties like **MSE** & **bias** are long-term expectations based on *many iterations* of the estimation game. By running simulations like the ones in this chapter, we can compare estimators & check whether they have desired properties.\n",
    "\n",
    "But when you apply an estimator to *real data*, you just get 1 estimate. It would not be meaningful to say that the estimate is **unbiased**. Being **unbiased** is a property of the estimator, not the estimate.\n",
    "\n",
    "Steps:\n",
    "  1. Choose an **estimator** with appropriate properties\n",
    "  2. Use the estimator to **generate an estimate**\n",
    "  3. Characterize the uncertainty of the uncertainty."
   ]
  },
  {
   "cell_type": "code",
   "execution_count": 9,
   "metadata": {
    "collapsed": true
   },
   "outputs": [],
   "source": [
    "def find_nearest(seq, value):\n",
    "    idx = (np.abs(np.array(seq)-value)).argmin()\n",
    "    return idx\n",
    "\n",
    "\n",
    "def cdf_percentile(perc):\n",
    "    \"\"\"Returns the value that corresponds to percentile.\n",
    "\n",
    "    Args:\n",
    "        perc: number in the range [0, 100]\n",
    "\n",
    "    Returns:\n",
    "        number value\n",
    "    \"\"\"\n",
    "    wgt = []\n",
    "    for prob in p:\n",
    "        wgt += [perc / 100.0]\n",
    "    return wgt"
   ]
  },
  {
   "cell_type": "markdown",
   "metadata": {},
   "source": [
    "## Sampling Distributions\n",
    "**Sampling Distribution** (of estimator): the distribution of a statistic if an experiment is repeated many times\n",
    "  * shows how much the estimates would vary if we ran the experiment over & over.\n",
    "\n",
    "#### Scenario\n",
    "Want to know the average weight of the adult female gorillas, but it's harmful to gorillas to weigh them. Fortunately, it's acceptable to weigh a *sample* of 9 gorillas. Assumming the population of the preserve is well known, so we can choose a *representative sample* of adult females.\n",
    "\n",
    "We could use the **sample mean**($\\bar{x}$) to *estimate the unknown **population mean** (μ)*.\n",
    "\n",
    "Having weighed 9 female gorillas, you might find that $\\bar{x}$ = 90 kg & **sample standard deviation** (`S`) is 7.5 kg. \n",
    "\n",
    "The sample mean is an **unbiased estimator** of **μ** & in the long run, it *minimizes **MSE***. Thus, reporting a single estimate that summarizes the results would be 90 kg.\n",
    "\n",
    "**Problem**\n",
    "How confident can you be in the estimate. If you only weigh `n`=9 gorillas out of a much larger population, you might be unlucky & choose the 9 heaviest gorillas *just by chance*. (sampling error)\n",
    "\n",
    "### Sampling Error\n",
    "**Sampling Error**: \n",
    "  * error in an estimate due to the limited size of the sample & variation due to chance\n",
    "  * variation in the estimate caused by random selection\n",
    " \n",
    "To quantify sampling error, we can simulate the sampling process with *hypothetical values* of μ and σ, and see how much $\\bar{x}$ varies.\n",
    "\n",
    "Since we don't know the *actual* values of μ & σ in the population, we'll use the *estimates* $\\bar{x}$ & `S`.\n",
    "\n",
    "**Question**:\n",
    "\"If the actual values of μ & σ were 90 kg & 7.5 kg, and we ran the same experiment many times, how much would the estimated mean ($\\bar{x}$) vary?\n",
    "\n",
    "### `SimulateSample` function\n",
    "`SimulateSample` simulates experiments where we estimate the mean of a population using $\\bar{x}$ and returns a list of the estimates (one from each experiment).\n",
    "\n",
    "Parameters:\n",
    "  * `mu` & `sigma` are *hypothetical* values of the parameters.\n",
    "  * `n` is the sample size (number of gorillas measured)\n",
    "  * `m` is the number of times we run the simulation\n",
    "  \n",
    "Steps (of each iteration):\n",
    "  1. Choose `n` values from a normal distribution with the given parameters. \n",
    "  2. Compute the sample mean ($\\bar{x}$).\n",
    "  3. Run 1000 simulations (`iters`) & then compute the distribution (`cdf`) of the estimates."
   ]
  },
  {
   "cell_type": "code",
   "execution_count": 12,
   "metadata": {
    "collapsed": false
   },
   "outputs": [],
   "source": [
    "def SimulateSample(mu=90, sigma=7.5, n=9, iters=1000):\n",
    "    means = []\n",
    "    for j in range(iters):\n",
    "        xs = np.random.normal(mu, sigma, n)\n",
    "        xbar = np.mean(xs)\n",
    "        means.append(xbar)\n",
    "    return means\n",
    "\n",
    "means = SimulateSample()"
   ]
  },
  {
   "cell_type": "markdown",
   "metadata": {},
   "source": [
    "Here's the \"sampling distribution of the mean\", which shows how much we should expect $\\bar{x}$ to vary from 1 experiment to the next."
   ]
  },
  {
   "cell_type": "code",
   "execution_count": 30,
   "metadata": {
    "collapsed": false
   },
   "outputs": [
    {
     "data": {
      "image/png": "[encoded data removed]",
      "text/plain": [
       "<matplotlib.figure.Figure at 0xdb1fe10>"
      ]
     },
     "metadata": {},
     "output_type": "display_data"
    }
   ],
   "source": [
    "est_cdf = ECDF(means)\n",
    "plt.plot(est_cdf.x, est_cdf.y)\n",
    "plt.xlabel('Sample mean')\n",
    "plt.ylabel('CDF')\n",
    "plt.title('Sampling Distribution of the Estimator')\n",
    "plt.show()"
   ]
  },
  {
   "cell_type": "markdown",
   "metadata": {
    "collapsed": true
   },
   "source": [
    "The mean of the sample means is pretty close to the actual value of μ. Thus, suggesting that the experiment yields the right answer *on average*.\n",
    "\n",
    "After 1000 tries, the *lowest* result is 82 kg & *highest* is 98 kg. This range suggests that the *estimate might be off by as much as 8 kg*."
   ]
  },
  {
   "cell_type": "code",
   "execution_count": 27,
   "metadata": {
    "collapsed": false
   },
   "outputs": [
    {
     "data": {
      "text/plain": [
       "90.059990491326715"
      ]
     },
     "execution_count": 27,
     "metadata": {},
     "output_type": "execute_result"
    }
   ],
   "source": [
    "np.mean(means)"
   ]
  },
  {
   "cell_type": "markdown",
   "metadata": {},
   "source": [
    "### Summarizing Sampling Distribution: 2 Common Methods\n",
    "1. **Standard Error** (SE): a measure of how far we expect the *estimate to be off, on average*.\n",
    "  * The **RMSE** of an estimate, which quantifies variability due to sampling error (but not other soures of error).\n",
    "2. **Confidence Interval**: an interval that represents the expected range of an estimator if an experiment is repeated many times. \n",
    "  * a range that includes a given fraction of the sampling distribution.\n",
    "  * `90% Confidence Interval` is th range frmo the **5th** to the **95th** percentile.\n",
    "\n",
    "##### 90% Confidence Interval\n",
    "** 90% Confidence Interval**: an interval that contains 90% of the values in the sampling distribution.\n",
    "\n",
    "For this sampling distribution, the 90% CI is (86, 94) kg."
   ]
  },
  {
   "cell_type": "code",
   "execution_count": 29,
   "metadata": {
    "collapsed": false
   },
   "outputs": [
    {
     "data": {
      "text/plain": [
       "(85.864957617228384, 94.257302029361739)"
      ]
     },
     "execution_count": 29,
     "metadata": {},
     "output_type": "execute_result"
    }
   ],
   "source": [
    "idx = find_nearest(est_cdf.y, 5/100.0), find_nearest(est_cdf.y, 95/100.0)\n",
    "ci = est_cdf.x[idx[0]], est_cdf.x[idx[1]]\n",
    "ci # range of 90% CI"
   ]
  },
  {
   "cell_type": "markdown",
   "metadata": {},
   "source": [
    "##### Standard Error\n",
    "The **RMSE** of the sample means is called the **Standard Error**.\n",
    "\n",
    "For each simulated experiment, we computed the error ($\\bar{x}$ - μ) & then compute the RMSE. \n",
    "\n",
    "For this example, the standard error is ~ 2.5 kg."
   ]
  },
  {
   "cell_type": "code",
   "execution_count": 28,
   "metadata": {
    "collapsed": false
   },
   "outputs": [
    {
     "data": {
      "text/plain": [
       "2.48993475652211"
      ]
     },
     "execution_count": 28,
     "metadata": {},
     "output_type": "execute_result"
    }
   ],
   "source": [
    "stderr = RMSE(means, 90)\n",
    "stderr"
   ]
  },
  {
   "cell_type": "markdown",
   "metadata": {},
   "source": [
    "#### Confusion between Standard Errors & Confidence Intervals\n",
    "  1. **Standard Error** (SE) is often confused with **standard deviation** (σ).\n",
    "    * **standard deviation** describes the variability in a *measured quantity*. In this example, σ of gorilla weight is `7.5 kg`.\n",
    "    * **standard error** describes variability in an *estimate*. In this example, the SE of the mean (based on 9 measurements) is `2.5 kg`.\n",
    "  2. Misbelief that there's a *90% probability* that the actual parameter (μ) falls in the **90% CI**. *This is NOT true*.\n",
    "\n",
    "**Main Idea**  \n",
    "The **sampling distribution** answers a different question. It gives us a sense of * **how reliable an estimate is** by telling us how much it would **vary*** if you ran the experiment again.\n",
    "\n",
    "**Confidence Intervals** and **Standard Errors** quantify the *variability* in the estimate due to random sampling.\n",
    "  * Quantify the **sampling error**, error due to measuring only *1 part of the population*.\n",
    "\n",
    "Sampling distribution does not account for other sources of error (notably *sampling bias* & *measurement error*)."
   ]
  },
  {
   "cell_type": "markdown",
   "metadata": {},
   "source": [
    "## Sampling Bias\n",
    "#### Scenario\n",
    "Research Question: What is the average weight of women in the city you reside?\n",
    "\n",
    "Sampling Method: It's unlikely that you'd be able to choose a representative sample of women & weigh them. A simple alternative is \"telephone sampling,\" where you choose random numbers from the phone book & call to survey.\n",
    "\n",
    "Telephone sampling has many *limitations*:\n",
    "  * sample is limited to people whose telephone numbers are listed, eliminating people without phones (who might be poorer than average) & people with unlisted numbers (who might be richer).\n",
    "  * sampling during the day may less likely survey people with jobs.\n",
    "  * sampling the person who answers the phone, makes it less likely to sample people who share a phone line.\n",
    "  \n",
    "\n",
    "### Sampling Bias\n",
    "**Sampling Bias**: error in an estimate due to a sampling process that is not representative of the population\n",
    "  \n",
    "Example: If such factors like income, employment, & househouse size are *related* to `weight`(variable being evaluated) - results of the survey are going to be affected by the limitations!  \n",
    "  \n",
    "##### self-selection\n",
    "self-selection is another type of sampling bias. Some people may refuse to answer the questions and if such tendency is related to weight...it affects the results.\n",
    "\n",
    "### Measurement Error\n",
    "**Measurement Error**: error in an estimate due to inaccuracy collecting or recording data.\n",
    "\n",
    "Example: If you *ask* people how much they weigh *as opposed to weighing them*, the results might be inaccurate. Respondents might round up or down or lie about their weight causing *inaccuracies*."
   ]
  },
  {
   "cell_type": "markdown",
   "metadata": {},
   "source": [
    "## Exponential Distributions\n",
    "Estimating an expoential distribution through an estimator `L`.\n",
    "\n",
    "### Estimator `L`\n",
    "In general, the **mean** of an exponential distribution is **1/λ**.  \n",
    "Deriving from this mean, the estimator is: **`L = 1/`$\\bar{x}$**\n",
    " \n",
    " `L` is an estimator of λ. It's not just any estimator, but also the **maximum likelihood estimator**.\n",
    "   * If you want to maximize your chance of guessing λ exactly, `L` is the best approach.\n",
    "\n",
    "#### Issues\n",
    "The **sampling mean** ($\\bar{x}$) is known to not be robust in the *presence of outliers*. Thus, `L` will have the same issue.\n",
    "\n",
    "#### Alternative Solution: Sample Median\n",
    "The median of an exponential distribution is: **median<sub>exp</sub> = ln(2)/`m`**.\n",
    "\n",
    "Deriving from this median, the estimator is: **L<sub>m</sub> = ln(2)/m**"
   ]
  },
  {
   "cell_type": "markdown",
   "metadata": {},
   "source": [
    "### `Estimate3` function\n",
    "`Estimate3` function simulates experiments trying to estimate the **mean of an exponential distribution** using the *mean* & *median* of a sample.\n",
    "\n",
    "Simulation of sampling is conducted with `λ = 2`."
   ]
  },
  {
   "cell_type": "code",
   "execution_count": 47,
   "metadata": {
    "collapsed": false
   },
   "outputs": [
    {
     "name": "stdout",
     "output_type": "stream",
     "text": [
      "('rmse L', 1.092361963918027)\n",
      "('rmse Lm', 1.7007505005130352)\n",
      "('mean error L', 0.34427621025586602)\n",
      "('mean error Lm', 0.46031874902116043)\n"
     ]
    }
   ],
   "source": [
    "def Estimate3(n=7, iters=1000):\n",
    "    lam = 2\n",
    "\n",
    "    means = []\n",
    "    medians = []\n",
    "    for _ in range(iters):\n",
    "        xs = np.random.exponential(1.0/lam, n)\n",
    "        L = 1 / np.mean(xs)\n",
    "        Lm = np.log(2) / thinkstats2.Median(xs)\n",
    "        means.append(L)\n",
    "        medians.append(Lm)\n",
    "        \n",
    "\n",
    "    print('rmse L', RMSE(means, lam))\n",
    "    print('rmse Lm', RMSE(medians, lam))\n",
    "    print('mean error L', MeanError(means, lam))\n",
    "    print('mean error Lm', MeanError(medians, lam))\n",
    "    \n",
    "Estimate3()"
   ]
  },
  {
   "cell_type": "markdown",
   "metadata": {},
   "source": [
    "**Conclusions**\n",
    "  * The **RMSE** is smaller for the *sample mean* (`L`) than for the *sample median* (`L`<sub>m</sub>).\n",
    "  * But neither estimator is *unbiased*. Unfortunately, both estimators appear to be *biased*.\n",
    "    * `L` has a **mean error** = 0.33.\n",
    "    * `L`<sub>m</sub> has a **mean error** = 0.45.\n",
    "    * Neither converges to 0 as `m` increases.\n",
    "    \n",
    "It turns out that:\n",
    "  * $\\bar{x}$ is an *unbiased* estimator of the **mean of the distribution**.\n",
    "  * `L` is NOT *unbiased* estimator of λ."
   ]
  }
 ],
 "metadata": {
  "kernelspec": {
   "display_name": "Python 2",
   "language": "python",
   "name": "python2"
  },
  "language_info": {
   "codemirror_mode": {
    "name": "ipython",
    "version": 2
   },
   "file_extension": ".py",
   "mimetype": "text/x-python",
   "name": "python",
   "nbconvert_exporter": "python",
   "pygments_lexer": "ipython2",
   "version": "2.7.10"
  }
 },
 "nbformat": 4,
 "nbformat_minor": 0
}
