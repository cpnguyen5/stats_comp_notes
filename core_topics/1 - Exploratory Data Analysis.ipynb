{
 "cells": [
  {
   "cell_type": "markdown",
   "metadata": {},
   "source": [
    "# Exploratory Data Analysis"
   ]
  },
  {
   "cell_type": "markdown",
   "metadata": {},
   "source": [
    "### Anecdotal Evidence\n",
    "\n",
    "**Problem**: reports based on anecdotal evidence are based on *unpublished* & usually *personal* data\n",
    "\n",
    "Reasons for Failure:\n",
    "  * **Small Number of Observations**: difference from observation is *probably small compared to natural variation*\n",
    "  * **Selection Bias**: process of selecting data would bias the results\n",
    "  * **Confirmation Bias**: more likely to contribute examples to confirm their stance or counter an opposing claim\n",
    "  * **Inaccuracy**: anecdotes are often personal stories & often misremembered, misrepresented, repeatedly inaccurately, etc.\n",
    "  \n",
    "Examples: **Birth of First Babies**\n",
    "People provide data to support *their own claims*.\n",
    "  * \"My 2 friends that have given birth recently to their first babies, BOTH went almost 2 weeks overdue before going into labor or being induced.\"\n",
    "  * \"My first one came 2 weeks late and now I think the second one is going to be 2 weeks early.\"\n"
   ]
  },
  {
   "cell_type": "markdown",
   "metadata": {},
   "source": [
    "### A Statistical Approach\n",
    "###### Solution addressing limitations of anecdotes\n",
    "\n",
    "Tools of Statistics: used to reach justifiable conclusions & avoid pitfalls.  \n",
    "Goal is to use collected data to generate statistically valid inferences.\n",
    "\n",
    "  * **Data Collection**\n",
    "  * **Descriptive Statistics**: generate statistics that summarize the data concisely and evaluate different ways to visualize data\n",
    "  * **Exploratory Data Analysis**: look for *patterns, differences*, & *other features* that address the questions we're interested in\n",
    "     * check for inconsistencies\n",
    "     * identify limitations\n",
    "  * **Estimation**: use data from a sample to *estimate characteristics* of the general population\n",
    "  * **Hypothesis Testing**: When we see apparent effects, *like a difference between 2 groups*, we will evaluate whether the effect *might have happened **by chance**.*\n",
    "     \n",
    "**Sampling**\n",
    "  * **sample**: a subset of a population used to collect data\n",
    "  * **representative**: a sample is representative if every member of the population has the same chance of being in the sample.\n",
    "  * **oversampling**: technique of increasing the representation of a sub-population in order to avoid errors due to small sample sizes."
   ]
  },
  {
   "cell_type": "markdown",
   "metadata": {},
   "source": [
    "### Study Types\n",
    "\n",
    "  1. **Cross-Sectional**: snapshot of a group *at a point in time*\n",
    "    * **Cycles**: each repitition of the study\n",
    "    * meant to be **representative**, which means that every member of the target population has an equal chance of being in the sample\n",
    "    * datasets may not be **representative** and deliberately **oversamples** instead\n",
    "      * **Oversampling**: technique of increasing the represnetation of a sub-population to avoid errors due to small sample sizes\n",
    "      * **Ex**: surveying that the number of respondents in each group is *large enough* to draw valid statistical inferences\n",
    "      * **Drawback**: not easy to draw conclusions about the general population based on statistics from the survey\n",
    "  2. **Longitudinal**: observes a group *repeatedly over a period of time*"
   ]
  },
  {
   "cell_type": "markdown",
   "metadata": {
    "collapsed": true
   },
   "source": [
    "### Data Transformation\n",
    "\n",
    "**Data cleaning**: when you import data, you often:\n",
    "  * check for errors\n",
    "  * deal with special values\n",
    "  * convert data into different formats\n",
    "  * perform calculations\n",
    "  \n",
    "Data cleaning are processes that include validating data, identifying errors,\n",
    "\n",
    "**NSFG Examples**\n",
    "  * agepreg: change dtype from centiyears to years\n",
    "  * birthwgt_lb & birthwgt_oz: change special encodings to np.nan using Pandas' **replace** method\n",
    "     * special encodings are non-weight (codes/variab\n",
    "  * totalwgt_lb: create a new column that combines pounds & oz column into a single quantity\n",
    "  "
   ]
  },
  {
   "cell_type": "markdown",
   "metadata": {},
   "source": [
    "### Data Validation\n",
    "\n",
    "When data is exported from 1 source & imported into another, *errors are introduced.* It's important to validate data by:\n",
    "\n",
    "  * **compute basic statistics & compare to published results**\n",
    "    * value counts (bins for each possible value)\n",
    "    \n",
    "  "
   ]
  },
  {
   "cell_type": "markdown",
   "metadata": {},
   "source": [
    "#### Value Counts (Pandas)\n",
    "##### Series.value_counts()\n",
    "http://pandas.pydata.org/pandas-docs/stable/generated/pandas.Series.value_counts.html\n",
    "\n"
   ]
  },
  {
   "cell_type": "code",
   "execution_count": 2,
   "metadata": {
    "collapsed": false
   },
   "outputs": [
    {
     "data": {
      "text/plain": [
       "1    9148\n",
       "2    1862\n",
       "3     120\n",
       "4    1921\n",
       "5     190\n",
       "6     352\n",
       "Name: outcome, dtype: int64"
      ]
     },
     "execution_count": 2,
     "metadata": {},
     "output_type": "execute_result"
    }
   ],
   "source": [
    "# from code.nsfg import *\n",
    "import nsfg\n",
    "preg = nsfg.ReadFemPreg()\n",
    "preg.outcome.value_counts().sort_index()"
   ]
  },
  {
   "cell_type": "code",
   "execution_count": null,
   "metadata": {
    "collapsed": true
   },
   "outputs": [],
   "source": []
  }
 ],
 "metadata": {
  "kernelspec": {
   "display_name": "Python 2",
   "language": "python",
   "name": "python2"
  },
  "language_info": {
   "codemirror_mode": {
    "name": "ipython",
    "version": 2
   },
   "file_extension": ".py",
   "mimetype": "text/x-python",
   "name": "python",
   "nbconvert_exporter": "python",
   "pygments_lexer": "ipython2",
   "version": "2.7.10"
  }
 },
 "nbformat": 4,
 "nbformat_minor": 0
}
