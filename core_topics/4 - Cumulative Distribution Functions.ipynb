{
 "cells": [
  {
   "cell_type": "markdown",
   "metadata": {},
   "source": [
    "# Cumulative Distribution Functions\n"
   ]
  },
  {
   "cell_type": "markdown",
   "metadata": {},
   "source": [
    "## The Limits of PMFs\n",
    "\n",
    "PMFs work well if the *number of values is small*. \n",
    "As the number of values increases, the probability associated with each value *gets smaller* and the **effect of random noise increases**.\n",
    "\n",
    "### Example: Distribution of Birth Weights (totalwgt_lb)\n",
    "Compare distribution of birth weight between `Firsts` and `Others` babies.\n",
    "\n",
    "**Interpretation**\n",
    "Overall, these distributions resemble the bell shape of a *normal distribution*. \n",
    "  * Many values are near the mean.\n",
    "  * Few values are much higher and lower.\n",
    "\n",
    "Parts of this figure are hard to interpret; there are many spikes & valleys and some apparent differences between the distributions. It's difficult to tell which of these features are meaningful.\n",
    "\n",
    "**Main Point**: Some patterns are hard to compare visually (**limitations of PMFs**).\n",
    "\n",
    "### Solution to Limitations\n",
    "\n",
    "1. **Binning the Data**: divide the range of values into *non-overlapping intervals* and counting the number of values in each bin.\n",
    "  * Binning can be useful, but tricky to get the size of bins right. Should be big enough to *smooth out noise*, but not big enough to *smooth out useful info*.  \n",
    "  \n",
    "2. **Cumulative Distribution Function (CDF)**  \n",
    "Pre-req: Percentiles"
   ]
  },
  {
   "cell_type": "code",
   "execution_count": 1,
   "metadata": {
    "collapsed": true
   },
   "outputs": [],
   "source": [
    "import numpy as np\n",
    "import pandas as pd\n",
    "import matplotlib.pyplot as plt\n",
    "import nsfg\n",
    "from statsmodels.distributions.empirical_distribution import ECDF\n",
    "\n",
    "%matplotlib inline"
   ]
  },
  {
   "cell_type": "code",
   "execution_count": 2,
   "metadata": {
    "collapsed": true
   },
   "outputs": [],
   "source": [
    "def pmf(dictionary):\n",
    "    \"\"\"Takes a histogram dictionary (frequency) and \n",
    "    create a PMF dictionary (probabilities).\n",
    "    \n",
    "    \"\"\"\n",
    "    n = float(sum(dictionary.values()))\n",
    "    pmf_d = {}\n",
    "\n",
    "    for x,freq in dictionary.items():\n",
    "        pmf_d[x] = freq / n # probability\n",
    "    return pmf_d"
   ]
  },
  {
   "cell_type": "code",
   "execution_count": 8,
   "metadata": {
    "collapsed": false
   },
   "outputs": [
    {
     "data": {
      "image/png": "[encoded data removed]",
      "text/plain": [
       "<matplotlib.figure.Figure at 0xb1ddfd0>"
      ]
     },
     "metadata": {},
     "output_type": "display_data"
    }
   ],
   "source": [
    "preg = nsfg.ReadFemPreg() # DataFrame\n",
    "live = preg[preg.outcome==1] # filter for live births\n",
    "firsts = live[live.birthord == 1]\n",
    "others = live[live.birthord != 1]\n",
    "firsts_totalwgt = firsts['totalwgt_lb']\n",
    "others_totalwgt = others['totalwgt_lb']\n",
    "\n",
    "# Histogram - frequency\n",
    "firsts_freq_wgt = firsts['totalwgt_lb'].value_counts().to_dict() # dictionary of values-freq\n",
    "others_freq_wgt = others['totalwgt_lb'].value_counts().to_dict() # dictionary of values-freq\n",
    "\n",
    "# PMF\n",
    "firsts_pmf_wgt = pmf(firsts_freq_wgt)\n",
    "others_pmf_wgt = pmf(others_freq_wgt)\n",
    "\n",
    "# Plot\n",
    "fig = plt.figure(figsize=(12, 4))\n",
    "bar_width = 0.05\n",
    "others_pmf_val=[bar_width + x for x in others_pmf_wgt.keys()]\n",
    "\n",
    "plt.bar(firsts_pmf_wgt.keys(), firsts_pmf_wgt.values(), width=bar_width, \n",
    "        color='blue', label='firsts')\n",
    "plt.bar(others_pmf_val, others_pmf_wgt.values(), width=bar_width, \n",
    "        color='green', label='others')\n",
    "plt.xlabel('weight (pounds)')\n",
    "plt.ylabel('probability')\n",
    "plt.title('Birth Weight PMF')\n",
    "plt.legend(loc='upper left')\n",
    "\n",
    "plt.show()\n",
    "plt.close(fig)"
   ]
  },
  {
   "cell_type": "markdown",
   "metadata": {},
   "source": [
    "## Percentiles\n",
    "\n",
    "### Percentile Rank\n",
    "**Percentile Rank**: The percentage of values in a distribution that are *less than or equal to* a given value.  \n",
    "  * rank of a value (*percentile*) in a given set of values.  \n",
    "  \n",
    "\n",
    "**Percentile**: The value associated with a given percentile rank.\n",
    "\n",
    "#### Calculate Percentile Rank\n",
    "\n",
    "`PercentileRank` function computes the percentile rank of a value (*your_score*) relative to the values in the sequence *scores*."
   ]
  },
  {
   "cell_type": "code",
   "execution_count": 24,
   "metadata": {
    "collapsed": true
   },
   "outputs": [],
   "source": [
    "def PercentileRank(scores, your_score):\n",
    "    count = 0\n",
    "    for score in scores:\n",
    "        if score <= your_score: # count is scores less than yours\n",
    "            count += 1\n",
    "    \n",
    "    percentile_rank = 100.0 * count / len(scores)\n",
    "    return percentile_rank"
   ]
  },
  {
   "cell_type": "markdown",
   "metadata": {},
   "source": [
    "#### Example: Standardized Test Scores\n",
    "Results of standardized test scores are in the form of a raw score & a percentile rank. **Percentile rank** is the fraction of people who scored equal to or lower than you. \n",
    "\n",
    "90% percentile rank = you did as well as or better than 90% of the people."
   ]
  },
  {
   "cell_type": "code",
   "execution_count": 33,
   "metadata": {
    "collapsed": false
   },
   "outputs": [
    {
     "name": "stdout",
     "output_type": "stream",
     "text": [
      "Percentile Rank of my score is: 80.0 %\n"
     ]
    }
   ],
   "source": [
    "scores_lst = [55,66,77,88,99]\n",
    "my_score = 88\n",
    "\n",
    "p_rank = PercentileRank(scores_lst, my_score)\n",
    "print \"Percentile Rank of my score is:\", p_rank, \"%\""
   ]
  },
  {
   "cell_type": "markdown",
   "metadata": {},
   "source": [
    "### Percentile (Value)\n",
    "Easier to find the **percentile rank** given the value (**percentile**), but harder to find the value given the percentile rank.\n",
    "\n",
    "#### Calculate Percentile\n",
    "#### Method 1: `Percentile`\n",
    "Sort the values & search for the desired value.\n",
    "\n",
    "`Percentile` function takes a percentile rank and computes the corresponding percentile."
   ]
  },
  {
   "cell_type": "code",
   "execution_count": 26,
   "metadata": {
    "collapsed": true
   },
   "outputs": [],
   "source": [
    "def Percentile(scores, percentile_rank):\n",
    "    \"\"\"Function takes two parameters, a sequence of \n",
    "    values (scores) and a percentile rank, to \n",
    "    calculate the corresponding value (percentile).\"\"\"\n",
    "    \n",
    "    scores.sort()\n",
    "    for score in scores:\n",
    "        if PercentileRank(scores, score) >= percentile_rank:\n",
    "            return score"
   ]
  },
  {
   "cell_type": "code",
   "execution_count": 27,
   "metadata": {
    "collapsed": false
   },
   "outputs": [
    {
     "data": {
      "text/plain": [
       "77"
      ]
     },
     "execution_count": 27,
     "metadata": {},
     "output_type": "execute_result"
    }
   ],
   "source": [
    "percentile = Percentile(scores_lst, 50.0) #find percentile rank 50%\n",
    "percentile"
   ]
  },
  {
   "cell_type": "markdown",
   "metadata": {},
   "source": [
    "The median is the `50th percentile`, which is 77.\n",
    "  * The `50th percentile` is the value with a `percentile rank 50`.\n",
    "  * `percentile`/value = 77"
   ]
  },
  {
   "cell_type": "markdown",
   "metadata": {},
   "source": [
    "##### Method 2: `Percentile2`\n",
    "More efficient method of computing the **percentile** (value).  \n",
    "Use the **percentile rank** to compute the *index* of the corresponding percentile.\n",
    "\n",
    "  \n",
    "  \n",
    "**Floor Division Operator**: `//`  \n",
    "Division that takes the `floor` of the result (truncate)."
   ]
  },
  {
   "cell_type": "code",
   "execution_count": 28,
   "metadata": {
    "collapsed": true
   },
   "outputs": [],
   "source": [
    "def Percentile2(scores, percentile_rank):\n",
    "    scores.sort()\n",
    "    index = percentile_rank * (len(scores)-1) // 100\n",
    "    return scores[index]"
   ]
  },
  {
   "cell_type": "code",
   "execution_count": 29,
   "metadata": {
    "collapsed": false
   },
   "outputs": [
    {
     "data": {
      "text/plain": [
       "77"
      ]
     },
     "execution_count": 29,
     "metadata": {},
     "output_type": "execute_result"
    }
   ],
   "source": [
    "percentile2 = Percentile2(scores_lst, 50)\n",
    "percentile2"
   ]
  },
  {
   "cell_type": "markdown",
   "metadata": {},
   "source": [
    "## Cumulative Distribution Function (CDF)\n",
    "**CDF**: function that maps from a value (*percentile*) to its *percentile rank*.\n",
    "\n",
    "The CDF is a function of `x`, where `x` is any value that might appear in the distribution. To evaluate `CDF(x)` for a particular value of `x`, we compute the fraction of values in the distribution *less than or equal to `x`*.\n",
    "\n",
    "`EvalCDF` function is almost identical to `PercentileRank`, except that the result is a **probability** in the range 0-1 rather than a percentile rank (range 0.0 -100.0).\n",
    "  * Calculates the **CDF** for a given value.\n",
    "  \n",
    "\n",
    "**Percentile (Value) <-- --> Percentile Rank / CDF** (Probability)\n",
    "  * *p* = `CDF(x)`  \n",
    "    Given a value (*percentile*) `x`, compute the probability `p`\n",
    "  * **Inverse CDF**  \n",
    "    Given a probability `p`, compute the corresponding value (*percentile*) `x`."
   ]
  },
  {
   "cell_type": "markdown",
   "metadata": {},
   "source": [
    "### Method 1: statsmodels ECDF\n",
    "\n",
    "http://statsmodels.sourceforge.net/0.6.0/generated/statsmodels.distributions.empirical_distribution.ECDF.html\n",
    "\n",
    "`from statsmodels.distributions.empirical_distribution import ECDF`\n",
    "\n",
    "**Example**"
   ]
  },
  {
   "cell_type": "code",
   "execution_count": 12,
   "metadata": {
    "collapsed": false
   },
   "outputs": [
    {
     "data": {
      "text/plain": [
       "array([ 0. ,  0.2,  0.4,  0.6,  0.8,  1. ])"
      ]
     },
     "execution_count": 12,
     "metadata": {},
     "output_type": "execute_result"
    }
   ],
   "source": [
    "sample = [1,2,2,3,5]\n",
    "samp_ecdf =ECDF(sample)\n",
    "samp_ecdf.y"
   ]
  },
  {
   "cell_type": "markdown",
   "metadata": {},
   "source": [
    "### Method 2: `EvalCDF` function"
   ]
  },
  {
   "cell_type": "code",
   "execution_count": 4,
   "metadata": {
    "collapsed": true
   },
   "outputs": [],
   "source": [
    "def EvalCDF(sample, x):\n",
    "    count = 0.0\n",
    "    for value in sample:\n",
    "        if value <= x:\n",
    "            count += 1\n",
    "    prob = count / len(sample) # float division\n",
    "    return prob"
   ]
  },
  {
   "cell_type": "markdown",
   "metadata": {},
   "source": [
    "#### Example"
   ]
  },
  {
   "cell_type": "code",
   "execution_count": 5,
   "metadata": {
    "collapsed": false
   },
   "outputs": [
    {
     "data": {
      "text/plain": [
       "0.0"
      ]
     },
     "execution_count": 5,
     "metadata": {},
     "output_type": "execute_result"
    }
   ],
   "source": [
    "sample = [1,2,2,3,5]\n",
    "\n",
    "cdf_0 = EvalCDF(sample,0)\n",
    "cdf_0"
   ]
  },
  {
   "cell_type": "markdown",
   "metadata": {},
   "source": [
    "Able to evaluate the CDF for any value, *not just the values in the sample*. If `x` is less than the *smallest* value in the sample, `CDF(0)` is 0."
   ]
  },
  {
   "cell_type": "code",
   "execution_count": 6,
   "metadata": {
    "collapsed": false
   },
   "outputs": [
    {
     "name": "stdout",
     "output_type": "stream",
     "text": [
      "CDF(6) =  1.0\n"
     ]
    }
   ],
   "source": [
    "cdf_6 = EvalCDF(sample, 6)\n",
    "\n",
    "print \"CDF(6) = \", cdf_6"
   ]
  },
  {
   "cell_type": "markdown",
   "metadata": {},
   "source": [
    "Any `x` value greater than the largest value in the sample has `CDF(x)` = 1."
   ]
  },
  {
   "cell_type": "code",
   "execution_count": 39,
   "metadata": {
    "collapsed": false
   },
   "outputs": [
    {
     "name": "stdout",
     "output_type": "stream",
     "text": [
      "CDF(1) =  0.2\n",
      "CDF(2) =  0.6\n",
      "CDF(3) =  0.8\n",
      "CDF(4) =  0.8\n",
      "CDF(5) =  1.0\n"
     ]
    }
   ],
   "source": [
    "cdf_1 = EvalCDF(sample,1)\n",
    "cdf_2 = EvalCDF(sample,2)\n",
    "cdf_3 = EvalCDF(sample,3)\n",
    "cdf_4 = EvalCDF(sample,4)\n",
    "cdf_5 = EvalCDF(sample,5)\n",
    "\n",
    "print \"CDF(1) = \", cdf_1\n",
    "print \"CDF(2) = \", cdf_2\n",
    "print \"CDF(3) = \", cdf_3\n",
    "print \"CDF(4) = \", cdf_4\n",
    "print \"CDF(5) = \", cdf_5"
   ]
  },
  {
   "cell_type": "code",
   "execution_count": 45,
   "metadata": {
    "collapsed": false,
    "scrolled": true
   },
   "outputs": [
    {
     "name": "stdout",
     "output_type": "stream",
     "text": [
      "[1, 2, 2, 3, 5]\n"
     ]
    },
    {
     "data": {
      "image/png": "[encoded data removed]",
      "text/plain": [
       "<matplotlib.figure.Figure at 0xf2f95c0>"
      ]
     },
     "metadata": {},
     "output_type": "display_data"
    }
   ],
   "source": [
    "print sample # percentiles\n",
    "cdf_y = [cdf_1, cdf_2, cdf_2, cdf_3, cdf_5] # CDF (percentile rank)\n",
    "plt.step(sample, cdf_y)\n",
    "plt.xlabel('x')\n",
    "plt.ylabel('CDF')\n",
    "plt.xlim([0, 6])\n",
    "plt.ylim([0, 1.2])\n",
    "plt.title('Step Function - CDF')\n",
    "plt.show()\n",
    "plt.close(fig)"
   ]
  },
  {
   "cell_type": "markdown",
   "metadata": {},
   "source": [
    "## Representing CDFs\n",
    "\n",
    "**Step** or **line plots** of CDFs provide a visual representation of the *shape of distribution*. These visualizations provide more information, more clearly, than **PMFs**.\n",
    "\n",
    "#### CDFs vs. PMFs\n",
    "  * **CDF**: probability [0, 1] of value's *percentile rank*\n",
    "  * **PMF**: probability [0, 1] of value's *frequency*.\n",
    "\n",
    "**How to Interpret CDF Plots**  \n",
    "  * Look up percentiles.\n",
    "  * Common values appear as steep or vertical sections of the CDF plot."
   ]
  },
  {
   "cell_type": "code",
   "execution_count": 46,
   "metadata": {
    "collapsed": false
   },
   "outputs": [
    {
     "data": {
      "image/png": "[encoded data removed]",
      "text/plain": [
       "<matplotlib.figure.Figure at 0xb1ddc88>"
      ]
     },
     "metadata": {},
     "output_type": "display_data"
    }
   ],
   "source": [
    "preg = nsfg.ReadFemPreg() # DataFrame\n",
    "live = preg[preg.outcome==1] # filter for live births\n",
    "live_prglngth = live['prglngth'].sort_values()\n",
    "\n",
    "prglngth_cdf = [] # accumulate each value's CDF\n",
    "for value in live_prglngth:\n",
    "    prglngth_cdf += [EvalCDF(live_prglngth, value)]\n",
    "\n",
    "plt.step(live_prglngth, prglngth_cdf, label='prglngth')\n",
    "plt.xlabel('Pregnancy Length (weeks)')\n",
    "plt.ylabel('CDF (probability)') # prob of percentile rank\n",
    "plt.title('Pregnancy Length')\n",
    "plt.legend(loc='upper left')\n",
    "plt.show()"
   ]
  },
  {
   "cell_type": "markdown",
   "metadata": {},
   "source": [
    "**Interpretation**\n",
    "  * 10% of pregnancies are *shorter* than 36 weeks.\n",
    "  * 90% of pregnancies are *shorter* than 41 weeks.\n",
    "  * Mode is at 39 weeks (steep/vertical section).\n",
    "  * Few values < 30 weeks, CDF in this range is flat.\n"
   ]
  },
  {
   "cell_type": "markdown",
   "metadata": {},
   "source": [
    "## Comparing CDFs\n",
    "CDFs are useful for *comparing distributions*. For example, comparing CDF plots.\n",
    "\n",
    "#### Example: Birth Weights (Firsts vs. Others)"
   ]
  },
  {
   "cell_type": "code",
   "execution_count": 47,
   "metadata": {
    "collapsed": false
   },
   "outputs": [
    {
     "data": {
      "image/png": "[encoded data removed]",
      "text/plain": [
       "<matplotlib.figure.Figure at 0xb45ccc0>"
      ]
     },
     "metadata": {},
     "output_type": "display_data"
    }
   ],
   "source": [
    "preg = nsfg.ReadFemPreg() # DataFrame\n",
    "live = preg[preg.outcome==1] # filter for live births\n",
    "firsts = live[live.birthord == 1]\n",
    "others = live[live.birthord != 1]\n",
    "\n",
    "# sort\n",
    "firsts_wgt = firsts['totalwgt_lb'].sort_values()\n",
    "others_wgt = others['totalwgt_lb'].sort_values()\n",
    "\n",
    "# accumulate each value's CDF\n",
    "wgt_cdf_f = [] \n",
    "for value in firsts_wgt:\n",
    "    wgt_cdf_f += [EvalCDF(firsts_wgt, value)]\n",
    "\n",
    "wgt_cdf_o = []\n",
    "for value in others_wgt:\n",
    "    wgt_cdf_o += [EvalCDF(others_wgt, value)]\n",
    "\n",
    "# Plot (x: value - weight, y: CDF - probability)\n",
    "plt.step(firsts_wgt, wgt_cdf_f, label='first')\n",
    "plt.step(others_wgt, wgt_cdf_o, label='other')\n",
    "plt.xlabel('weight (pounds)')\n",
    "plt.ylabel('CDF (probability)')\n",
    "plt.xlim([0,12])\n",
    "plt.title('Birth Weight')\n",
    "plt.legend(loc='upper left')\n",
    "plt.show()"
   ]
  },
  {
   "cell_type": "markdown",
   "metadata": {},
   "source": [
    "**Interpretation**\n",
    "Comparing the shape of the CDF distributions between the 2 groups (`Firsts` vs. `Others`) is more apparent.\n",
    "  * Firsts babies are *slightly lighter* throughout the distribution.\n",
    "  * Firsts babies have a larger discrepancy above the mean."
   ]
  },
  {
   "cell_type": "markdown",
   "metadata": {},
   "source": [
    "## Percentile-based Statistics\n",
    "Can use CDF to compute percentile-based statistics by first computing *percentiles* & *percentile ranks*.  \n",
    "  * **Percentile Rank**: `100.0 * CDF(x)`\n",
    "  * **Percentile**: corresponding value for each CDF\n",
    "    * alternative: given `PercentileRank`, compute corresponding value `x` (percentile)."
   ]
  },
  {
   "cell_type": "code",
   "execution_count": 14,
   "metadata": {
    "collapsed": true
   },
   "outputs": [],
   "source": [
    "def cdf_to_PercentileRank(sample, x):\n",
    "    \"\"\"Returns the percentile rank of the value x.\n",
    "\n",
    "    x: potential value in the CDF\n",
    "\n",
    "    returns: percentile rank in the range 0 to 100\n",
    "    \"\"\"\n",
    "    return EvalCdf(sample, x) * 100.0"
   ]
  },
  {
   "cell_type": "markdown",
   "metadata": {},
   "source": [
    "##### Percentiles used to compute percentile-beased summary statistics\n",
    "  * **Median**: also known as the 50th percentile (50% percentile rank)\n",
    "    * divides the distribution in half\n",
    "    * Like the **mean**, the median is a measure of the **central tendency** of a distribution.\n",
    "  * **Interquartile Range (IQR)**: measure of the spread of distribution\n",
    "     * the *difference between the 75th & 25th percentiles*.\n",
    "     * interval range from **25th** to **75th** percentile   \n",
    "     `iqr = (25th percentile/value, 75th percentile/value)`\n",
    "\n",
    "**Percentiles** are often used to summarize the *shape of a distribution*.\n"
   ]
  },
  {
   "cell_type": "markdown",
   "metadata": {},
   "source": [
    "## Random Numbers\n"
   ]
  },
  {
   "cell_type": "markdown",
   "metadata": {},
   "source": [
    "What would distribution look like, if a *random sample* was taken from a population and then looking up the percentile rank of each value?\n",
    "\n",
    "Sampling *with replacement* (same value can be chose more than once) produces a **uniform distribution**.\n",
    "  * 10% of the sample is below the 10th percentile, 20% is below the 20th percentile, ...\n",
    "\n"
   ]
  },
  {
   "cell_type": "markdown",
   "metadata": {},
   "source": [
    "### Example: Random Sampling of Birth Weights\n",
    "Suppose we choose a *random sample with replacement* from the population of live births. Then, look up the **percentile rank** of their birth weights (\"their\" = random sample/sub-set).\n",
    "\n",
    "What will the distribution look like?"
   ]
  },
  {
   "cell_type": "code",
   "execution_count": 71,
   "metadata": {
    "collapsed": false
   },
   "outputs": [
    {
     "data": {
      "image/png": "[encoded data removed]",
      "text/plain": [
       "<matplotlib.figure.Figure at 0x179c99e8>"
      ]
     },
     "metadata": {},
     "output_type": "display_data"
    }
   ],
   "source": [
    "import thinkstats2\n",
    "import thinkplot\n",
    "\n",
    "# Compute CDF based on original sample\n",
    "weights = live.totalwgt_lb\n",
    "live_cdf = thinkstats2.Cdf(weights, label='live')\n",
    "\n",
    "# Generate random sample with replacement\n",
    "sample = np.random.choice(weights, 100, replace=True) # generate random sample\n",
    "ranks = [live_cdf.PercentileRank(x) for x in sample] # calculate percentile rank of random sample\n",
    "\n",
    "rank_cdf = thinkstats2.Cdf(ranks)\n",
    "thinkplot.Cdf(rank_cdf)\n",
    "thinkplot.Config(xlabel='Percentile rank', ylabel='CDF')"
   ]
  },
  {
   "cell_type": "code",
   "execution_count": 72,
   "metadata": {
    "collapsed": false
   },
   "outputs": [
    {
     "name": "stdout",
     "output_type": "stream",
     "text": [
      "None\n"
     ]
    },
    {
     "data": {
      "image/png": "[encoded data removed]",
      "text/plain": [
       "<matplotlib.figure.Figure at 0x179da5c0>"
      ]
     },
     "metadata": {},
     "output_type": "display_data"
    }
   ],
   "source": [
    "weights = live['totalwgt_lb'].sort_values() # original sample -- CDF calculation\n",
    "\n",
    "# accumulate each value's CDF from the random sample\n",
    "sample = np.random.choice(weights, 100, replace=True) # generate random sample\n",
    "\n",
    "wgt_cdf = [] \n",
    "for value in sample:\n",
    "    wgt_cdf += [EvalCDF(weights, value)]\n",
    "    \n",
    "# Convert CDFs to Percentile Ranks\n",
    "rand_rank = []\n",
    "for cdf_val in  wgt_cdf:\n",
    "    rand_rank += [cdf_to_PercentileRank(cdf_val)]\n",
    "    \n",
    "print rand_rank.sort()\n",
    "# Calculate CDF of random generated sample based on Percentile Rank\n",
    "rand_cdf = []\n",
    "for rand_val in rand_rank:\n",
    "    rand_cdf += [EvalCDF(rand_rank, rand_val)]\n",
    "\n",
    "# Plot (x: value - weight, y: CDF - probability)\n",
    "plt.step(rand_rank, rand_cdf)\n",
    "plt.xlabel('Percentile Rank')\n",
    "plt.ylabel('CDF (probability)')\n",
    "plt.title('Birth Weight')\n",
    "plt.show()"
   ]
  },
  {
   "cell_type": "markdown",
   "metadata": {},
   "source": [
    "## Comparing Percentile Ranks\n",
    "\n",
    "**Percentile Ranks** ar useful for comparing measurements *across different groups*.\n",
    "\n",
    "### Example: Compare Marathon Races by Groups (Age)\n",
    "To compare people in different age groups, you can convert race times to **percentile ranks**.\n",
    "\n",
    "**Goal**: If person A's percentile rank for his race time was 90% in the age group (40-49), what would his time (value) have to be  to maintain that percentile for the next age group (50-59) in 10 years?\n",
    "\n",
    "##### Find Percentile based on Race Position for Age Group 40-49\n",
    "Person A came in 16th place out of 256. What is his percentile for that age group in the race?\n",
    "\n",
    "**Tip**: Use **percentile**/value (race position) to find **percentile rank**.\n",
    "\n",
    "Percentile Rank enables fair comparison across different groups as it describes their position relative to the distribution of their groups."
   ]
  },
  {
   "cell_type": "code",
   "execution_count": 88,
   "metadata": {
    "collapsed": true
   },
   "outputs": [],
   "source": [
    "def PositionToPercentile(position, sample_size):\n",
    "    beat = sample_size - position + 1 # position to beat racers\n",
    "    percentile = 100.0 * beat / sample_size\n",
    "    return percentile"
   ]
  },
  {
   "cell_type": "code",
   "execution_count": 92,
   "metadata": {
    "collapsed": false
   },
   "outputs": [
    {
     "data": {
      "text/plain": [
       "94.140625"
      ]
     },
     "execution_count": 92,
     "metadata": {},
     "output_type": "execute_result"
    }
   ],
   "source": [
    "PositionToPercentile(16, 256)"
   ]
  },
  {
   "cell_type": "markdown",
   "metadata": {},
   "source": [
    "Person A was in the 94% percentile (94% percentile rank) by having a race tie with a position of 16th (value)"
   ]
  },
  {
   "cell_type": "markdown",
   "metadata": {},
   "source": [
    "#### Find Position (value) based on Percentile\n",
    "Person A wants to maintain his percentile when he races in the next age group in 10 years for that race. What must his race position be?\n",
    "\n",
    "This race had 171 people.\n",
    "\n",
    "**Tip**: Use **percentile rank** to compute equivalent **percentile**/value (race position) in the new group."
   ]
  },
  {
   "cell_type": "code",
   "execution_count": 93,
   "metadata": {
    "collapsed": true
   },
   "outputs": [],
   "source": [
    "def PercentileToPosition(percentile, sample_size):\n",
    "    beat = percentile * sample_size / 100.0\n",
    "    position = sample_size - beat + 1\n",
    "    return position"
   ]
  },
  {
   "cell_type": "code",
   "execution_count": 94,
   "metadata": {
    "collapsed": false
   },
   "outputs": [
    {
     "data": {
      "text/plain": [
       "11.259999999999991"
      ]
     },
     "execution_count": 94,
     "metadata": {},
     "output_type": "execute_result"
    }
   ],
   "source": [
    "PercentileToPosition(94, 171)"
   ]
  },
  {
   "cell_type": "markdown",
   "metadata": {},
   "source": [
    "Person A must come at 11th position (percentile/value) to maintain his percentile rank."
   ]
  }
 ],
 "metadata": {
  "kernelspec": {
   "display_name": "Python 2",
   "language": "python",
   "name": "python2"
  },
  "language_info": {
   "codemirror_mode": {
    "name": "ipython",
    "version": 2
   },
   "file_extension": ".py",
   "mimetype": "text/x-python",
   "name": "python",
   "nbconvert_exporter": "python",
   "pygments_lexer": "ipython2",
   "version": "2.7.11"
  }
 },
 "nbformat": 4,
 "nbformat_minor": 2
}
