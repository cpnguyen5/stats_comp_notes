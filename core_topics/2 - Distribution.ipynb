{
 "cells": [
  {
   "cell_type": "markdown",
   "metadata": {},
   "source": [
    "# Distributions"
   ]
  },
  {
   "cell_type": "markdown",
   "metadata": {},
   "source": [
    "**Distribution**: description of the variable\n",
    "  * reporting the values that appear in the dataset\n",
    "  * how many times each value appears\n",
    "\n",
    "Distribution is one of the best ways to describe a variable (*defining its values*).\n",
    "\n",
    "**Types of Distribution**:\n",
    "  * **Normal**:\n",
    "    * bell-shaped\n",
    "    * aka Gaussian distribution\n",
    "\n",
    "**Histogram**: graph that shows the *frequency* of each value\n",
    "  * most common representation of a distribution\n",
    "  * **frequency** means the *number of times* the value appears\n",
    "  * complete description of a sample's distribution allows us to reconstruct the values in the sample (although not in their original order)\n",
    "  * views distribution in class intervals (grouped data)\n",
    "  \n",
    "** Key Terms**:\n",
    "  * ** Mode**: most common value"
   ]
  },
  {
   "cell_type": "markdown",
   "metadata": {},
   "source": [
    "## Compute Frequencies"
   ]
  },
  {
   "cell_type": "markdown",
   "metadata": {},
   "source": [
    "### Method 1: Python Dictionaries\n",
    "\n",
    "Use dictionary to compute frequencies.\n",
    "\n",
    "#### Dictionary's get() method\n",
    "https://www.tutorialspoint.com/python/dictionary_get.htm\n",
    "\n",
    "**dict.get(key, default=None)**  \n",
    "The method get() returns a value for the given key. If key is not available then returns default value None.\n",
    "\n",
    "  * **key** - This is the Key to be searched in the dictionary.\n",
    "\n",
    "  * **default** - This is the Value to be returned in case key does not exist."
   ]
  },
  {
   "cell_type": "code",
   "execution_count": 4,
   "metadata": {
    "collapsed": false
   },
   "outputs": [
    {
     "name": "stdout",
     "output_type": "stream",
     "text": [
      "{0: 2, 1: 1, 2: 2, 3: 1}\n"
     ]
    }
   ],
   "source": [
    "t=[0,1,2,3,0,2]\n",
    "\n",
    "hist_d = {}\n",
    "for x in t: # t is a sequence of values\n",
    "        hist_d[x] = hist_d.get(x, 0) + 1 # dict get method to count each value\n",
    "\n",
    "print hist_d"
   ]
  },
  {
   "cell_type": "markdown",
   "metadata": {},
   "source": [
    "### Method 2: Counter class\n",
    "\n",
    "  * Counter class defined in collections module\n",
    "  * Counter object - subclass of dictionary"
   ]
  },
  {
   "cell_type": "code",
   "execution_count": 5,
   "metadata": {
    "collapsed": false
   },
   "outputs": [
    {
     "name": "stdout",
     "output_type": "stream",
     "text": [
      "Counter({0: 2, 2: 2, 1: 1, 3: 1})\n"
     ]
    }
   ],
   "source": [
    "from collections import Counter\n",
    "counter = Counter (t)\n",
    "\n",
    "print counter"
   ]
  },
  {
   "cell_type": "markdown",
   "metadata": {},
   "source": [
    "### Method 3: Pandas value_counts() method"
   ]
  },
  {
   "cell_type": "code",
   "execution_count": 6,
   "metadata": {
    "collapsed": false
   },
   "outputs": [
    {
     "data": {
      "text/plain": [
       "0    2\n",
       "1    1\n",
       "2    2\n",
       "3    1\n",
       "Name: value, dtype: int64"
      ]
     },
     "execution_count": 6,
     "metadata": {},
     "output_type": "execute_result"
    }
   ],
   "source": [
    "import pandas as pd\n",
    "df = pd.DataFrame(t,columns=['value'])\n",
    "df.value.value_counts().sort_index()"
   ]
  },
  {
   "cell_type": "markdown",
   "metadata": {},
   "source": [
    "## Plotting Histogram"
   ]
  },
  {
   "cell_type": "code",
   "execution_count": 8,
   "metadata": {
    "collapsed": true
   },
   "outputs": [],
   "source": [
    "%matplotlib inline"
   ]
  },
  {
   "cell_type": "markdown",
   "metadata": {},
   "source": [
    "### Method 1: pyplot.hist()\n",
    "\n",
    "`plt.hist()` takes the sequence as the input, partitions it by the `bin` parameter, and counts the frequency for each `bin`."
   ]
  },
  {
   "cell_type": "code",
   "execution_count": 14,
   "metadata": {
    "collapsed": false
   },
   "outputs": [
    {
     "data": {
      "image/png": "[encoded data removed]",
      "text/plain": [
       "<matplotlib.figure.Figure at 0xc2c9400>"
      ]
     },
     "metadata": {},
     "output_type": "display_data"
    }
   ],
   "source": [
    "import matplotlib.pyplot as plt\n",
    "\n",
    "plt.hist(t, bins=4, # partitions the sequence into 5 bins/categories\n",
    "         facecolor='green', \n",
    "         alpha=0.50) #transparency\n",
    "\n",
    "# labels\n",
    "plt.title(\"Histogram\")\n",
    "plt.xlabel('Values')\n",
    "plt.ylabel('Frequency')\n",
    "\n",
    "plt.show()"
   ]
  },
  {
   "cell_type": "markdown",
   "metadata": {},
   "source": [
    "### Method 2: plt.bar()\n",
    "`plt.bar()` takes two data arguments, each value (`x`) and their respective frequencies (`y`). Thus requiring, the computation of a sequence's frequency (histogram). \n",
    "\n",
    "The function does not bin the values to calculate their frequencies, unlike `plt.hist()`."
   ]
  },
  {
   "cell_type": "code",
   "execution_count": 15,
   "metadata": {
    "collapsed": false
   },
   "outputs": [
    {
     "data": {
      "image/png": "[encoded data removed]",
      "text/plain": [
       "<matplotlib.figure.Figure at 0xc3f2dd8>"
      ]
     },
     "metadata": {},
     "output_type": "display_data"
    }
   ],
   "source": [
    "val = hist_d.keys() # plt.bar left param = x coordinates\n",
    "freq = hist_d.values() # plt.bar height param = y coordinates/freq \n",
    "\n",
    "plt.bar(val, freq, width=0.9, color='green', align='center')\n",
    "plt.xlabel('Values')\n",
    "plt.ylabel('Frequency')\n",
    "plt.title('Histogram')\n",
    "\n",
    "plt.show()"
   ]
  },
  {
   "cell_type": "markdown",
   "metadata": {},
   "source": [
    "## Exercise - NSFG Dataset"
   ]
  },
  {
   "cell_type": "markdown",
   "metadata": {},
   "source": [
    "### Birthweight in Ounces ('birthweight_oz')\n",
    "\n",
    "Compute the histogram or frequencies for each possible birthweight value for live babies."
   ]
  },
  {
   "cell_type": "code",
   "execution_count": 17,
   "metadata": {
    "collapsed": false
   },
   "outputs": [
    {
     "name": "stdout",
     "output_type": "stream",
     "text": [
      "0.0     1037\n",
      "1.0      408\n",
      "2.0      603\n",
      "3.0      533\n",
      "4.0      525\n",
      "5.0      535\n",
      "6.0      709\n",
      "7.0      501\n",
      "8.0      756\n",
      "9.0      505\n",
      "10.0     475\n",
      "11.0     557\n",
      "12.0     555\n",
      "13.0     487\n",
      "14.0     475\n",
      "15.0     378\n",
      "Name: birthwgt_oz, dtype: int64\n"
     ]
    }
   ],
   "source": [
    "import nsfg\n",
    "\n",
    "preg = nsfg.ReadFemPreg() # DataFrame\n",
    "live = preg[preg.outcome==1] # filter for live births\n",
    "birthoz_freq = live['birthwgt_oz'].value_counts().sort_index() # freq of birth weight\n",
    "print birthoz_freq"
   ]
  },
  {
   "cell_type": "markdown",
   "metadata": {},
   "source": [
    "#### Plot the Histogram"
   ]
  },
  {
   "cell_type": "code",
   "execution_count": 18,
   "metadata": {
    "collapsed": false,
    "scrolled": true
   },
   "outputs": [
    {
     "data": {
      "image/png": "[encoded data removed]",
      "text/plain": [
       "<matplotlib.figure.Figure at 0xbc52128>"
      ]
     },
     "metadata": {},
     "output_type": "display_data"
    }
   ],
   "source": [
    "val = birthoz_freq.keys() # keys\n",
    "freq = birthoz_freq.values # frequency\n",
    "\n",
    "plt.bar(val, freq, width=0.9, align='center', label='birthweight_oz')\n",
    "plt.xlabel('ounces')\n",
    "plt.ylabel('frequency')\n",
    "plt.title('Histogram of Birthewight')\n",
    "\n",
    "plt.legend() # show legend\n",
    "plt.show()"
   ]
  },
  {
   "cell_type": "markdown",
   "metadata": {
    "collapsed": true
   },
   "source": [
    "#### Interpretation\n",
    "\n",
    "In theory, we expect the distribution to be *uniform* (all values have same frequency). Instead, **0** is more common than other values and **1** & **15** are less common. (Unusual to have a newborn weigh 0 oz) This may be due to respondents *rounding off birth weights* closer to an integer value.\n",
    "\n"
   ]
  },
  {
   "cell_type": "markdown",
   "metadata": {},
   "source": [
    "### Mother's Age @ end of pregnancy ('agepreg')\n",
    "Compute the histogram or frequencies for each possible age of mothers' at the end of their pregnancy."
   ]
  },
  {
   "cell_type": "code",
   "execution_count": 26,
   "metadata": {
    "collapsed": false
   },
   "outputs": [
    {
     "name": "stdout",
     "output_type": "stream",
     "text": [
      "10.0      2\n",
      "11.0      1\n",
      "12.0      1\n",
      "13.0     14\n",
      "14.0     43\n",
      "15.0    128\n",
      "16.0    242\n",
      "17.0    398\n",
      "18.0    546\n",
      "19.0    559\n",
      "20.0    638\n",
      "21.0    646\n",
      "22.0    557\n",
      "23.0    593\n",
      "24.0    561\n",
      "25.0    512\n",
      "26.0    517\n",
      "27.0    489\n",
      "28.0    449\n",
      "29.0    395\n",
      "30.0    396\n",
      "31.0    339\n",
      "32.0    279\n",
      "33.0    220\n",
      "34.0    175\n",
      "35.0    138\n",
      "36.0     99\n",
      "37.0     83\n",
      "38.0     55\n",
      "39.0     34\n",
      "40.0     21\n",
      "41.0     14\n",
      "42.0      2\n",
      "43.0      1\n",
      "44.0      1\n",
      "Name: agepreg, dtype: int64\n"
     ]
    }
   ],
   "source": [
    "import numpy as np\n",
    "\n",
    "preg = nsfg.ReadFemPreg() # DataFrame\n",
    "live = preg[preg.outcome==1] # filter for live births\n",
    "agepreg = live['agepreg'].apply(np.floor) # applies np.floor to round down age\n",
    "agepreg_freq = agepreg.value_counts().sort_index() # freq of age\n",
    "print agepreg_freq"
   ]
  },
  {
   "cell_type": "markdown",
   "metadata": {},
   "source": [
    "#### Plot the histogram"
   ]
  },
  {
   "cell_type": "code",
   "execution_count": 27,
   "metadata": {
    "collapsed": false
   },
   "outputs": [
    {
     "data": {
      "image/png": "[encoded data removed]",
      "text/plain": [
       "<matplotlib.figure.Figure at 0xc75abe0>"
      ]
     },
     "metadata": {},
     "output_type": "display_data"
    }
   ],
   "source": [
    "val = agepreg_freq.keys() # keys\n",
    "freq = agepreg_freq.values # frequency\n",
    "\n",
    "plt.bar(val, freq, width=0.9, align='center', label='agepreg')\n",
    "plt.xlabel('age')\n",
    "plt.ylabel('frequency')\n",
    "plt.title(\"Histogram of Mother's Age @ end of pregnancy\")\n",
    "\n",
    "plt.legend() # show legend\n",
    "plt.show()"
   ]
  },
  {
   "cell_type": "markdown",
   "metadata": {},
   "source": [
    "Pandas' method `.idxmax()` returns the **index** of the max value of that series."
   ]
  },
  {
   "cell_type": "code",
   "execution_count": 28,
   "metadata": {
    "collapsed": false
   },
   "outputs": [
    {
     "data": {
      "text/plain": [
       "21.0"
      ]
     },
     "execution_count": 28,
     "metadata": {},
     "output_type": "execute_result"
    }
   ],
   "source": [
    "agepreg.value_counts().idxmax()"
   ]
  },
  {
   "cell_type": "markdown",
   "metadata": {},
   "source": [
    "#### Interpretation\n",
    "\n",
    "**Mode** is 21 years. Distribution is very roughly bell-shaped, but in this case the tail extends farther to the right than left.\n",
    "\n",
    "Most mothers are in their 20s, fewer in their 30s."
   ]
  },
  {
   "cell_type": "markdown",
   "metadata": {},
   "source": [
    "### Pregnancy Length ('prglngth')"
   ]
  },
  {
   "cell_type": "code",
   "execution_count": 29,
   "metadata": {
    "collapsed": false
   },
   "outputs": [
    {
     "name": "stdout",
     "output_type": "stream",
     "text": [
      "0        1\n",
      "4        1\n",
      "9        1\n",
      "13       1\n",
      "17       2\n",
      "18       1\n",
      "19       1\n",
      "20       1\n",
      "21       2\n",
      "22       7\n",
      "23       1\n",
      "24      13\n",
      "25       3\n",
      "26      35\n",
      "27       3\n",
      "28      32\n",
      "29      21\n",
      "30     138\n",
      "31      27\n",
      "32     115\n",
      "33      49\n",
      "34      60\n",
      "35     311\n",
      "36     321\n",
      "37     455\n",
      "38     607\n",
      "39    4693\n",
      "40    1116\n",
      "41     587\n",
      "42     328\n",
      "43     148\n",
      "44      46\n",
      "45      10\n",
      "46       1\n",
      "47       1\n",
      "48       7\n",
      "50       2\n",
      "Name: prglngth, dtype: int64\n"
     ]
    }
   ],
   "source": [
    "preg = nsfg.ReadFemPreg() # DataFrame\n",
    "live = preg[preg.outcome==1] # filter for live births\n",
    "prglngth = live['prglngth']\n",
    "prglngth_freq = prglngth.value_counts().sort_index() # freq of pregnancy lengths\n",
    "print prglngth_freq"
   ]
  },
  {
   "cell_type": "code",
   "execution_count": 30,
   "metadata": {
    "collapsed": false
   },
   "outputs": [
    {
     "data": {
      "image/png": "[encoded data removed]",
      "text/plain": [
       "<matplotlib.figure.Figure at 0x14120400>"
      ]
     },
     "metadata": {},
     "output_type": "display_data"
    }
   ],
   "source": [
    "val = prglngth_freq.keys() # keys\n",
    "freq = prglngth_freq.values # frequency\n",
    "\n",
    "plt.bar(val, freq, width=0.9, align='center', label='prglngth')\n",
    "plt.xlabel('age')\n",
    "plt.ylabel('frequency')\n",
    "plt.title(\"Histogram of Pregnancy Length\")\n",
    "\n",
    "plt.legend(loc='upper left') # show legend\n",
    "plt.show()"
   ]
  },
  {
   "cell_type": "code",
   "execution_count": 32,
   "metadata": {
    "collapsed": false
   },
   "outputs": [
    {
     "data": {
      "text/plain": [
       "39"
      ]
     },
     "execution_count": 32,
     "metadata": {},
     "output_type": "execute_result"
    }
   ],
   "source": [
    "prglngth.value_counts().idxmax()"
   ]
  },
  {
   "cell_type": "markdown",
   "metadata": {},
   "source": [
    "#### Interpretation\n",
    "\n",
    "**Mode** is 39 weeks. The left tail is longer than the right -- early babies are common, but pregnancies seldom go past 43 weeks (doctor's intervene if so).\n"
   ]
  },
  {
   "cell_type": "markdown",
   "metadata": {},
   "source": [
    "## Outliers\n",
    "\n",
    "**Histograms** easily identify most common values and the shape of the distribution. Unfortunately, *rare values are NOT always visible*.\n",
    "\n",
    "**Tip**: Always check for outliers before going on.\n",
    "  * **Outliers**: extreme values that might be errors in measurement & recording or accurate reports of rare events\n",
    "  "
   ]
  },
  {
   "cell_type": "markdown",
   "metadata": {},
   "source": [
    "### Domain Knowledge\n",
    "Best way to handle outliers depends on domain knowledge.\n",
    "\n",
    "\n",
    "### Ex: Pregnancy Lengths for Live Births\n",
    "\n",
    "**Lowest Values**:\n",
    "values < 10 weeks are certainly errors (not possible) -- most likely hinting at the outcome being incorrectly coded.\n",
    "\n",
    "**Values 10-30 weeks** are hard to be sure of validity. Some may be errors, but some may represent premature babies.  \n",
    "\n",
    "**Values > 30** are probably legitimate. (plausible)  \n",
    "  * **Value 43 weeks** is common because *induced labor* is recommended if a pregnancy exceeds 42 weeks.\n",
    "  * **50 weeks** seems medically unlikely\n",
    "  \n"
   ]
  },
  {
   "cell_type": "code",
   "execution_count": 33,
   "metadata": {
    "collapsed": false
   },
   "outputs": [
    {
     "name": "stdout",
     "output_type": "stream",
     "text": [
      "[ 0  4  9 13 17 17 18 19 20 21]\n"
     ]
    }
   ],
   "source": [
    "low_prglngth = live['prglngth'].sort_values().values\n",
    "\n",
    "print low_prglngth[:10]"
   ]
  },
  {
   "cell_type": "code",
   "execution_count": 34,
   "metadata": {
    "collapsed": false
   },
   "outputs": [
    {
     "name": "stdout",
     "output_type": "stream",
     "text": [
      "[48 48 48 48 48 50 50] \n",
      "\n",
      "43    148\n",
      "44     46\n",
      "45     10\n",
      "46      1\n",
      "47      1\n",
      "48      7\n",
      "50      2\n",
      "Name: prglngth, dtype: int64\n"
     ]
    }
   ],
   "source": [
    "preg = nsfg.ReadFemPreg() # DataFrame\n",
    "live = preg[preg.outcome==1] # filter for live births\n",
    "prglngth = live['prglngth']\n",
    "\n",
    "hi_prglngth = prglngth.sort_values().values\n",
    "print hi_prglngth[-7:], '\\n'\n",
    "\n",
    "hi_prglngth_count = live['prglngth'].value_counts().sort_index()[-7:]\n",
    "print hi_prglngth_count"
   ]
  },
  {
   "cell_type": "markdown",
   "metadata": {},
   "source": [
    "## Plotting Multiple Distributions\n",
    "\n",
    "Histograms are useful because they make the *most frequent values* immediately apparent. However, they are **NOT** the best choice for comparing multiple distributions.\n",
    "\n",
    "#### Ex: Distribution of 1st babies vs. Others\n",
    "\n",
    "There are fewer \"first\" born babies than others, so some of the apparent differences are due to *sample sizes*."
   ]
  },
  {
   "cell_type": "code",
   "execution_count": 35,
   "metadata": {
    "collapsed": false,
    "scrolled": true
   },
   "outputs": [
    {
     "data": {
      "image/png": "[encoded data removed]",
      "text/plain": [
       "<matplotlib.figure.Figure at 0xb9d9c50>"
      ]
     },
     "metadata": {},
     "output_type": "display_data"
    }
   ],
   "source": [
    "preg = nsfg.ReadFemPreg() # DataFrame\n",
    "live = preg[preg.outcome==1] # filter for live births\n",
    "firsts = live[live.birthord == 1]\n",
    "firsts_prglngth = firsts['prglngth']\n",
    "\n",
    "others = live[live.birthord != 1]\n",
    "others_prglngth = others['prglngth']\n",
    "\n",
    "plt.hist([firsts_prglngth, others_prglngth], # sequence of sequences - plt.hist treats each as separate histogram\n",
    "         label=['firsts','others'])\n",
    "plt.xlim((0,46))\n",
    "plt.legend(loc='upper left')\n",
    "plt.show()"
   ]
  },
  {
   "cell_type": "markdown",
   "metadata": {},
   "source": [
    "## Summarizing Distributions\n",
    "\n",
    "Summarize distributions w/ some *descriptive statistics*:\n",
    "  * **Central Tendency**: Do the values tend to cluster around a particular point?\n",
    "     * a characteristic of a sample or population\n",
    "     * intuitively, it's an average or typical value\n",
    "  * **Modes**: Is there more than 1 cluster?\n",
    "     * the most, or one of the most, frequent value(s) in a sample\n",
    "  * **Spread**: How much variability is there in the values?\n",
    "    * a measure of how *spread out* the values in a distribution are\n",
    "  * **Tails**: How quickly do the probabilities drop off as we move away from the modes?\n",
    "    * the part of a distribution at the high & low *extremes*,\n",
    "  * **Outliers**: Are there extreme values far from the modes?\n",
    "    * a value far from the central tendency\n",
    "    \n",
    "Summary stats are designed to answer such questions.\n",
    "\n",
    "**Summary Statistics**: statistics that quantifies some aspect of a distribution (*descriptive stats*). \n",
    "Summary stats are stats designed to answer such questions.\n",
    "  * **Mean** is the most common summary stat, meant to describe the *central tendency* of the distribution.\n",
    "    * sum of the values / number of values\n",
    "  * **Standard Deviation**: a summary statistic used to measure the spread\n",
    "    * square root of variance\n",
    "  * **Variance**: a summary statistic often used to quantify spread\n",
    "  * **Effect Size**: a summary statistic intended to quantify the size of an effect, like a *difference between groups*. \n",
    "\n",
    "### Mean vs. Average\n",
    "\"**Mean**\" & \"**Average** are often used interchangeably\n",
    "  * **Mean** of a sample is the summary statistic computed by the formula (sum of values / number of values)\n",
    "  * **Average** is one of several summary statistics you might choose to describe a central tendency\n",
    "  \n",
    " \n",
    "#### Example of Good/Bad Use Cases of Mean as a Summary Statistic to Describe\n",
    "  * **Good**: Mean of apples' weight is representative of what most apples in the sample would weigh.\n",
    "  * **Bad**: Mean of pumpkins would not be a good representation of what most pumpkins in the sample would weigh since they have more variation. If the sample average weight was 100 lbs, this is misleading since there is no typical pumpkin.\n",
    "    * Need **Variance** as an additional summary statistic to provide better representation."
   ]
  },
  {
   "cell_type": "markdown",
   "metadata": {},
   "source": [
    "## Variance\n",
    "\n",
    "A summary statistic intended to describe the **variability** or **spread** of a distribution.\n",
    "\n",
    "**Variance** is the mean squared deviation. Likewise, the *square root* of variance is the **standard deviation** (deviation from the mean).\n",
    "\n",
    "#### Computation using Pandas' data structures\n",
    "Pandas has methods to compute **mean, variance, & standard deviation**.\n",
    "\n",
    "mean = df.**mean()**  \n",
    "variance = df.**var()**  \n",
    "std_dev = df.**std()**  \n",
    "\n",
    "#### Examples\n",
    "  1. For all live births, the **mean pregnancy length** is 38.6 weeks & **standard deviation** is 2.7 weeks. This means that we can expect *deviations* of 2-3 weeks to be common.\n",
    "  \n",
    "  2. **Variance** of pregnancy length is 7.3, which is hard to interpret given the units are weeks^2 (\"square weeks). Variance is useful in some calculations, but *not a good summary statistic*.\n"
   ]
  },
  {
   "cell_type": "markdown",
   "metadata": {},
   "source": [
    "## Effect Size\n",
    "\n",
    "**Effect Size** is a summary statistic intended to describe *the size of an effect*. For example, the difference b/w 2 groups, one choice is the difference in the means.\n",
    "\n",
    "#### Example: Mean Pregnancy Length\n",
    "The mean pregnancy length for *first babies* is 38.601; for *other babies* it is 38.523. The difference is **0.078 weeks** (~ 13 hours). The difference is about 0.2%, a fraction of the typical pregnancy length.\n",
    "\n",
    "Assumming this estimate is accurate, such difference would have **no** practical consequences. "
   ]
  },
  {
   "cell_type": "code",
   "execution_count": 33,
   "metadata": {
    "collapsed": false
   },
   "outputs": [
    {
     "data": {
      "text/plain": [
       "0.078037266777549519"
      ]
     },
     "execution_count": 33,
     "metadata": {},
     "output_type": "execute_result"
    }
   ],
   "source": [
    "firsts.prglngth.mean() - others.prglngth.mean()"
   ]
  },
  {
   "cell_type": "markdown",
   "metadata": {},
   "source": [
    "### Alternative Method: Cohen's d statistic\n",
    "Alternative method to convey the **size of effect** by comparing the *difference between* groups to the *variability within* groups. The difference in means are measured n *standard deviations*.\n",
    "\n",
    "d = (mean_group1 - mean_group2) / (pooled std)\n",
    "\n",
    "#### Python Code"
   ]
  },
  {
   "cell_type": "code",
   "execution_count": 34,
   "metadata": {
    "collapsed": true
   },
   "outputs": [],
   "source": [
    "def CohenEffectSize(group1, group2):\n",
    "    \"\"\"Computes Cohen's effect size for two groups.\n",
    "    \n",
    "    group1: Series or DataFrame\n",
    "    group2: Series or DataFrame\n",
    "    \n",
    "    returns: float if the arguments are Series;\n",
    "             Series if the arguments are DataFrames\n",
    "    \"\"\"\n",
    "    diff = group1.mean() - group2.mean()\n",
    "\n",
    "    var1 = group1.var()\n",
    "    var2 = group2.var()\n",
    "    n1, n2 = len(group1), len(group2)\n",
    "\n",
    "    pooled_var = (n1 * var1 + n2 * var2) / (n1 + n2)\n",
    "    d = diff / np.sqrt(pooled_var)\n",
    "    return d"
   ]
  },
  {
   "cell_type": "code",
   "execution_count": 35,
   "metadata": {
    "collapsed": false
   },
   "outputs": [
    {
     "name": "stdout",
     "output_type": "stream",
     "text": [
      "The difference in means is: 0.028879 standard deviations.\n"
     ]
    }
   ],
   "source": [
    "import math\n",
    "\n",
    "preg = nsfg.ReadFemPreg() # DataFrame\n",
    "live = preg[preg.outcome==1] # filter for live births\n",
    "firsts = live[live.birthord == 1]\n",
    "firsts_prglngth = firsts['prglngth']\n",
    "\n",
    "others = live[live.birthord != 1]\n",
    "others_prglngth = others['prglngth']\n",
    "\n",
    "d = CohenEffectSize(firsts_prglngth, others_prglngth)\n",
    "print \"The difference in means is: %f standard deviations.\" % (d)"
   ]
  }
 ],
 "metadata": {
  "kernelspec": {
   "display_name": "Python 2",
   "language": "python",
   "name": "python2"
  },
  "language_info": {
   "codemirror_mode": {
    "name": "ipython",
    "version": 2
   },
   "file_extension": ".py",
   "mimetype": "text/x-python",
   "name": "python",
   "nbconvert_exporter": "python",
   "pygments_lexer": "ipython2",
   "version": "2.7.11"
  }
 },
 "nbformat": 4,
 "nbformat_minor": 2
}
