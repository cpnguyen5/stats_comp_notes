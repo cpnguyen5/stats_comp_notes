{
 "cells": [
  {
   "cell_type": "markdown",
   "metadata": {},
   "source": [
    "# Chapter 11: Regression"
   ]
  },
  {
   "cell_type": "code",
   "execution_count": 1,
   "metadata": {
    "collapsed": true
   },
   "outputs": [],
   "source": [
    "import numpy as np\n",
    "import pandas as pd\n",
    "import matplotlib.pyplot as plt\n",
    "import scipy\n",
    "from scipy import stats\n",
    "import statsmodels.api as sm\n",
    "import statsmodels.formula.api as smf\n",
    "import nsfg\n",
    "\n",
    "%matplotlib inline"
   ]
  },
  {
   "cell_type": "markdown",
   "metadata": {},
   "source": [
    "# Regression\n",
    "\n",
    "**Regression** is the process of *estimating parameters* to fit a model to the data in order to ***predict a quantitative response***.\n",
    "\n",
    "The goal is to describe the relationship between one set of variables (**dependent variables**) and another set (**explanatory variables**).\n",
    "\n",
    "### Parameters: Model Coefficients\n",
    "Coefficients that enable the creation of a model to predict the quantitative response.\n",
    "  * **y-intercept (`β`<sub>0</sub>)**: value of `y` at `x=0`\n",
    "  * **slope (`β`<sub>x</sub>)**: relationship between `x` and `y`  \n",
    "\n",
    "##### Limitations of Correlation\n",
    "Correlation coefficients measure only the strength & sign of a relationship, *but not the slope*. Hence, regression provides more specificty in enabling the *estimation/prediction of `y` using `x` (predictor).\n",
    "\n",
    "### Models\n",
    "\n",
    "#### Problem type\n",
    "|| Continuous | Categorical |\n",
    "|:--|:--:|:--:|\n",
    "|**Supervised**| Regression | Classification |\n",
    "|**Unsupervised**| Dimension Reduction | Clustering |\n",
    "\n",
    "Regression is **supervised** learning, but may involve either *continuous* (regression) or *categorical* (classification responses (`y).\n",
    "  * **Regression**: Linear Regression (simple & multiple)\n",
    "  * **Classification**: Logistic Regression\n",
    "\n",
    "#### Types\n",
    "Regression is an *approach* to model the relationship between 1+ variables. It encompasses *methods* (e.g. Ordinary Least Squares) to estimate the model coefficients.\n",
    "\n",
    "|Model|Dependent Variable (`y`)|Explanatory Variable (`x`)|\n",
    "|:---|:--:|:--:|\n",
    "|**Simple Regression**| 1 (numeric) | 1 |\n",
    "|**Multiple Regression**| 1 (numeric) | multiple |\n",
    "|**Multivariate Regression**| multiple| - |\n",
    "|**Logistic Regression**| 1 (boolean) | - |\n",
    "|**Poisson Regression**| 1 (integer count) | - |\n",
    "\n",
    "1. **Simple Regression**: a regression with only *1 dependent* and *1 explanatory variable*.\n",
    "2. **Multiple Regression**: a regression with *multiple explanatory variables*, but *only 1 dependent variable*\n",
    "3. **Multivariate Regression**: a regression with *multiple dependent variables*.\n",
    "4. **Linear Regression**: a regression based on a linear model.\n",
    "  * relationship between the dependent & explanatory variable is linear\n",
    "  * Method: **Ordinary Least Squares** (Linear Least Squares)\n",
    "  \n",
    "5. **Logistic Regression**: a form of (linear) regression used when the `dependent variable` is *boolean*.\n",
    "6. **Poisson Regression**: a form of regression used when the `dependent variable` is a non-negative integer, usually a count.\n",
    "\n",
    "\n",
    "#### Note: Dependent Variable(s) `y`\n",
    "The dependent variable(s) (`y`) that is predicted based on the regression model (using estimated parameters) can be more than just *numeric*, such as *boolean* or *integer count*.\n",
    "  \n",
    "### Metrics (Goodness of Fit)\n",
    "Validate the model's ability to generalize to new data.\n",
    "  1. **RMSE**: standard deviation of residuals\n",
    "  2. **R<sup>2</sup>**: predictive power\n",
    "    * subject to overfitting"
   ]
  },
  {
   "cell_type": "markdown",
   "metadata": {},
   "source": [
    "### Linear Regression\n",
    "#### Problem Type\n",
    "|| Continuous | Categorical |\n",
    "|:--|:--:|:--:|\n",
    "|**Supervised**| **Regression** | Classification |\n",
    "|**Unsupervised**| Dimension Reduction | Clustering |\n",
    "\n",
    "Linear regression involves the prediction of *continuous* responses (dependent variables) and addresses \"Regression\" problems.\n",
    "\n",
    "##### Method: Ordinary Least Squares\n",
    "**Ordinary Least Squares** (*aka* Linear Least Squares): method for estimating a *linear regression model*.\n",
    "  * a *linear regression* that estimates parameters (`intercept` & `slope`) by minimizing the squared error of the residuals (difference between observed & predicted data).\n",
    "  * uses the **least squares criterion** to find the line (model coefficients) that minimizes the sum of squared errors.\n",
    "\n",
    "Equation:  \n",
    "**`y = β`<sub>0</sub> + `β`<sub>1</sub>`x`<sub>1</sub> `+ β`<sub>2</sub>`x`<sub>2</sub> `+ ε`**\n",
    "\n",
    "Given a sequence of values for `y` and sequences for `x`<sub>1</sub> and `x`<sub>2</sub>, we can determine the parameters `β`<sub>0</sub>, `β`<sub>1</sub>, `β`<sub>2</sub> *that minimize the sum of `ε`<sup>2</sup>*.\n",
    "\n",
    "Variables:\n",
    "  * `y`: dependent variable\n",
    "  * `x`<sub>1</sub>: explanatory variable<sub>1</sub>\n",
    "=  * `x`<sub>2</sub>: explanatory variable<sub>2</sub>\n",
    "  * `β`<sub>0</sub>: intercept\n",
    "  * `β`<sub>1</sub>: slope associated with `x`<sub>1</sub>\n",
    "  * `β`<sub>2</sub>: slope associated wtih `x`<sub>2</sub>\n",
    "  * `ε`: residual due to random variation or other unknown factors (observation noise)\n",
    "\n",
    "**Note**: Ordinary Least Squares is a more *generalized* version of the `LeastSquare` function (see below), generalized to deal with > 1 `explanatory variable`."
   ]
  },
  {
   "cell_type": "markdown",
   "metadata": {},
   "source": [
    "#### Other Considerations\n",
    "**Spurious Relationship**: a relationship between 2 variables that is caused by a statistical artifact or a factor (*not included in the model*) that is related to both variables.\n",
    "\n",
    "*Is there really an effect of `x` (predictor) on `y` (response)? Or is it due to an outside factor that's related to each factor causing the effect."
   ]
  },
  {
   "cell_type": "markdown",
   "metadata": {},
   "source": [
    "# Multiple (Linear) Regression\n",
    "**Multiple Regression** is regression (*estimation of parameters*), using *multiple* explanatory variables (`x`) to predict the quantitative response of *1 dependent variable*.\n",
    "  * an extension of **simple linear regression** to include *multiple features*\n",
    "  \n",
    "**`y = β`<sub>0</sub> + `β`<sub>1</sub>`x`<sub>1</sub> `+ ... + β`<sub>n</sub>`x`<sub>n</sub>`**\n",
    "\n",
    "Variables:\n",
    "  * `x`: each feature (predictors)\n",
    "  * `β`: coefficient for each feature\n",
    "     * `β`<sub>1</sub>: for every one unit increase in `x`<sub>1</sub>, the estimated mean of `y` increases by `β`<sub>1</sub> units, *holding all other predictors' `β` constant*.\n",
    "     * `β`<sub>2</sub>: for every one unit increase in `x`<sub>2</sub>, the estimated mean of `y` increases by `β`<sub>2</sub>, *holding all other predictors' `β` constant*.\n",
    "  * `y`: response (dependent variable)"
   ]
  },
  {
   "cell_type": "markdown",
   "metadata": {},
   "source": [
    "## Computation\n",
    "### StatsModels Package: Ordinary Least Squares (`OLS`)\n",
    "StatsModels' `OLS` method is used for linear regression, *both simple and multiple*.\n",
    "\n",
    "The package contains 2 interfaces that outputs the same results.\n",
    "  1. formulaic interface (**`smf`**):  \n",
    "    `import statsmodels.formula.api as smf`\n",
    "  2. standard interface (**`sm`**):  \n",
    "    `import statsmodels.api as sm`\n",
    "\n",
    "http://statsmodels.sourceforge.net/devel/generated/statsmodels.regression.linear_model.OLS.html\n",
    "`statsmodels.api.ols(y, x)`\n",
    "\n",
    "http://statsmodels.sourceforge.net/devel/example_formulas.html\n",
    "`statsmodels.formula.api.ols(formula='<ys>~<`x<sub>1</sub>`> + ... + <x`<sub>n</sub>`>, data)`\n",
    "\n",
    "**Parameters**:\n",
    "  * `formula`: `ys ~ x`<sub>1</sub> + `x`<sub>2</sub>\n",
    "    * `ys`: dependent variable\n",
    "    * `x`: explanatory variables  \n",
    "  * `data`: pandas DataFrame  \n",
    "\n",
    "**Methods**:\n",
    "  * `.fit()`: fit model to data  \n",
    "     * The `ols.fit()` method *fits the model* to the data, returning `RegressionResults` object that contains the results.\n",
    "  * `.predict()`: uses fitted model to make predictions on new value  \n",
    "\n",
    "**Attributes**:\n",
    "  * `.params`: coefficients (`intercept` & `slope`)\n",
    "     * `.params['Intercept']`: access `y-intercept` coefficient\n",
    "     * `.params['<x>']`: access `slope` coefficient for the given `x`\n",
    "  * `.pvalues['<x>']`: p-value\n",
    "  * `.f_pvalue`: p-value associated with model as whole\n",
    "  * `.rsquared`: R<sup>2</sup> vlaue\n",
    "  * `.resid`: sequence of residuals\n",
    "  * `.fittedvalues`: sequences of fitted values\n",
    "  * `.summary()`: summary of results\n",
    "\n",
    "**Note**: `OLS` expects pandas data structures (inputs)."
   ]
  },
  {
   "cell_type": "markdown",
   "metadata": {},
   "source": [
    "### Example: Sales from Advertisements\n",
    "Each record/row represents a market\n",
    "\n",
    "**`y = β`<sub>0</sub> + `β`<sub>1</sub> `X`<sub>TV</sub> `+ β`<sub>2</sub> `X`<sub>radio</sub>` + β`<sub>3</sub> `X`<sub>newspaper</sub>**\n",
    "\n",
    "*Features* (Explanatory Variables):\n",
    "  1. `TV`: dollar spendings on TV advertisements\n",
    "  2. `Radio`: dollar spendings on radio advertisements\n",
    "  3. `Newspaper`: dollar spendings on newspaper advertisements\n",
    "\n",
    "*Response* (Dependent Variable):\n",
    "  * Sales of Widgets (x1000)"
   ]
  },
  {
   "cell_type": "code",
   "execution_count": 2,
   "metadata": {
    "collapsed": false
   },
   "outputs": [
    {
     "data": {
      "text/html": [
       "<div>\n",
       "<table border=\"1\" class=\"dataframe\">\n",
       "  <thead>\n",
       "    <tr style=\"text-align: right;\">\n",
       "      <th></th>\n",
       "      <th>TV</th>\n",
       "      <th>Radio</th>\n",
       "      <th>Newspaper</th>\n",
       "      <th>Sales</th>\n",
       "    </tr>\n",
       "  </thead>\n",
       "  <tbody>\n",
       "    <tr>\n",
       "      <th>1</th>\n",
       "      <td>230.1</td>\n",
       "      <td>37.8</td>\n",
       "      <td>69.2</td>\n",
       "      <td>22.1</td>\n",
       "    </tr>\n",
       "    <tr>\n",
       "      <th>2</th>\n",
       "      <td>44.5</td>\n",
       "      <td>39.3</td>\n",
       "      <td>45.1</td>\n",
       "      <td>10.4</td>\n",
       "    </tr>\n",
       "    <tr>\n",
       "      <th>3</th>\n",
       "      <td>17.2</td>\n",
       "      <td>45.9</td>\n",
       "      <td>69.3</td>\n",
       "      <td>9.3</td>\n",
       "    </tr>\n",
       "    <tr>\n",
       "      <th>4</th>\n",
       "      <td>151.5</td>\n",
       "      <td>41.3</td>\n",
       "      <td>58.5</td>\n",
       "      <td>18.5</td>\n",
       "    </tr>\n",
       "    <tr>\n",
       "      <th>5</th>\n",
       "      <td>180.8</td>\n",
       "      <td>10.8</td>\n",
       "      <td>58.4</td>\n",
       "      <td>12.9</td>\n",
       "    </tr>\n",
       "  </tbody>\n",
       "</table>\n",
       "</div>"
      ],
      "text/plain": [
       "      TV  Radio  Newspaper  Sales\n",
       "1  230.1   37.8       69.2   22.1\n",
       "2   44.5   39.3       45.1   10.4\n",
       "3   17.2   45.9       69.3    9.3\n",
       "4  151.5   41.3       58.5   18.5\n",
       "5  180.8   10.8       58.4   12.9"
      ]
     },
     "execution_count": 2,
     "metadata": {},
     "output_type": "execute_result"
    }
   ],
   "source": [
    "data = pd.read_csv('http://www-bcf.usc.edu/~gareth/ISL/Advertising.csv', index_col=0)\n",
    "data.head()"
   ]
  },
  {
   "cell_type": "markdown",
   "metadata": {},
   "source": [
    "##### Method 1: `smf.OLS` formula"
   ]
  },
  {
   "cell_type": "code",
   "execution_count": 3,
   "metadata": {
    "collapsed": false
   },
   "outputs": [
    {
     "data": {
      "text/plain": [
       "Intercept    2.938889\n",
       "TV           0.045765\n",
       "Radio        0.188530\n",
       "Newspaper   -0.001037\n",
       "dtype: float64"
      ]
     },
     "execution_count": 3,
     "metadata": {},
     "output_type": "execute_result"
    }
   ],
   "source": [
    "formula = 'Sales~ TV + Radio + Newspaper'\n",
    "model = smf.ols(formula, data=data)\n",
    "results = model.fit()\n",
    "\n",
    "results.params"
   ]
  },
  {
   "cell_type": "code",
   "execution_count": 4,
   "metadata": {
    "collapsed": false
   },
   "outputs": [
    {
     "name": "stdout",
     "output_type": "stream",
     "text": [
      "intercept = 2.939\n",
      "slope (TV) = 0.046\n",
      "slope (radio) = 0.189\n",
      "slope (newspaper) = -0.001\n"
     ]
    }
   ],
   "source": [
    "print \"intercept = %.3f\" % results.params['Intercept']\n",
    "print \"slope (TV) = %.3f\" % results.params['TV']\n",
    "print \"slope (radio) = %.3f\" % results.params['Radio']\n",
    "print \"slope (newspaper) = %.3f\" % results.params['Newspaper']"
   ]
  },
  {
   "cell_type": "markdown",
   "metadata": {},
   "source": [
    "##### Method 2: `sm.OLS` "
   ]
  },
  {
   "cell_type": "code",
   "execution_count": 5,
   "metadata": {
    "collapsed": false
   },
   "outputs": [
    {
     "data": {
      "text/plain": [
       "const        2.938889\n",
       "TV           0.045765\n",
       "Radio        0.188530\n",
       "Newspaper   -0.001037\n",
       "dtype: float64"
      ]
     },
     "execution_count": 5,
     "metadata": {},
     "output_type": "execute_result"
    }
   ],
   "source": [
    "X = data[['TV', 'Radio', 'Newspaper']]\n",
    "y = data['Sales']\n",
    "\n",
    "X = sm.add_constant(X)\n",
    "results2 = sm.OLS(y, X).fit()\n",
    "results2.params"
   ]
  },
  {
   "cell_type": "markdown",
   "metadata": {},
   "source": [
    "**Slopes**:\n",
    "  * β<sub>TV</sub>: For a one unit increase in `TV` advertisements (*predictor*), `Sales` (*response*) increases by 0.046, *controlling all other predictors*. \n",
    "  * β<sub>Radio</sub>: For a one unit increase in `Radio` advertisements (*predictor*), `Sales` (*response*) increases by 0.189, *controlling all other predictors*. \n",
    "  * β<sub>Newspaper</sub>: For a one unit increase in `Newspaper` advertisements (*predictor*), `Sales` (*response*) decreases by 0.001, *controlling all other predictors*. "
   ]
  },
  {
   "cell_type": "markdown",
   "metadata": {},
   "source": [
    "#### Model Equation\n",
    "`y = 2.939 + 0.0458 X`<sub>TV</sub> `+ 0.189 X`<sub>Radio</sub> `+ -0.001 X`<sub>Newspaper</sub>"
   ]
  },
  {
   "cell_type": "code",
   "execution_count": 6,
   "metadata": {
    "collapsed": false
   },
   "outputs": [
    {
     "data": {
      "text/plain": [
       "Intercept    1.267295e-17\n",
       "TV           1.509960e-81\n",
       "Radio        1.505339e-54\n",
       "Newspaper    8.599151e-01\n",
       "dtype: float64"
      ]
     },
     "execution_count": 6,
     "metadata": {},
     "output_type": "execute_result"
    }
   ],
   "source": [
    "results.pvalues"
   ]
  },
  {
   "cell_type": "markdown",
   "metadata": {},
   "source": [
    "**Positive Association** (Predictor(s) & Response)\n",
    "`TV` and `Radio` advertisments have *significant* **p-values**, rejecting their respective H<sub>0</sub>'s.\n",
    "\n",
    "**Negative Association** (Predictor(s) & Response)\n",
    "Whereas, `Newspaper` have large and insignificant **p-values**, *failing* to reject its H<sub>0</sub>. There is no effect of newspaper advertisments on the sale of widgets. The negative association (slope - β<sub>Newspaper</sub>) is irrelevant as the the effect was due to chance."
   ]
  },
  {
   "cell_type": "code",
   "execution_count": 7,
   "metadata": {
    "collapsed": false
   },
   "outputs": [
    {
     "data": {
      "text/plain": [
       "0.89721063817895219"
      ]
     },
     "execution_count": 7,
     "metadata": {},
     "output_type": "execute_result"
    }
   ],
   "source": [
    "results.rsquared"
   ]
  },
  {
   "cell_type": "code",
   "execution_count": 8,
   "metadata": {
    "collapsed": false,
    "scrolled": true
   },
   "outputs": [
    {
     "data": {
      "text/html": [
       "<table class=\"simpletable\">\n",
       "<caption>OLS Regression Results</caption>\n",
       "<tr>\n",
       "  <th>Dep. Variable:</th>          <td>Sales</td>      <th>  R-squared:         </th> <td>   0.897</td>\n",
       "</tr>\n",
       "<tr>\n",
       "  <th>Model:</th>                   <td>OLS</td>       <th>  Adj. R-squared:    </th> <td>   0.896</td>\n",
       "</tr>\n",
       "<tr>\n",
       "  <th>Method:</th>             <td>Least Squares</td>  <th>  F-statistic:       </th> <td>   570.3</td>\n",
       "</tr>\n",
       "<tr>\n",
       "  <th>Date:</th>             <td>Fri, 10 Mar 2017</td> <th>  Prob (F-statistic):</th> <td>1.58e-96</td>\n",
       "</tr>\n",
       "<tr>\n",
       "  <th>Time:</th>                 <td>18:34:57</td>     <th>  Log-Likelihood:    </th> <td> -386.18</td>\n",
       "</tr>\n",
       "<tr>\n",
       "  <th>No. Observations:</th>      <td>   200</td>      <th>  AIC:               </th> <td>   780.4</td>\n",
       "</tr>\n",
       "<tr>\n",
       "  <th>Df Residuals:</th>          <td>   196</td>      <th>  BIC:               </th> <td>   793.6</td>\n",
       "</tr>\n",
       "<tr>\n",
       "  <th>Df Model:</th>              <td>     3</td>      <th>                     </th>     <td> </td>   \n",
       "</tr>\n",
       "<tr>\n",
       "  <th>Covariance Type:</th>      <td>nonrobust</td>    <th>                     </th>     <td> </td>   \n",
       "</tr>\n",
       "</table>\n",
       "<table class=\"simpletable\">\n",
       "<tr>\n",
       "      <td></td>         <th>coef</th>     <th>std err</th>      <th>t</th>      <th>P>|t|</th> <th>[95.0% Conf. Int.]</th> \n",
       "</tr>\n",
       "<tr>\n",
       "  <th>Intercept</th> <td>    2.9389</td> <td>    0.312</td> <td>    9.422</td> <td> 0.000</td> <td>    2.324     3.554</td>\n",
       "</tr>\n",
       "<tr>\n",
       "  <th>TV</th>        <td>    0.0458</td> <td>    0.001</td> <td>   32.809</td> <td> 0.000</td> <td>    0.043     0.049</td>\n",
       "</tr>\n",
       "<tr>\n",
       "  <th>Radio</th>     <td>    0.1885</td> <td>    0.009</td> <td>   21.893</td> <td> 0.000</td> <td>    0.172     0.206</td>\n",
       "</tr>\n",
       "<tr>\n",
       "  <th>Newspaper</th> <td>   -0.0010</td> <td>    0.006</td> <td>   -0.177</td> <td> 0.860</td> <td>   -0.013     0.011</td>\n",
       "</tr>\n",
       "</table>\n",
       "<table class=\"simpletable\">\n",
       "<tr>\n",
       "  <th>Omnibus:</th>       <td>60.414</td> <th>  Durbin-Watson:     </th> <td>   2.084</td>\n",
       "</tr>\n",
       "<tr>\n",
       "  <th>Prob(Omnibus):</th> <td> 0.000</td> <th>  Jarque-Bera (JB):  </th> <td> 151.241</td>\n",
       "</tr>\n",
       "<tr>\n",
       "  <th>Skew:</th>          <td>-1.327</td> <th>  Prob(JB):          </th> <td>1.44e-33</td>\n",
       "</tr>\n",
       "<tr>\n",
       "  <th>Kurtosis:</th>      <td> 6.332</td> <th>  Cond. No.          </th> <td>    454.</td>\n",
       "</tr>\n",
       "</table>"
      ],
      "text/plain": [
       "<class 'statsmodels.iolib.summary.Summary'>\n",
       "\"\"\"\n",
       "                            OLS Regression Results                            \n",
       "==============================================================================\n",
       "Dep. Variable:                  Sales   R-squared:                       0.897\n",
       "Model:                            OLS   Adj. R-squared:                  0.896\n",
       "Method:                 Least Squares   F-statistic:                     570.3\n",
       "Date:                Fri, 10 Mar 2017   Prob (F-statistic):           1.58e-96\n",
       "Time:                        18:34:57   Log-Likelihood:                -386.18\n",
       "No. Observations:                 200   AIC:                             780.4\n",
       "Df Residuals:                     196   BIC:                             793.6\n",
       "Df Model:                           3                                         \n",
       "Covariance Type:            nonrobust                                         \n",
       "==============================================================================\n",
       "                 coef    std err          t      P>|t|      [95.0% Conf. Int.]\n",
       "------------------------------------------------------------------------------\n",
       "Intercept      2.9389      0.312      9.422      0.000         2.324     3.554\n",
       "TV             0.0458      0.001     32.809      0.000         0.043     0.049\n",
       "Radio          0.1885      0.009     21.893      0.000         0.172     0.206\n",
       "Newspaper     -0.0010      0.006     -0.177      0.860        -0.013     0.011\n",
       "==============================================================================\n",
       "Omnibus:                       60.414   Durbin-Watson:                   2.084\n",
       "Prob(Omnibus):                  0.000   Jarque-Bera (JB):              151.241\n",
       "Skew:                          -1.327   Prob(JB):                     1.44e-33\n",
       "Kurtosis:                       6.332   Cond. No.                         454.\n",
       "==============================================================================\n",
       "\n",
       "Warnings:\n",
       "[1] Standard Errors assume that the covariance matrix of the errors is correctly specified.\n",
       "\"\"\""
      ]
     },
     "execution_count": 8,
     "metadata": {},
     "output_type": "execute_result"
    }
   ],
   "source": [
    "results.summary()"
   ]
  },
  {
   "cell_type": "markdown",
   "metadata": {},
   "source": [
    "#### Plot\n",
    "3D plots require special libraries: `mpl_toolkits.mplot3d.Axes3D`\n",
    "\n",
    "Plot top 2 features: `TV` and `Radio`."
   ]
  },
  {
   "cell_type": "code",
   "execution_count": 9,
   "metadata": {
    "collapsed": false,
    "scrolled": true
   },
   "outputs": [
    {
     "data": {
      "text/plain": [
       "<matplotlib.text.Text at 0xd023748>"
      ]
     },
     "execution_count": 9,
     "metadata": {},
     "output_type": "execute_result"
    },
    {
     "data": {
      "image/png": "[encoded data removed]",
      "text/plain": [
       "<matplotlib.figure.Figure at 0xcf288d0>"
      ]
     },
     "metadata": {},
     "output_type": "display_data"
    }
   ],
   "source": [
    "from mpl_toolkits.mplot3d import Axes3D\n",
    "\n",
    "# fit new OLS model with intercept on just TV and Radio\n",
    "model_plt = smf.ols('Sales ~ TV + Radio', data=data)\n",
    "results_plt = model_plt.fit()\n",
    "\n",
    "# Create 3D plot - rectangular grid\n",
    "x_plt = np.linspace(data['TV'].min(), data['TV'].max(), 100)\n",
    "y_plt = np.linspace(data['Radio'].min(), data['Radio'].max(), 100)\n",
    "xx1, xx2 = np.meshgrid(x_plt, y_plt) # xx1, xx2 = TV, Radio meshgrid\n",
    "\n",
    "# hyperplane by evaluating the parameters on the grid\n",
    "Z = results.params['Intercept'] + results.params['TV'] * xx1 + results.params['Radio'] * xx2\n",
    "\n",
    "# Create matplotlib 3D axes\n",
    "fig = plt.figure()\n",
    "ax = Axes3D(fig, azim=-115, elev=15) # create 3D grid\n",
    "\n",
    "# Plot hyperplane\n",
    "surf = ax.plot_surface(xx1, xx2, Z, \n",
    "                       cmap=plt.cm.RdBu_r, \n",
    "                       alpha=0.6, linewidth=0)\n",
    "\n",
    "# Plot data points\n",
    "# points over the HP are red, points below are yellow\n",
    "resid = data['Sales'] - results_plt.predict(data[['TV', 'Radio']])\n",
    "ax.scatter(data[resid >= 0].TV, data[resid >= 0].Radio, data[resid >= 0].Sales, \n",
    "           color='red', alpha=1.0, facecolor='red')\n",
    "ax.scatter(data[resid < 0].TV, data[['TV', 'Radio']][resid < 0].Radio, \n",
    "           data[resid < 0].Sales, color='y', alpha=1.0)\n",
    "\n",
    "# set axis labels\n",
    "ax.set_xlabel('TV')\n",
    "ax.set_ylabel('Radio')\n",
    "ax.set_zlabel('Sales')"
   ]
  },
  {
   "cell_type": "markdown",
   "metadata": {},
   "source": [
    "## Compare Simple & Multiple Linear Regression Models\n",
    "Do additional variables improve the fitting of the model (goodness of fit)\n",
    "\n",
    "#### Simple Linear Regression Model"
   ]
  },
  {
   "cell_type": "code",
   "execution_count": 10,
   "metadata": {
    "collapsed": false
   },
   "outputs": [
    {
     "data": {
      "text/plain": [
       "Intercept    7.032594\n",
       "TV           0.047537\n",
       "dtype: float64"
      ]
     },
     "execution_count": 10,
     "metadata": {},
     "output_type": "execute_result"
    }
   ],
   "source": [
    "simp_model = smf.ols(formula='Sales ~ TV', data=data)\n",
    "simp_results = simp_model.fit()\n",
    "simp_results.params"
   ]
  },
  {
   "cell_type": "code",
   "execution_count": 11,
   "metadata": {
    "collapsed": false
   },
   "outputs": [
    {
     "data": {
      "text/plain": [
       "0.61187505085007099"
      ]
     },
     "execution_count": 11,
     "metadata": {},
     "output_type": "execute_result"
    }
   ],
   "source": [
    "simp_results.rsquared"
   ]
  },
  {
   "cell_type": "markdown",
   "metadata": {},
   "source": [
    "#### Multiple Linear Regression Model"
   ]
  },
  {
   "cell_type": "code",
   "execution_count": 12,
   "metadata": {
    "collapsed": false
   },
   "outputs": [
    {
     "data": {
      "text/plain": [
       "Intercept    2.938889\n",
       "TV           0.045765\n",
       "Radio        0.188530\n",
       "Newspaper   -0.001037\n",
       "dtype: float64"
      ]
     },
     "execution_count": 12,
     "metadata": {},
     "output_type": "execute_result"
    }
   ],
   "source": [
    "results.params"
   ]
  },
  {
   "cell_type": "code",
   "execution_count": 13,
   "metadata": {
    "collapsed": false
   },
   "outputs": [
    {
     "data": {
      "text/plain": [
       "0.89721063817895219"
      ]
     },
     "execution_count": 13,
     "metadata": {},
     "output_type": "execute_result"
    }
   ],
   "source": [
    "results.rsquared"
   ]
  },
  {
   "cell_type": "markdown",
   "metadata": {},
   "source": [
    "The **multiple linear regression** model has a higher **R<sub>2</sub>** value, indicating that the model provides a better fit than a model only including the `TV` predictor variable alone.\n",
    "\n",
    "`TV` advertisements accounts for some variation in `Sales`, but together with `Radio`, they both account for more variation."
   ]
  },
  {
   "cell_type": "markdown",
   "metadata": {},
   "source": [
    "## Hypothesis Testing\n",
    "A hypothesis test is needed for *each* predictor variable (`x`).\n",
    "\n",
    "### Model Equation\n",
    "`y = 2.939 + β`<sub>TV</sub> `X`<sub>TV</sub> `+ β`<sub>Radio</sub> `X`<sub>Radio</sub> `+ β`<sub>Newspaper</sub>` X`<sub>Newspaper</sub>\n",
    "\n",
    "`y = 2.939 + 0.0458 X`<sub>TV</sub> `+ 0.189 X`<sub>Radio</sub> `+ -0.001 X`<sub>Newspaper</sub>\n",
    "\n",
    "##### Test 1: `X`<sub>TV</sub>\n",
    "1) Hypothesis\n",
    "  * **H<sub>0</sub>**: There is no effect of `TV` advertisements on `Sales`, controlling for `Radio` and `Newspaper` advertisements.\n",
    "  * **H<sub>A</sub>**: There is an effect of `TV` advertisements on `Sales`, controlling for `Radio` and `Newspaper` advertisements.\n",
    "  \n",
    "2) Compute test-statistic & p-value\n",
    "  * test-statistic: **slope** (β<sub>TV</sub>)"
   ]
  },
  {
   "cell_type": "code",
   "execution_count": 14,
   "metadata": {
    "collapsed": false
   },
   "outputs": [
    {
     "name": "stdout",
     "output_type": "stream",
     "text": [
      "TV slope = 0.046\n",
      "TV p-value = 1.50995995481e-81\n",
      "95% CI =  [0.043013711962401072, 0.048515578948394186]\n"
     ]
    }
   ],
   "source": [
    "print \"TV slope = %.3f\" % results.params['TV']\n",
    "print \"TV p-value =\", results.pvalues['TV']\n",
    "print \"95% CI = \", list(results.conf_int().loc['TV'])"
   ]
  },
  {
   "cell_type": "markdown",
   "metadata": {},
   "source": [
    "3) Analyze the Results  \n",
    "The **p-value** is large (p-val < 0.001), providing substantial evidence *against* H<sub>0</sub>. Additionally,  the **confidence interval** does not contain a slope (β<sub>TV</sub>) value of 0. The null hypothesis is *rejected* in favor of H<sub>A</sub>.\n",
    "\n",
    "Thus, there's a *significant association* between `Sales` and `TV` advertisements, *controlling for all other advertisements*.\n",
    "\n",
    "**Conclusion**: For each one unit increase in `TV` advertisements, the `Sales` of widgets increases by 0.046 (β<sub>TV</sub>)."
   ]
  },
  {
   "cell_type": "markdown",
   "metadata": {},
   "source": [
    "##### Test 2: `X`<sub>Radio</sub>\n",
    "1) Hypothesis\n",
    "  * **H<sub>0</sub>**: There is no effect of `Radio` advertisements on `Sales`, controlling for `TV` and `Newspaper` advertisements.\n",
    "  * **H<sub>A</sub>**: There is an effect of `Radio` advertisements on `Sales`, controlling for `TV` and `Newspaper` advertisements.\n",
    "  \n",
    "2) Compute test-statistic & p-value\n",
    "  * test-statistic: **slope** (β<sub>Radio</sub>)"
   ]
  },
  {
   "cell_type": "code",
   "execution_count": 15,
   "metadata": {
    "collapsed": false
   },
   "outputs": [
    {
     "name": "stdout",
     "output_type": "stream",
     "text": [
      "Radio slope = 0.189\n",
      "Radio p-value = 1.50533892058e-54\n",
      "95% CI =  [0.17154744744193365, 0.20551258639447487]\n"
     ]
    }
   ],
   "source": [
    "print \"Radio slope = %.3f\" % results.params['Radio']\n",
    "print \"Radio p-value =\", results.pvalues['Radio']\n",
    "print \"95% CI = \", list(results.conf_int().loc['Radio'])"
   ]
  },
  {
   "cell_type": "markdown",
   "metadata": {},
   "source": [
    "3) Analyze the Results\n",
    "The **p-value** is small (p-val < 0.001), providing substantial evidence *against* H<sub>0</sub>. Additionally,  the **confidence interval** does not contain a slope (β<sub>Radio</sub>) value of 0. The null hypothesis is *rejected* in favor of H<sub>A</sub>.\n",
    "\n",
    "Thus, there's a *significant association* between `Sales` and `Radio` advertisements, *controlling for `TV` advertisements*.\n",
    "\n",
    "**Conclusion**: For each one unit increase in `Radio` advertisements, the `Sales` of widgets increases by 0.189 (β<sub>Radio</sub>), *controlling for `TV` advertisements*."
   ]
  },
  {
   "cell_type": "markdown",
   "metadata": {},
   "source": [
    "##### Test 3: `X`<sub>Newspaper</sub>\n",
    "1) Hypothesis\n",
    "  * **H<sub>0</sub>**: There is no effect of `Newspaper` advertisements on `Sales`, controlling for `TV` and `Radio` advertisements.\n",
    "  * **H<sub>A</sub>**: There is an effect of `Newspaper` advertisements on `Sales`, controlling for `TV` and `Radio` advertisements.\n",
    "  \n",
    "2) Compute test-statistic & p-value\n",
    "  * test-statistic: **slope** (β<sub>Newspaper</sub>)"
   ]
  },
  {
   "cell_type": "code",
   "execution_count": 16,
   "metadata": {
    "collapsed": false
   },
   "outputs": [
    {
     "name": "stdout",
     "output_type": "stream",
     "text": [
      "Newspaper slope = -0.001\n",
      "Newspaper p-value = 0.859915050081\n",
      "95% CI =  [-0.012615953180255908, 0.010540967095303279]\n"
     ]
    }
   ],
   "source": [
    "print \"Newspaper slope = %.3f\" % results.params['Newspaper']\n",
    "print \"Newspaper p-value =\", results.pvalues['Newspaper']\n",
    "print \"95% CI = \", list(results.conf_int().loc['Newspaper'])"
   ]
  },
  {
   "cell_type": "markdown",
   "metadata": {},
   "source": [
    "3) Analyze the Results\n",
    "The **p-value** is extremely large (p-val > 0.05), providing substantial evidence for H<sub>0</sub>. Additionally,  the **confidence interval** contains a slope (β<sub>newspaper</sub> value of 0. The null hypothesis is *failed to be rejected*.\n",
    "\n",
    "Thus, there's no significant association between `Sales` and `Newspaper` advertisements, *controlling for other advertisements*.\n",
    "\n",
    "**Conclusion**: There is no effect of `Newspaper` advertisements on the `Sales` of widgets. The difference or negative association (slope) is irrelevant and is due to chance."
   ]
  },
  {
   "cell_type": "markdown",
   "metadata": {},
   "source": [
    "## Feature Selection\n",
    "How to decide **which features to include** in a linear regression model?\n",
    "  * Try different models and only keep predictors in the model *if they have small p-values*.\n",
    "  * Check whether **R<sup>2</sup>** value increases when adding new predictors (`x`).\n",
    "  \n",
    "What are the **drawbacks** to this approach?\n",
    "  * **Linear models** rely upon a lot of assumptions (e.g. features being independent). If those assumptions are violated (*which they usually are*), **R<sup>2</sup>** and **p-values** are less reliable.\n",
    "  * Using a **p-value** cutoff of 0.05 means that if you add 100 predictors to a model that are **pure noise**, 5 of them (*on average*) will still be counted as significant.\n",
    "  * **R<sup>2</sup>** is susceptible to **overfitting**. Thus, there's no guarantee that a model with a high **R<sup>2</sup>** value will generalize.\n",
    "  \n",
    "##### Overfitting Example: Adding `Newspaper` predictor"
   ]
  },
  {
   "cell_type": "code",
   "execution_count": 17,
   "metadata": {
    "collapsed": false
   },
   "outputs": [
    {
     "data": {
      "text/plain": [
       "0.89719426108289568"
      ]
     },
     "execution_count": 17,
     "metadata": {},
     "output_type": "execute_result"
    }
   ],
   "source": [
    "# only include TV and Radio in the model\n",
    "results_of1 = smf.ols(formula='Sales ~ TV + Radio', data=data).fit()\n",
    "results_of1.rsquared"
   ]
  },
  {
   "cell_type": "code",
   "execution_count": 18,
   "metadata": {
    "collapsed": false
   },
   "outputs": [
    {
     "data": {
      "text/plain": [
       "0.89721063817895219"
      ]
     },
     "execution_count": 18,
     "metadata": {},
     "output_type": "execute_result"
    }
   ],
   "source": [
    "# add Newspaper to the model (which we believe has no association with Sales)\n",
    "results_of2 = smf.ols(formula='Sales ~ TV + Radio + Newspaper', data=data).fit()\n",
    "results_of2.rsquared"
   ]
  },
  {
   "cell_type": "markdown",
   "metadata": {},
   "source": [
    "**R<sup>2</sup>** will always increase as you *add more features* to the model, even if they are unrelated to the response. Thus, selecting the model with the highest **R<sup>2</sup>** is **not** a reliable approach for choosing the best linear model.\n",
    "\n",
    "##### Alternative: `Adjusted R`<sup>2</sup>\n",
    "**Adjusted R<sup>2</sup>** penalizes model complexity (to control for overfitting), but it generally under-penalizes complexity.\n",
    "\n",
    "##### Best Approach to Feature Selection: Cross-Validation\n",
    "*So is there a better approach to feature selection?*  \n",
    "**Cross-validation** provides a more reliable estimate of out-of-sample error, and thus is a better way to choose which of your models will best **generalize** to out-of-sample data. There is extensive functionality for cross-validation in scikit-learn, including automated methods for searching different sets of parameters and different models. Importantly, cross-validation can be applied to any model, whereas the methods described above only apply to linear models."
   ]
  },
  {
   "cell_type": "markdown",
   "metadata": {},
   "source": [
    "## Regression with Categorical Variables\n",
    "Statistical learning or analysis may have variables that are not quantitative, but categorical (e.g. gender)\n",
    "\n",
    "### Categorical Variables Handling in `StatsModels`\n",
    "The formulaic interface of StatsModels relys on patsy formula parser.\n",
    "\n",
    "Categorical variables can be encoded into `k-1` binary varia bles in StatsModels using the **`C()`** function. Doing so StatsModels knows to treat the feature as a categorical variable.\n",
    "  * `C(famhist)`\n",
    "\n",
    "#### Example: Chronic Heart Disease\n",
    "\n",
    "Categorical Feature: `famhist`\n",
    "  * if the patient has a family history of coronary artery disease"
   ]
  },
  {
   "cell_type": "code",
   "execution_count": 19,
   "metadata": {
    "collapsed": false
   },
   "outputs": [
    {
     "data": {
      "text/html": [
       "<div>\n",
       "<table border=\"1\" class=\"dataframe\">\n",
       "  <thead>\n",
       "    <tr style=\"text-align: right;\">\n",
       "      <th></th>\n",
       "      <th>sbp</th>\n",
       "      <th>tobacco</th>\n",
       "      <th>ldl</th>\n",
       "      <th>adiposity</th>\n",
       "      <th>famhist</th>\n",
       "      <th>typea</th>\n",
       "      <th>obesity</th>\n",
       "      <th>alcohol</th>\n",
       "      <th>age</th>\n",
       "      <th>chd</th>\n",
       "    </tr>\n",
       "  </thead>\n",
       "  <tbody>\n",
       "    <tr>\n",
       "      <th>1</th>\n",
       "      <td>160</td>\n",
       "      <td>12.00</td>\n",
       "      <td>5.73</td>\n",
       "      <td>23.11</td>\n",
       "      <td>Present</td>\n",
       "      <td>49</td>\n",
       "      <td>25.30</td>\n",
       "      <td>97.20</td>\n",
       "      <td>52</td>\n",
       "      <td>1</td>\n",
       "    </tr>\n",
       "    <tr>\n",
       "      <th>2</th>\n",
       "      <td>144</td>\n",
       "      <td>0.01</td>\n",
       "      <td>4.41</td>\n",
       "      <td>28.61</td>\n",
       "      <td>Absent</td>\n",
       "      <td>55</td>\n",
       "      <td>28.87</td>\n",
       "      <td>2.06</td>\n",
       "      <td>63</td>\n",
       "      <td>1</td>\n",
       "    </tr>\n",
       "    <tr>\n",
       "      <th>3</th>\n",
       "      <td>118</td>\n",
       "      <td>0.08</td>\n",
       "      <td>3.48</td>\n",
       "      <td>32.28</td>\n",
       "      <td>Present</td>\n",
       "      <td>52</td>\n",
       "      <td>29.14</td>\n",
       "      <td>3.81</td>\n",
       "      <td>46</td>\n",
       "      <td>0</td>\n",
       "    </tr>\n",
       "    <tr>\n",
       "      <th>4</th>\n",
       "      <td>170</td>\n",
       "      <td>7.50</td>\n",
       "      <td>6.41</td>\n",
       "      <td>38.03</td>\n",
       "      <td>Present</td>\n",
       "      <td>51</td>\n",
       "      <td>31.99</td>\n",
       "      <td>24.26</td>\n",
       "      <td>58</td>\n",
       "      <td>1</td>\n",
       "    </tr>\n",
       "    <tr>\n",
       "      <th>5</th>\n",
       "      <td>134</td>\n",
       "      <td>13.60</td>\n",
       "      <td>3.50</td>\n",
       "      <td>27.78</td>\n",
       "      <td>Present</td>\n",
       "      <td>60</td>\n",
       "      <td>25.99</td>\n",
       "      <td>57.34</td>\n",
       "      <td>49</td>\n",
       "      <td>1</td>\n",
       "    </tr>\n",
       "  </tbody>\n",
       "</table>\n",
       "</div>"
      ],
      "text/plain": [
       "   sbp  tobacco   ldl  adiposity  famhist  typea  obesity  alcohol  age  chd\n",
       "1  160    12.00  5.73      23.11  Present     49    25.30    97.20   52    1\n",
       "2  144     0.01  4.41      28.61   Absent     55    28.87     2.06   63    1\n",
       "3  118     0.08  3.48      32.28  Present     52    29.14     3.81   46    0\n",
       "4  170     7.50  6.41      38.03  Present     51    31.99    24.26   58    1\n",
       "5  134    13.60  3.50      27.78  Present     60    25.99    57.34   49    1"
      ]
     },
     "execution_count": 19,
     "metadata": {},
     "output_type": "execute_result"
    }
   ],
   "source": [
    "chd = pd.read_csv('http://statweb.stanford.edu/~tibs/ElemStatLearn/datasets/SAheart.data', index_col=0)\n",
    "chd.index.name=None\n",
    "chd.head()"
   ]
  },
  {
   "cell_type": "markdown",
   "metadata": {},
   "source": [
    "Copy DataFrame and separate `predictors` and `response`"
   ]
  },
  {
   "cell_type": "code",
   "execution_count": 20,
   "metadata": {
    "collapsed": false
   },
   "outputs": [
    {
     "data": {
      "text/html": [
       "<div>\n",
       "<table border=\"1\" class=\"dataframe\">\n",
       "  <thead>\n",
       "    <tr style=\"text-align: right;\">\n",
       "      <th></th>\n",
       "      <th>sbp</th>\n",
       "      <th>tobacco</th>\n",
       "      <th>ldl</th>\n",
       "      <th>adiposity</th>\n",
       "      <th>famhist</th>\n",
       "      <th>typea</th>\n",
       "      <th>obesity</th>\n",
       "      <th>alcohol</th>\n",
       "      <th>age</th>\n",
       "    </tr>\n",
       "  </thead>\n",
       "  <tbody>\n",
       "    <tr>\n",
       "      <th>1</th>\n",
       "      <td>160</td>\n",
       "      <td>12.00</td>\n",
       "      <td>5.73</td>\n",
       "      <td>23.11</td>\n",
       "      <td>Present</td>\n",
       "      <td>49</td>\n",
       "      <td>25.30</td>\n",
       "      <td>97.20</td>\n",
       "      <td>52</td>\n",
       "    </tr>\n",
       "    <tr>\n",
       "      <th>2</th>\n",
       "      <td>144</td>\n",
       "      <td>0.01</td>\n",
       "      <td>4.41</td>\n",
       "      <td>28.61</td>\n",
       "      <td>Absent</td>\n",
       "      <td>55</td>\n",
       "      <td>28.87</td>\n",
       "      <td>2.06</td>\n",
       "      <td>63</td>\n",
       "    </tr>\n",
       "    <tr>\n",
       "      <th>3</th>\n",
       "      <td>118</td>\n",
       "      <td>0.08</td>\n",
       "      <td>3.48</td>\n",
       "      <td>32.28</td>\n",
       "      <td>Present</td>\n",
       "      <td>52</td>\n",
       "      <td>29.14</td>\n",
       "      <td>3.81</td>\n",
       "      <td>46</td>\n",
       "    </tr>\n",
       "    <tr>\n",
       "      <th>4</th>\n",
       "      <td>170</td>\n",
       "      <td>7.50</td>\n",
       "      <td>6.41</td>\n",
       "      <td>38.03</td>\n",
       "      <td>Present</td>\n",
       "      <td>51</td>\n",
       "      <td>31.99</td>\n",
       "      <td>24.26</td>\n",
       "      <td>58</td>\n",
       "    </tr>\n",
       "    <tr>\n",
       "      <th>5</th>\n",
       "      <td>134</td>\n",
       "      <td>13.60</td>\n",
       "      <td>3.50</td>\n",
       "      <td>27.78</td>\n",
       "      <td>Present</td>\n",
       "      <td>60</td>\n",
       "      <td>25.99</td>\n",
       "      <td>57.34</td>\n",
       "      <td>49</td>\n",
       "    </tr>\n",
       "  </tbody>\n",
       "</table>\n",
       "</div>"
      ],
      "text/plain": [
       "   sbp  tobacco   ldl  adiposity  famhist  typea  obesity  alcohol  age\n",
       "1  160    12.00  5.73      23.11  Present     49    25.30    97.20   52\n",
       "2  144     0.01  4.41      28.61   Absent     55    28.87     2.06   63\n",
       "3  118     0.08  3.48      32.28  Present     52    29.14     3.81   46\n",
       "4  170     7.50  6.41      38.03  Present     51    31.99    24.26   58\n",
       "5  134    13.60  3.50      27.78  Present     60    25.99    57.34   49"
      ]
     },
     "execution_count": 20,
     "metadata": {},
     "output_type": "execute_result"
    }
   ],
   "source": [
    "chd_X = chd.copy()\n",
    "chd_y = chd_X.pop('chd') #.pop method return response and drops from DF\n",
    "chd_X.head()"
   ]
  },
  {
   "cell_type": "markdown",
   "metadata": {},
   "source": [
    "Percentage of the response (`chd`) for patients with absent/present `famhist`)"
   ]
  },
  {
   "cell_type": "code",
   "execution_count": 21,
   "metadata": {
    "collapsed": false
   },
   "outputs": [
    {
     "data": {
      "text/plain": [
       "famhist\n",
       "Absent     0.237037\n",
       "Present    0.500000\n",
       "Name: chd, dtype: float64"
      ]
     },
     "execution_count": 21,
     "metadata": {},
     "output_type": "execute_result"
    }
   ],
   "source": [
    "chd_y.groupby(chd_X.famhist).mean()"
   ]
  },
  {
   "cell_type": "markdown",
   "metadata": {},
   "source": [
    "### Simple Linear Regression\n",
    "Use the categorical variable as the sole predictor for the response."
   ]
  },
  {
   "cell_type": "markdown",
   "metadata": {},
   "source": [
    "#### Method 1: Convert Categorical variable to Numeric\n",
    "`famhist` has 2 levels/categories, which have a natural ordering. Thus, allowing linear regression on the data *but only after converting the feature to numeric*.\n",
    "\n",
    "##### Method: `pd.Categorical()`"
   ]
  },
  {
   "cell_type": "code",
   "execution_count": 22,
   "metadata": {
    "collapsed": false
   },
   "outputs": [
    {
     "data": {
      "text/html": [
       "<div>\n",
       "<table border=\"1\" class=\"dataframe\">\n",
       "  <thead>\n",
       "    <tr style=\"text-align: right;\">\n",
       "      <th></th>\n",
       "      <th>sbp</th>\n",
       "      <th>tobacco</th>\n",
       "      <th>ldl</th>\n",
       "      <th>adiposity</th>\n",
       "      <th>famhist</th>\n",
       "      <th>typea</th>\n",
       "      <th>obesity</th>\n",
       "      <th>alcohol</th>\n",
       "      <th>age</th>\n",
       "      <th>chd</th>\n",
       "      <th>famhist_ord</th>\n",
       "    </tr>\n",
       "  </thead>\n",
       "  <tbody>\n",
       "    <tr>\n",
       "      <th>1</th>\n",
       "      <td>160</td>\n",
       "      <td>12.00</td>\n",
       "      <td>5.73</td>\n",
       "      <td>23.11</td>\n",
       "      <td>Present</td>\n",
       "      <td>49</td>\n",
       "      <td>25.30</td>\n",
       "      <td>97.20</td>\n",
       "      <td>52</td>\n",
       "      <td>1</td>\n",
       "      <td>1</td>\n",
       "    </tr>\n",
       "    <tr>\n",
       "      <th>2</th>\n",
       "      <td>144</td>\n",
       "      <td>0.01</td>\n",
       "      <td>4.41</td>\n",
       "      <td>28.61</td>\n",
       "      <td>Absent</td>\n",
       "      <td>55</td>\n",
       "      <td>28.87</td>\n",
       "      <td>2.06</td>\n",
       "      <td>63</td>\n",
       "      <td>1</td>\n",
       "      <td>0</td>\n",
       "    </tr>\n",
       "    <tr>\n",
       "      <th>3</th>\n",
       "      <td>118</td>\n",
       "      <td>0.08</td>\n",
       "      <td>3.48</td>\n",
       "      <td>32.28</td>\n",
       "      <td>Present</td>\n",
       "      <td>52</td>\n",
       "      <td>29.14</td>\n",
       "      <td>3.81</td>\n",
       "      <td>46</td>\n",
       "      <td>0</td>\n",
       "      <td>1</td>\n",
       "    </tr>\n",
       "    <tr>\n",
       "      <th>4</th>\n",
       "      <td>170</td>\n",
       "      <td>7.50</td>\n",
       "      <td>6.41</td>\n",
       "      <td>38.03</td>\n",
       "      <td>Present</td>\n",
       "      <td>51</td>\n",
       "      <td>31.99</td>\n",
       "      <td>24.26</td>\n",
       "      <td>58</td>\n",
       "      <td>1</td>\n",
       "      <td>1</td>\n",
       "    </tr>\n",
       "    <tr>\n",
       "      <th>5</th>\n",
       "      <td>134</td>\n",
       "      <td>13.60</td>\n",
       "      <td>3.50</td>\n",
       "      <td>27.78</td>\n",
       "      <td>Present</td>\n",
       "      <td>60</td>\n",
       "      <td>25.99</td>\n",
       "      <td>57.34</td>\n",
       "      <td>49</td>\n",
       "      <td>1</td>\n",
       "      <td>1</td>\n",
       "    </tr>\n",
       "  </tbody>\n",
       "</table>\n",
       "</div>"
      ],
      "text/plain": [
       "   sbp  tobacco   ldl  adiposity  famhist  typea  obesity  alcohol  age  chd  \\\n",
       "1  160    12.00  5.73      23.11  Present     49    25.30    97.20   52    1   \n",
       "2  144     0.01  4.41      28.61   Absent     55    28.87     2.06   63    1   \n",
       "3  118     0.08  3.48      32.28  Present     52    29.14     3.81   46    0   \n",
       "4  170     7.50  6.41      38.03  Present     51    31.99    24.26   58    1   \n",
       "5  134    13.60  3.50      27.78  Present     60    25.99    57.34   49    1   \n",
       "\n",
       "   famhist_ord  \n",
       "1            1  \n",
       "2            0  \n",
       "3            1  \n",
       "4            1  \n",
       "5            1  "
      ]
     },
     "execution_count": 22,
     "metadata": {},
     "output_type": "execute_result"
    }
   ],
   "source": [
    "chd['famhist_ord'] = pd.Categorical(chd.famhist).codes\n",
    "chd.head()"
   ]
  },
  {
   "cell_type": "code",
   "execution_count": 23,
   "metadata": {
    "collapsed": false
   },
   "outputs": [
    {
     "data": {
      "text/html": [
       "<table class=\"simpletable\">\n",
       "<caption>OLS Regression Results</caption>\n",
       "<tr>\n",
       "  <th>Dep. Variable:</th>           <td>chd</td>       <th>  R-squared:         </th> <td>   0.074</td>\n",
       "</tr>\n",
       "<tr>\n",
       "  <th>Model:</th>                   <td>OLS</td>       <th>  Adj. R-squared:    </th> <td>   0.072</td>\n",
       "</tr>\n",
       "<tr>\n",
       "  <th>Method:</th>             <td>Least Squares</td>  <th>  F-statistic:       </th> <td>   36.86</td>\n",
       "</tr>\n",
       "<tr>\n",
       "  <th>Date:</th>             <td>Fri, 10 Mar 2017</td> <th>  Prob (F-statistic):</th> <td>2.66e-09</td>\n",
       "</tr>\n",
       "<tr>\n",
       "  <th>Time:</th>                 <td>18:34:59</td>     <th>  Log-Likelihood:    </th> <td> -294.59</td>\n",
       "</tr>\n",
       "<tr>\n",
       "  <th>No. Observations:</th>      <td>   462</td>      <th>  AIC:               </th> <td>   593.2</td>\n",
       "</tr>\n",
       "<tr>\n",
       "  <th>Df Residuals:</th>          <td>   460</td>      <th>  BIC:               </th> <td>   601.4</td>\n",
       "</tr>\n",
       "<tr>\n",
       "  <th>Df Model:</th>              <td>     1</td>      <th>                     </th>     <td> </td>   \n",
       "</tr>\n",
       "<tr>\n",
       "  <th>Covariance Type:</th>      <td>nonrobust</td>    <th>                     </th>     <td> </td>   \n",
       "</tr>\n",
       "</table>\n",
       "<table class=\"simpletable\">\n",
       "<tr>\n",
       "       <td></td>          <th>coef</th>     <th>std err</th>      <th>t</th>      <th>P>|t|</th> <th>[95.0% Conf. Int.]</th> \n",
       "</tr>\n",
       "<tr>\n",
       "  <th>Intercept</th>   <td>    0.2370</td> <td>    0.028</td> <td>    8.489</td> <td> 0.000</td> <td>    0.182     0.292</td>\n",
       "</tr>\n",
       "<tr>\n",
       "  <th>famhist_ord</th> <td>    0.2630</td> <td>    0.043</td> <td>    6.071</td> <td> 0.000</td> <td>    0.178     0.348</td>\n",
       "</tr>\n",
       "</table>\n",
       "<table class=\"simpletable\">\n",
       "<tr>\n",
       "  <th>Omnibus:</th>       <td>768.898</td> <th>  Durbin-Watson:     </th> <td>   1.961</td>\n",
       "</tr>\n",
       "<tr>\n",
       "  <th>Prob(Omnibus):</th> <td> 0.000</td>  <th>  Jarque-Bera (JB):  </th> <td>  58.778</td>\n",
       "</tr>\n",
       "<tr>\n",
       "  <th>Skew:</th>          <td> 0.579</td>  <th>  Prob(JB):          </th> <td>1.72e-13</td>\n",
       "</tr>\n",
       "<tr>\n",
       "  <th>Kurtosis:</th>      <td> 1.692</td>  <th>  Cond. No.          </th> <td>    2.47</td>\n",
       "</tr>\n",
       "</table>"
      ],
      "text/plain": [
       "<class 'statsmodels.iolib.summary.Summary'>\n",
       "\"\"\"\n",
       "                            OLS Regression Results                            \n",
       "==============================================================================\n",
       "Dep. Variable:                    chd   R-squared:                       0.074\n",
       "Model:                            OLS   Adj. R-squared:                  0.072\n",
       "Method:                 Least Squares   F-statistic:                     36.86\n",
       "Date:                Fri, 10 Mar 2017   Prob (F-statistic):           2.66e-09\n",
       "Time:                        18:34:59   Log-Likelihood:                -294.59\n",
       "No. Observations:                 462   AIC:                             593.2\n",
       "Df Residuals:                     460   BIC:                             601.4\n",
       "Df Model:                           1                                         \n",
       "Covariance Type:            nonrobust                                         \n",
       "===============================================================================\n",
       "                  coef    std err          t      P>|t|      [95.0% Conf. Int.]\n",
       "-------------------------------------------------------------------------------\n",
       "Intercept       0.2370      0.028      8.489      0.000         0.182     0.292\n",
       "famhist_ord     0.2630      0.043      6.071      0.000         0.178     0.348\n",
       "==============================================================================\n",
       "Omnibus:                      768.898   Durbin-Watson:                   1.961\n",
       "Prob(Omnibus):                  0.000   Jarque-Bera (JB):               58.778\n",
       "Skew:                           0.579   Prob(JB):                     1.72e-13\n",
       "Kurtosis:                       1.692   Cond. No.                         2.47\n",
       "==============================================================================\n",
       "\n",
       "Warnings:\n",
       "[1] Standard Errors assume that the covariance matrix of the errors is correctly specified.\n",
       "\"\"\""
      ]
     },
     "execution_count": 23,
     "metadata": {},
     "output_type": "execute_result"
    }
   ],
   "source": [
    "smf.ols(formula=\"chd ~ famhist_ord\", data=chd).fit().summary()"
   ]
  },
  {
   "cell_type": "markdown",
   "metadata": {},
   "source": [
    "#### Method 2: Raw Categorical Variable"
   ]
  },
  {
   "cell_type": "code",
   "execution_count": 24,
   "metadata": {
    "collapsed": false
   },
   "outputs": [
    {
     "data": {
      "text/html": [
       "<table class=\"simpletable\">\n",
       "<caption>OLS Regression Results</caption>\n",
       "<tr>\n",
       "  <th>Dep. Variable:</th>           <td>chd</td>       <th>  R-squared:         </th> <td>   0.074</td>\n",
       "</tr>\n",
       "<tr>\n",
       "  <th>Model:</th>                   <td>OLS</td>       <th>  Adj. R-squared:    </th> <td>   0.072</td>\n",
       "</tr>\n",
       "<tr>\n",
       "  <th>Method:</th>             <td>Least Squares</td>  <th>  F-statistic:       </th> <td>   36.86</td>\n",
       "</tr>\n",
       "<tr>\n",
       "  <th>Date:</th>             <td>Fri, 10 Mar 2017</td> <th>  Prob (F-statistic):</th> <td>2.66e-09</td>\n",
       "</tr>\n",
       "<tr>\n",
       "  <th>Time:</th>                 <td>18:34:59</td>     <th>  Log-Likelihood:    </th> <td> -294.59</td>\n",
       "</tr>\n",
       "<tr>\n",
       "  <th>No. Observations:</th>      <td>   462</td>      <th>  AIC:               </th> <td>   593.2</td>\n",
       "</tr>\n",
       "<tr>\n",
       "  <th>Df Residuals:</th>          <td>   460</td>      <th>  BIC:               </th> <td>   601.4</td>\n",
       "</tr>\n",
       "<tr>\n",
       "  <th>Df Model:</th>              <td>     1</td>      <th>                     </th>     <td> </td>   \n",
       "</tr>\n",
       "<tr>\n",
       "  <th>Covariance Type:</th>      <td>nonrobust</td>    <th>                     </th>     <td> </td>   \n",
       "</tr>\n",
       "</table>\n",
       "<table class=\"simpletable\">\n",
       "<tr>\n",
       "            <td></td>               <th>coef</th>     <th>std err</th>      <th>t</th>      <th>P>|t|</th> <th>[95.0% Conf. Int.]</th> \n",
       "</tr>\n",
       "<tr>\n",
       "  <th>Intercept</th>             <td>    0.2370</td> <td>    0.028</td> <td>    8.489</td> <td> 0.000</td> <td>    0.182     0.292</td>\n",
       "</tr>\n",
       "<tr>\n",
       "  <th>C(famhist)[T.Present]</th> <td>    0.2630</td> <td>    0.043</td> <td>    6.071</td> <td> 0.000</td> <td>    0.178     0.348</td>\n",
       "</tr>\n",
       "</table>\n",
       "<table class=\"simpletable\">\n",
       "<tr>\n",
       "  <th>Omnibus:</th>       <td>768.898</td> <th>  Durbin-Watson:     </th> <td>   1.961</td>\n",
       "</tr>\n",
       "<tr>\n",
       "  <th>Prob(Omnibus):</th> <td> 0.000</td>  <th>  Jarque-Bera (JB):  </th> <td>  58.778</td>\n",
       "</tr>\n",
       "<tr>\n",
       "  <th>Skew:</th>          <td> 0.579</td>  <th>  Prob(JB):          </th> <td>1.72e-13</td>\n",
       "</tr>\n",
       "<tr>\n",
       "  <th>Kurtosis:</th>      <td> 1.692</td>  <th>  Cond. No.          </th> <td>    2.47</td>\n",
       "</tr>\n",
       "</table>"
      ],
      "text/plain": [
       "<class 'statsmodels.iolib.summary.Summary'>\n",
       "\"\"\"\n",
       "                            OLS Regression Results                            \n",
       "==============================================================================\n",
       "Dep. Variable:                    chd   R-squared:                       0.074\n",
       "Model:                            OLS   Adj. R-squared:                  0.072\n",
       "Method:                 Least Squares   F-statistic:                     36.86\n",
       "Date:                Fri, 10 Mar 2017   Prob (F-statistic):           2.66e-09\n",
       "Time:                        18:34:59   Log-Likelihood:                -294.59\n",
       "No. Observations:                 462   AIC:                             593.2\n",
       "Df Residuals:                     460   BIC:                             601.4\n",
       "Df Model:                           1                                         \n",
       "Covariance Type:            nonrobust                                         \n",
       "=========================================================================================\n",
       "                            coef    std err          t      P>|t|      [95.0% Conf. Int.]\n",
       "-----------------------------------------------------------------------------------------\n",
       "Intercept                 0.2370      0.028      8.489      0.000         0.182     0.292\n",
       "C(famhist)[T.Present]     0.2630      0.043      6.071      0.000         0.178     0.348\n",
       "==============================================================================\n",
       "Omnibus:                      768.898   Durbin-Watson:                   1.961\n",
       "Prob(Omnibus):                  0.000   Jarque-Bera (JB):               58.778\n",
       "Skew:                           0.579   Prob(JB):                     1.72e-13\n",
       "Kurtosis:                       1.692   Cond. No.                         2.47\n",
       "==============================================================================\n",
       "\n",
       "Warnings:\n",
       "[1] Standard Errors assume that the covariance matrix of the errors is correctly specified.\n",
       "\"\"\""
      ]
     },
     "execution_count": 24,
     "metadata": {},
     "output_type": "execute_result"
    }
   ],
   "source": [
    "smf.ols(formula=\"chd ~ C(famhist)\", data=chd).fit().summary()"
   ]
  },
  {
   "cell_type": "markdown",
   "metadata": {},
   "source": [
    "##### Conclusion\n",
    "The small p-value (p-value < 0.05) and that the confidence interval does not contain a slope (β<sub>famhist</sub>) of 0 provides evidence *against* the H<sub>0</sub>. Thus, *rejecting* the H<sub>0</sub> in favor of H<sub>A</sub>.\n",
    "\n",
    "There is a statistically significant association between `famhist` and `chd`. For a given `predictor`, being a patient with a `famhist` value of **Present** (1) is *associated with an average **increase** of CHD by 0.2630 (β<sub>famhist</sub>).\n",
    "\n",
    "#### Category Variables Affect Interpretation of Results\n",
    "β<sub>famhist</sub> = 0.2630\n",
    "\n",
    "**`famhist` == Present (1)**\n",
    "  * Being a patient with a value `Present` is associated with an average ***increase*** of β<sub>famhist</sub>.\n",
    "  \n",
    "**`famhist` == Absent (0)**\n",
    "  * Being a patient with a value `Absent` is associated with an average ***decrease*** of β<sub>famhist</sub>.\n"
   ]
  },
  {
   "cell_type": "markdown",
   "metadata": {},
   "source": [
    "# Logistic Regression\n",
    "\n",
    "**Logistic Regression**: a form of (linear) regression used when the `dependent variable` (response) is *boolean/dichotomous*.   \n",
    "  * **binary** or **multi-class** outcome\n",
    "    * predict the *class* of an observation\n",
    "    * predict the probability of *class ownership* (to map observation to class labels)\n",
    "  * essentially a *generalization* of the linear regression model to classificaiton problems\n",
    "\n",
    "Logistic regression model uses one or several **predictor variables** (`x`) that may be  *numerical* or *categorical* that predicts the probability of ocurrence of an event/class or predicts the class of an observation by *fitting the data to a **logit/logistic function**.\n",
    "\n",
    "### Equation\n",
    "**Raw**:  \n",
    "`π = p(y=1/x) = (e`<sup>β<sub>0</sub>+β<sub>1</sub>x</sup>`) / (1 + e`<sup>β<sub>0</sub>+β<sub>1</sub>x</sup>`)`\n",
    "\n",
    "**y=mx+b**:  \n",
    "`log o = β`<sub>0</sub>` + β`<sub>1</sub>X<sub>1</sub>` + ... + β`<sub>n</sub>X<sub>n</sub> \n",
    "\n",
    "Variables\n",
    "  * `o`: *odds* in favor of a particular outcome/class\n",
    "\n",
    "**Note**: The Logistic Regression equation (odds) is equivalent to the logarithm of a Linear regression equation.  \n",
    "\n",
    "### Problem Types\n",
    "|| Continuous | Categorical |\n",
    "|:--|:--:|:--:|\n",
    "|**Supervised**| Regression | **Classification** |\n",
    "|**Unsupervised**| Dimension Reduction | Clustering |\n",
    "\n",
    "Logistic regression is associated as a **classification** problem."
   ]
  },
  {
   "cell_type": "markdown",
   "metadata": {},
   "source": [
    "### Logistic vs. Linear Regression\n",
    "\n",
    "#### Issues: Applying Linear Regression on a Classification Problem\n",
    "*Why can't you just apply linear regression (using OLS) and encode the classes/dependent variable numerically* (e.g. binary is simply numerically 0 and 1)?  \n",
    "\n",
    "*Problems*:\n",
    "  * The model produces predictions (`y`) that are hard to interpret. For example, estimated parameters and values for `x` may have the model predict `y=0.5`.\n",
    "    * only meaningful values of `y` are 0 and 1 (classes)\n",
    "    * tempting to interpret the result as a probability (e.g. the respondent/observation has a 50% chance of being classified as `class 1`)\n",
    "    * `y` may have values of 1.1 or -0.1, which are not valid probabilities\n",
    "\n",
    "**Solution**: Logistic Regression\n",
    "Logistic regression avoids this problem by expressing predictions in terms of **odds** *rather than probabilities*.\n",
    "\n",
    "#### Odds\n",
    "*Odds vs. Probabilities*\n",
    "**Odds** and **probabilities** are different representations of the *same info*.\n",
    "\n",
    "**Odds** of an event/class are given by the ratio of the probability of the event by its completement.  \n",
    "\n",
    "*Example*: Probability of 75% can be represented in **odds** as 3 to 1 (**3:1**).\n",
    "  * The probability of class/event `1` is 3 times the probability of class `0`.\n",
    "\n",
    "##### Conversion between Odds & Probabilities\n",
    "1. Odds from Probability:  \n",
    "`o = p / (1-p)`\n",
    "2. Probability from Odds:  \n",
    "`o = np.exp(log_o)` (log o logistic regression equation)  \n",
    "`p = o / (o+1)` \n",
    "\n",
    "#### Interpretation of Model Coefficients (β<sub>x</sub>)\n",
    "*Linear Regression*: β<sub>x</sub> represents the change in the `response` for a unit change in `x`.  \n",
    "*Logistic Regression*: β<sub>x</sub> represents the change in ***log-odds*** for a unit change in `x`\n",
    "  * e<sup>β</sup> represents the change in **odds** for a unit change in `x`."
   ]
  },
  {
   "cell_type": "markdown",
   "metadata": {},
   "source": [
    "## Estimating Model Parameters\n",
    "Unlike linear regression, **logistic regression** does not have a closed form solution. Problems are typically solved by *guessing an initial solution and improving it iteratively*.\n",
    "\n",
    "**Goal**: Find the **maximum-likelihood estimate (MLE)**.\n",
    "  * **MLE**: the set of parameters that *maximizes the likelihood of the data*\n",
    "\n",
    "#### Example\n",
    "Given the following data and the initial guesses of the parameters:\n",
    "  * β<sub>0</sub> = -1.5\n",
    "  * β<sub>1</sub> = 2.8\n",
    "  * β<sub>2</sub> = 1.1 \n",
    "  \n",
    "Equation:  **`log o = -1.5 + 2.8 X`<sub>1</sub>` + 1.1 X`<sub>2</sub>**"
   ]
  },
  {
   "cell_type": "code",
   "execution_count": 25,
   "metadata": {
    "collapsed": true
   },
   "outputs": [],
   "source": [
    "y = np.array([0, 1, 0, 1])\n",
    "x1 = np.array([0, 0, 0, 1])\n",
    "x2 = np.array([0, 1, 1, 1])"
   ]
  },
  {
   "cell_type": "code",
   "execution_count": 26,
   "metadata": {
    "collapsed": true
   },
   "outputs": [],
   "source": [
    "beta = [-1.5, 2.8, 1.1]"
   ]
  },
  {
   "cell_type": "markdown",
   "metadata": {},
   "source": [
    "Compute `log_0`"
   ]
  },
  {
   "cell_type": "code",
   "execution_count": 27,
   "metadata": {
    "collapsed": false
   },
   "outputs": [
    {
     "data": {
      "text/plain": [
       "array([-1.5, -0.4, -0.4,  2.4])"
      ]
     },
     "execution_count": 27,
     "metadata": {},
     "output_type": "execute_result"
    }
   ],
   "source": [
    "log_o = beta[0] + beta[1] * x1 + beta[2] * x2\n",
    "log_o"
   ]
  },
  {
   "cell_type": "markdown",
   "metadata": {},
   "source": [
    "Convert from `log odds` to probabilities."
   ]
  },
  {
   "cell_type": "code",
   "execution_count": 28,
   "metadata": {
    "collapsed": false
   },
   "outputs": [
    {
     "data": {
      "text/plain": [
       "array([  0.22313016,   0.67032005,   0.67032005,  11.02317638])"
      ]
     },
     "execution_count": 28,
     "metadata": {},
     "output_type": "execute_result"
    }
   ],
   "source": [
    "o = np.exp(log_o)\n",
    "o"
   ]
  },
  {
   "cell_type": "code",
   "execution_count": 29,
   "metadata": {
    "collapsed": false
   },
   "outputs": [
    {
     "data": {
      "text/plain": [
       "array([ 0.18242552,  0.40131234,  0.40131234,  0.9168273 ])"
      ]
     },
     "execution_count": 29,
     "metadata": {},
     "output_type": "execute_result"
    }
   ],
   "source": [
    "p = o / (o + 1)\n",
    "p"
   ]
  },
  {
   "cell_type": "markdown",
   "metadata": {},
   "source": [
    "##### Conclusions\n",
    "  * when `log_o` > 0:\n",
    "    * `o` > 1\n",
    "    * `p` > 0.5\n",
    "\n",
    "The **likelihood of an outcome** is `p` when y == `1` and 1-p when y == `0`\n",
    "\n",
    "For example, if the probability of class `1` is 0.8. The *likelihood* of outcome `1` is 0.8 and outcome `0` is 0.2."
   ]
  },
  {
   "cell_type": "code",
   "execution_count": 30,
   "metadata": {
    "collapsed": false
   },
   "outputs": [
    {
     "data": {
      "text/plain": [
       "array([ 0.81757448,  0.40131234,  0.59868766,  0.9168273 ])"
      ]
     },
     "execution_count": 30,
     "metadata": {},
     "output_type": "execute_result"
    }
   ],
   "source": [
    "likes = y * p + (1-y) * (1-p)\n",
    "likes"
   ]
  },
  {
   "cell_type": "markdown",
   "metadata": {},
   "source": [
    "The *overall likelihood* of the data is the product of `likes`:"
   ]
  },
  {
   "cell_type": "code",
   "execution_count": 31,
   "metadata": {
    "collapsed": false
   },
   "outputs": [
    {
     "data": {
      "text/plain": [
       "0.18009335296730339"
      ]
     },
     "execution_count": 31,
     "metadata": {},
     "output_type": "execute_result"
    }
   ],
   "source": [
    "like = np.prod(likes)\n",
    "like"
   ]
  },
  {
   "cell_type": "markdown",
   "metadata": {},
   "source": [
    "## Computation\n",
    "### StatsModels Package: `logit`\n",
    "`statsmodels.formula.api.logit()`\n",
    "\n",
    "`logit` function converts from probability to log odds.\n",
    "\n",
    "**Note**: Function requqires the `dependent variable` to be *binary* as opposed to *boolean*.\n",
    "  * convert column to `int` using `pd.astype(int)`\n",
    "  \n",
    "Attributes:\n",
    "  * `endog`: endogenous variables (dependent variables)\n",
    "  * `exog`: exogenous variables (explanatory variables)\n",
    "\n",
    "### Example: NSFG - Sex Ratio\n",
    "\n",
    "**Predictor Variables**  \n",
    "\n",
    "Factors found to affect sex ratio include parents' age, birth order, race, and social status."
   ]
  },
  {
   "cell_type": "code",
   "execution_count": 32,
   "metadata": {
    "collapsed": false
   },
   "outputs": [
    {
     "name": "stderr",
     "output_type": "stream",
     "text": [
      "C:\\Users\\Calvin\\AppData\\Local\\Enthought\\Canopy\\User\\lib\\site-packages\\ipykernel\\__main__.py:10: SettingWithCopyWarning: \n",
      "A value is trying to be set on a copy of a slice from a DataFrame.\n",
      "Try using .loc[row_indexer,col_indexer] = value instead\n",
      "\n",
      "See the caveats in the documentation: http://pandas.pydata.org/pandas-docs/stable/indexing.html#indexing-view-versus-copy\n"
     ]
    }
   ],
   "source": [
    "import nsfg\n",
    "preg = nsfg.ReadFemPreg() # DataFrame\n",
    "live = preg[preg.outcome==1] # filter for live births\n",
    "firsts = live[live.birthord == 1]\n",
    "others = live[live.birthord != 1]\n",
    "\n",
    "df_sex = live[live.prglngth>30]\n",
    "\n",
    "# Convert dependent variable\n",
    "df_sex['boy'] = (df_sex.babysex==1).astype(int)"
   ]
  },
  {
   "cell_type": "markdown",
   "metadata": {},
   "source": [
    "#### Model"
   ]
  },
  {
   "cell_type": "code",
   "execution_count": 33,
   "metadata": {
    "collapsed": false
   },
   "outputs": [
    {
     "name": "stdout",
     "output_type": "stream",
     "text": [
      "Optimization terminated successfully.\n",
      "         Current function value: 0.693015\n",
      "         Iterations 3\n"
     ]
    },
    {
     "data": {
      "text/html": [
       "<table class=\"simpletable\">\n",
       "<caption>Logit Regression Results</caption>\n",
       "<tr>\n",
       "  <th>Dep. Variable:</th>        <td>boy</td>       <th>  No. Observations:  </th>  <td>  8884</td>  \n",
       "</tr>\n",
       "<tr>\n",
       "  <th>Model:</th>               <td>Logit</td>      <th>  Df Residuals:      </th>  <td>  8882</td>  \n",
       "</tr>\n",
       "<tr>\n",
       "  <th>Method:</th>               <td>MLE</td>       <th>  Df Model:          </th>  <td>     1</td>  \n",
       "</tr>\n",
       "<tr>\n",
       "  <th>Date:</th>          <td>Fri, 10 Mar 2017</td> <th>  Pseudo R-squ.:     </th> <td>6.144e-06</td>\n",
       "</tr>\n",
       "<tr>\n",
       "  <th>Time:</th>              <td>18:35:03</td>     <th>  Log-Likelihood:    </th> <td> -6156.7</td> \n",
       "</tr>\n",
       "<tr>\n",
       "  <th>converged:</th>           <td>True</td>       <th>  LL-Null:           </th> <td> -6156.8</td> \n",
       "</tr>\n",
       "<tr>\n",
       "  <th> </th>                      <td> </td>        <th>  LLR p-value:       </th>  <td>0.7833</td>  \n",
       "</tr>\n",
       "</table>\n",
       "<table class=\"simpletable\">\n",
       "<tr>\n",
       "      <td></td>         <th>coef</th>     <th>std err</th>      <th>z</th>      <th>P>|z|</th> <th>[95.0% Conf. Int.]</th> \n",
       "</tr>\n",
       "<tr>\n",
       "  <th>Intercept</th> <td>    0.0058</td> <td>    0.098</td> <td>    0.059</td> <td> 0.953</td> <td>   -0.185     0.197</td>\n",
       "</tr>\n",
       "<tr>\n",
       "  <th>agepreg</th>   <td>    0.0010</td> <td>    0.004</td> <td>    0.275</td> <td> 0.783</td> <td>   -0.006     0.009</td>\n",
       "</tr>\n",
       "</table>"
      ],
      "text/plain": [
       "<class 'statsmodels.iolib.summary.Summary'>\n",
       "\"\"\"\n",
       "                           Logit Regression Results                           \n",
       "==============================================================================\n",
       "Dep. Variable:                    boy   No. Observations:                 8884\n",
       "Model:                          Logit   Df Residuals:                     8882\n",
       "Method:                           MLE   Df Model:                            1\n",
       "Date:                Fri, 10 Mar 2017   Pseudo R-squ.:               6.144e-06\n",
       "Time:                        18:35:03   Log-Likelihood:                -6156.7\n",
       "converged:                       True   LL-Null:                       -6156.8\n",
       "                                        LLR p-value:                    0.7833\n",
       "==============================================================================\n",
       "                 coef    std err          z      P>|z|      [95.0% Conf. Int.]\n",
       "------------------------------------------------------------------------------\n",
       "Intercept      0.0058      0.098      0.059      0.953        -0.185     0.197\n",
       "agepreg        0.0010      0.004      0.275      0.783        -0.006     0.009\n",
       "==============================================================================\n",
       "\"\"\""
      ]
     },
     "execution_count": 33,
     "metadata": {},
     "output_type": "execute_result"
    }
   ],
   "source": [
    "log_model_age = smf.logit(formula='boy ~ agepreg', data=df_sex)\n",
    "age_results = log_model_age.fit()\n",
    "age_results.summary()"
   ]
  },
  {
   "cell_type": "code",
   "execution_count": 34,
   "metadata": {
    "collapsed": false
   },
   "outputs": [
    {
     "name": "stdout",
     "output_type": "stream",
     "text": [
      "Intercept    0.005786\n",
      "agepreg      0.001049\n",
      "dtype: float64\n",
      "\n",
      "Intercept    0.952696\n",
      "agepreg      0.783272\n",
      "dtype: float64\n"
     ]
    }
   ],
   "source": [
    "print age_results.params\n",
    "print \n",
    "print age_results.pvalues"
   ]
  },
  {
   "cell_type": "markdown",
   "metadata": {},
   "source": [
    "##### Conclusion\n",
    "**β<sub>agepreg</sub>** is positive, suggesting that older mothers are more likely to have boys.\n",
    "\n",
    "Yet the **p-value** of 0.783 indicates that the apparent effect could be easily due to chance."
   ]
  },
  {
   "cell_type": "code",
   "execution_count": 35,
   "metadata": {
    "collapsed": false
   },
   "outputs": [
    {
     "name": "stdout",
     "output_type": "stream",
     "text": [
      "Optimization terminated successfully.\n",
      "         Current function value: 0.692944\n",
      "         Iterations 3\n"
     ]
    },
    {
     "data": {
      "text/html": [
       "<table class=\"simpletable\">\n",
       "<caption>Logit Regression Results</caption>\n",
       "<tr>\n",
       "  <th>Dep. Variable:</th>        <td>boy</td>       <th>  No. Observations:  </th>  <td>  8782</td>  \n",
       "</tr>\n",
       "<tr>\n",
       "  <th>Model:</th>               <td>Logit</td>      <th>  Df Residuals:      </th>  <td>  8776</td>  \n",
       "</tr>\n",
       "<tr>\n",
       "  <th>Method:</th>               <td>MLE</td>       <th>  Df Model:          </th>  <td>     5</td>  \n",
       "</tr>\n",
       "<tr>\n",
       "  <th>Date:</th>          <td>Fri, 10 Mar 2017</td> <th>  Pseudo R-squ.:     </th> <td>0.0001440</td>\n",
       "</tr>\n",
       "<tr>\n",
       "  <th>Time:</th>              <td>18:35:03</td>     <th>  Log-Likelihood:    </th> <td> -6085.4</td> \n",
       "</tr>\n",
       "<tr>\n",
       "  <th>converged:</th>           <td>True</td>       <th>  LL-Null:           </th> <td> -6086.3</td> \n",
       "</tr>\n",
       "<tr>\n",
       "  <th> </th>                      <td> </td>        <th>  LLR p-value:       </th>  <td>0.8822</td>  \n",
       "</tr>\n",
       "</table>\n",
       "<table class=\"simpletable\">\n",
       "<tr>\n",
       "        <td></td>          <th>coef</th>     <th>std err</th>      <th>z</th>      <th>P>|z|</th> <th>[95.0% Conf. Int.]</th> \n",
       "</tr>\n",
       "<tr>\n",
       "  <th>Intercept</th>    <td>   -0.0301</td> <td>    0.104</td> <td>   -0.290</td> <td> 0.772</td> <td>   -0.234     0.173</td>\n",
       "</tr>\n",
       "<tr>\n",
       "  <th>C(race)[T.2]</th> <td>   -0.0224</td> <td>    0.051</td> <td>   -0.439</td> <td> 0.660</td> <td>   -0.122     0.077</td>\n",
       "</tr>\n",
       "<tr>\n",
       "  <th>C(race)[T.3]</th> <td>   -0.0005</td> <td>    0.083</td> <td>   -0.005</td> <td> 0.996</td> <td>   -0.163     0.162</td>\n",
       "</tr>\n",
       "<tr>\n",
       "  <th>agepreg</th>      <td>   -0.0027</td> <td>    0.006</td> <td>   -0.484</td> <td> 0.629</td> <td>   -0.014     0.008</td>\n",
       "</tr>\n",
       "<tr>\n",
       "  <th>hpagelb</th>      <td>    0.0047</td> <td>    0.004</td> <td>    1.112</td> <td> 0.266</td> <td>   -0.004     0.013</td>\n",
       "</tr>\n",
       "<tr>\n",
       "  <th>birthord</th>     <td>    0.0050</td> <td>    0.022</td> <td>    0.227</td> <td> 0.821</td> <td>   -0.038     0.048</td>\n",
       "</tr>\n",
       "</table>"
      ],
      "text/plain": [
       "<class 'statsmodels.iolib.summary.Summary'>\n",
       "\"\"\"\n",
       "                           Logit Regression Results                           \n",
       "==============================================================================\n",
       "Dep. Variable:                    boy   No. Observations:                 8782\n",
       "Model:                          Logit   Df Residuals:                     8776\n",
       "Method:                           MLE   Df Model:                            5\n",
       "Date:                Fri, 10 Mar 2017   Pseudo R-squ.:               0.0001440\n",
       "Time:                        18:35:03   Log-Likelihood:                -6085.4\n",
       "converged:                       True   LL-Null:                       -6086.3\n",
       "                                        LLR p-value:                    0.8822\n",
       "================================================================================\n",
       "                   coef    std err          z      P>|z|      [95.0% Conf. Int.]\n",
       "--------------------------------------------------------------------------------\n",
       "Intercept       -0.0301      0.104     -0.290      0.772        -0.234     0.173\n",
       "C(race)[T.2]    -0.0224      0.051     -0.439      0.660        -0.122     0.077\n",
       "C(race)[T.3]    -0.0005      0.083     -0.005      0.996        -0.163     0.162\n",
       "agepreg         -0.0027      0.006     -0.484      0.629        -0.014     0.008\n",
       "hpagelb          0.0047      0.004      1.112      0.266        -0.004     0.013\n",
       "birthord         0.0050      0.022      0.227      0.821        -0.038     0.048\n",
       "================================================================================\n",
       "\"\"\""
      ]
     },
     "execution_count": 35,
     "metadata": {},
     "output_type": "execute_result"
    }
   ],
   "source": [
    "f_sex = 'boy ~ agepreg + hpagelb + birthord + C(race)'\n",
    "log_model = smf.logit(formula=f_sex, data=df_sex)\n",
    "sex_results = log_model.fit()\n",
    "sex_results.summary()"
   ]
  },
  {
   "cell_type": "code",
   "execution_count": 36,
   "metadata": {
    "collapsed": false
   },
   "outputs": [
    {
     "name": "stdout",
     "output_type": "stream",
     "text": [
      "slope:\n",
      "Intercept      -0.030133\n",
      "C(race)[T.2]   -0.022382\n",
      "C(race)[T.3]   -0.000457\n",
      "agepreg        -0.002673\n",
      "hpagelb         0.004703\n",
      "birthord        0.005007\n",
      "dtype: float64\n",
      "\n",
      " p-values:\n",
      "Intercept       0.771694\n",
      "C(race)[T.2]    0.660437\n",
      "C(race)[T.3]    0.995612\n",
      "agepreg         0.628641\n",
      "hpagelb         0.266229\n",
      "birthord        0.820617\n",
      "dtype: float64\n"
     ]
    }
   ],
   "source": [
    "print \"slope:\"\n",
    "print sex_results.params\n",
    "print \"\\n p-values:\"\n",
    "print sex_results.pvalues"
   ]
  },
  {
   "cell_type": "markdown",
   "metadata": {},
   "source": [
    "##### Conclusions\n",
    "None of the estimated parameters are statistically significant. The **pseudo-R<sup>2</sup>** value is slightly higher for multiple logistic regression, but that could be due to chance."
   ]
  },
  {
   "cell_type": "markdown",
   "metadata": {},
   "source": [
    "## Goodness of Fit\n",
    "**R<sup>2</sup>** does not apply to logistic regression.\n",
    "\n",
    "Alternatives:\n",
    "  * pseudo R<sup>2</sup> values"
   ]
  },
  {
   "cell_type": "markdown",
   "metadata": {},
   "source": [
    "## Accuracy of Model\n",
    "Accuracy of the model is the number of successful predictions compared to what we would expect by chance.\n",
    "\n",
    "To make a prediction, we must extract the exogenous and endogenous variables."
   ]
  },
  {
   "cell_type": "code",
   "execution_count": 37,
   "metadata": {
    "collapsed": false
   },
   "outputs": [],
   "source": [
    "endog = pd.DataFrame(log_model.endog, \n",
    "                     columns = [log_model.endog_names])\n",
    "exog = pd.DataFrame(log_model.exog, \n",
    "                    columns = [log_model.exog_names])"
   ]
  },
  {
   "cell_type": "markdown",
   "metadata": {},
   "source": [
    "#### Baseline Prediction Strategy\n",
    "Baseline strategy is to guess \"boy\" everytime time since the NSFG data has more boys than girls. The accuracy of this strategy is just the fraction of boys."
   ]
  },
  {
   "cell_type": "code",
   "execution_count": 38,
   "metadata": {
    "collapsed": false
   },
   "outputs": [
    {
     "data": {
      "text/plain": [
       "0.50717376451833296"
      ]
     },
     "execution_count": 38,
     "metadata": {},
     "output_type": "execute_result"
    }
   ],
   "source": [
    "actual = endog['boy']\n",
    "baseline = actual.mean()\n",
    "baseline"
   ]
  },
  {
   "cell_type": "markdown",
   "metadata": {},
   "source": [
    "`actual` is encoded in binary integers, the mean is the fraction of boys (0.507).\n",
    "\n",
    "Thus, we're right almost 51% of the time with this guess"
   ]
  },
  {
   "cell_type": "markdown",
   "metadata": {},
   "source": [
    "#### Model Accuracy Strategy\n",
    "Use logistic regression model to compute the number of predictions that are correct."
   ]
  },
  {
   "cell_type": "code",
   "execution_count": 39,
   "metadata": {
    "collapsed": false
   },
   "outputs": [],
   "source": [
    "predict = (sex_results.predict() >= 0.5)\n",
    "true_pos = predict * actual\n",
    "true_neg = (1 - predict) * (1 - actual)"
   ]
  },
  {
   "cell_type": "markdown",
   "metadata": {},
   "source": [
    "`results.predict` returns a NumPy array of probabilities, which are rounded off to `0` or `1`. Multiplying by `actual` yields 1 if we predict a `boy` aand get it right, `0` otherwise.\n",
    "  * `true_pos` indicates **true positives**\n",
    "  * `true_neg` indicates the cases where we guess `girl` and get it right\n",
    "\n",
    "**Accuracy** is the fraction of correct guesses\n",
    "`acc = (sum(true_pos) + sum(true_neg)) / len(actual)`"
   ]
  },
  {
   "cell_type": "code",
   "execution_count": 40,
   "metadata": {
    "collapsed": false
   },
   "outputs": [
    {
     "data": {
      "text/plain": [
       "0.51150079708494645"
      ]
     },
     "execution_count": 40,
     "metadata": {},
     "output_type": "execute_result"
    }
   ],
   "source": [
    "acc = (np.sum(true_pos) + np.sum(true_neg)) / len(actual)\n",
    "acc"
   ]
  },
  {
   "cell_type": "markdown",
   "metadata": {},
   "source": [
    "This result has a slightly superior strategy than the baseline (0.512 versus 0.507)."
   ]
  },
  {
   "cell_type": "markdown",
   "metadata": {
    "collapsed": true
   },
   "source": [
    "## Hypothesis Test\n",
    "\n",
    "1) Hypothesis\n",
    "  * **H<sub>0</sub>**: There is no effect of `agepreg` on the sex of the baby being male (`Boy`). (β<sub>1</sub> = 0)\n",
    "  * **H<sub>A</sub>**: There is qn effect of `agepreg` on the sex of the baby being male (`Boy`). (β<sub>1</sub> ≠ 0)\n",
    "  \n",
    "Predictors (`x`)\n",
    "  * `agepreg` (continuous)\n",
    "\n",
    "Response (`y)\n",
    "  * `Boy` (dichotomous)\n",
    "     * `1`: boy\n",
    "     * `0`: girl\n",
    "  \n",
    "2) Compute test-statistic & p-value\n",
    "  * test-statistic: **slope** (β<sub>1</sub>)"
   ]
  },
  {
   "cell_type": "code",
   "execution_count": 43,
   "metadata": {
    "collapsed": false
   },
   "outputs": [
    {
     "name": "stdout",
     "output_type": "stream",
     "text": [
      "Optimization terminated successfully.\n",
      "         Current function value: 0.693015\n",
      "         Iterations 3\n",
      "slope = 0.001\n",
      "p-value = 0.783\n",
      "95% CI =  [-0.0064241089080019614, 0.0085215537466830638]\n"
     ]
    }
   ],
   "source": [
    "log_model_age = smf.logit(formula='boy ~ agepreg', data=df_sex)\n",
    "age_results = log_model_age.fit()\n",
    "\n",
    "print \"slope = %.3f\" % age_results.params['agepreg']\n",
    "print \"p-value = %.3f\" % age_results.pvalues['agepreg']\n",
    "print \"95% CI = \", list(age_results.conf_int().loc['agepreg'])"
   ]
  },
  {
   "cell_type": "code",
   "execution_count": 45,
   "metadata": {
    "collapsed": false
   },
   "outputs": [
    {
     "data": {
      "text/plain": [
       "1.0010492725209814"
      ]
     },
     "execution_count": 45,
     "metadata": {},
     "output_type": "execute_result"
    }
   ],
   "source": [
    "odds_ratio = np.exp(age_results.params['agepreg'])\n",
    "odds_ratio"
   ]
  },
  {
   "cell_type": "markdown",
   "metadata": {},
   "source": [
    "**Odds Ratio**\n",
    "`1`: boy\n",
    "`0`: girl\n",
    "\n",
    "The odds ratio states thatthe odds of the newborn being a boy is 1.001 to 1.\n",
    "\n",
    "`Odds Ratio = e<sup>β<sub>1</sub>`"
   ]
  },
  {
   "cell_type": "markdown",
   "metadata": {
    "collapsed": true
   },
   "source": [
    "3.) Analyze the Results  \n",
    "\n",
    "The test-statistic (**β<sub>1</sub>**) is 0.001 and the confidence interval does not contain a slope value of 0. Despite this, the **p-value** is large (p-value > 0.05), not providing evidence against H<sub>0</sub>. Thus, the null hypothesis is not rejected. There is no significant effect of `agepreg` on the sex of the baby being a boy.\n",
    "\n",
    "**Conclusion**:  \n",
    "**β<sub>agepreg</sub>** is positive, suggesting that older mothers are more likely to have boys. More specifically, for every one unit increase in `agepreg`, the estimated log(odds) increases by 0.001 units.\n",
    "\n",
    "In terms of the **odds ratio**, the odds that a newborn baby will be a boy compared to those being a girl is 1.001 to 1.\n",
    "\n",
    "Yet the **p-value** of 0.783 indicates that the apparent effect could be easily due to chance."
   ]
  }
 ],
 "metadata": {
  "kernelspec": {
   "display_name": "Python 2",
   "language": "python",
   "name": "python2"
  },
  "language_info": {
   "codemirror_mode": {
    "name": "ipython",
    "version": 2
   },
   "file_extension": ".py",
   "mimetype": "text/x-python",
   "name": "python",
   "nbconvert_exporter": "python",
   "pygments_lexer": "ipython2",
   "version": "2.7.10"
  }
 },
 "nbformat": 4,
 "nbformat_minor": 0
}
