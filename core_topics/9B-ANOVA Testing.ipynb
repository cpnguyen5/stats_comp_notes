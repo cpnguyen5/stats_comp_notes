{
 "cells": [
  {
   "cell_type": "markdown",
   "metadata": {},
   "source": [
    "# Analysis of Variance: ANOVA"
   ]
  },
  {
   "cell_type": "code",
   "execution_count": 1,
   "metadata": {
    "collapsed": true
   },
   "outputs": [],
   "source": [
    "import numpy as np\n",
    "import pandas as pd\n",
    "from scipy import stats\n",
    "import matplotlib.pyplot as plt"
   ]
  },
  {
   "cell_type": "markdown",
   "metadata": {},
   "source": [
    "## Purpose\n",
    "**ANOVA** is a statistical *inference* test that compares the means of multiple groups at the same time.\n",
    "  * *Key Principle*: divide the variance into the variance *between* groups and that *within* groups to see if those distributions match the null hypothesis (H<sub>0</sub>) that all groups come from the same distribution.\n",
    "  \n",
    "**Factors/Treatments**: variables that distinguish the different groups\n",
    "  * Treatment Groups A, B, C, D\n",
    "\n",
    "\n",
    "### ANOVA vs.  t-tests\n",
    "An ANOVA test is analogous to carrying out *multiple, separate* **t-tests** for each pair of groups. \n",
    "  * *Limitation of multiple t-tests*: increases the chances of false positives as the number of tests increases (**Type I Error*).\n",
    "    \n",
    "**t-tests** only work well when dealing with *2* groups*. **ANOVA** should be used to compare *multiple* groups (categorical data with *multiple values*) at the same time.\n",
    "  * *Example*: Race\n",
    "    \n",
    "### F-statistic\n",
    "`F = variance`<sub>between groups</sub>` / variance`<sub>within groups</sub>\n",
    "\n",
    "**F-statistic** (*aka F ratio*): the variance ratio used in ANOVA to compare variance.\n",
    "\n",
    "#### Distribution\n",
    "Under the null hypothesis, the F-statistic has a F-ratio distribution. Like the t-test approach, if the test-statistic (**F-statistic**) exceeds the critical value for the level of significance (α = 0.05), H<sub>0</sub> is rejected.\n",
    "  "
   ]
  },
  {
   "cell_type": "code",
   "execution_count": 2,
   "metadata": {
    "collapsed": false
   },
   "outputs": [
    {
     "data": {
      "image/png": "[encoded data removed]",
      "text/plain": [
       "<IPython.core.display.Image object>"
      ]
     },
     "metadata": {},
     "output_type": "display_data"
    }
   ],
   "source": [
    "from IPython.display import Image, display\n",
    "import platform\n",
    "\n",
    "if platform.system()=='Linux':\n",
    "    display(Image(filename='/home/cpnguyen/stats_comp_notes/core_topics/anova_dist.png'))\n",
    "# if platform.system()=='Windows':\n",
    "#     display(Image(filename='C:\\Users\\Calvin\\Desktop\\HS 699\\code\\hyptest.jpg'))"
   ]
  },
  {
   "cell_type": "markdown",
   "metadata": {},
   "source": [
    "## Fundamental Technique\n",
    "### Sum of Squares\n",
    "**Sum of Squares Total (SST)**: the total variation partitioned into:\n",
    "   1. **SSA**: among-group variation\n",
    "   2. **SSW**: within-group variation\n",
    "   \n",
    "**`SST = SSA + SSW`**\n",
    "\n",
    "### Mean Squares\n",
    "Three variances, called **Mean Square** terms, are extracted by dividing each of the component *Sum of Squares* by their respective degrees of freedom.\n",
    "\n",
    "  * **Mean Square Among (MSA)** = SSA/(c-1)\n",
    "  * **Mean Square Within (MSW)** = SSW/(n-c)\n",
    "  * **Mean Square Total (MST)** = SST/ (n-1)\n",
    "\n",
    "If H<sub>0</sub> is *true*, then all three **mean squares** provide an estimate of the overall variance of the data.\n",
    "\n",
    "##### ANOVA Degrees of Freedom (df)\n",
    "df<sub>ANOVA</sub> = `c-1`\n",
    "  * `c`: the number of groups\n",
    "  \n"
   ]
  },
  {
   "cell_type": "markdown",
   "metadata": {},
   "source": [
    "## One-Way ANOVA\n",
    "**Purpose**: Test whether the mean of some *numeric* variable differs across the levels of one *categorical variable*.\n",
    "  * Answers the question: *Do any of the group means differ from one another?*\n",
    "  * Measures the effect and itneraction of one predictor factor on the response.\n",
    "\n",
    "http://hamelg.blogspot.com/2015/11/python-for-data-analysis-part-16_23.html\n",
    "http://www.randalolson.com/2012/08/06/statistical-analysis-made-easy-in-python/\n",
    "\n",
    "### Test Statistic: F-statistic<sub>one-way</sub>\n",
    "`F-statistic = MSA / MSW`\n",
    "\n",
    "#### Output\n",
    "  * H<sub>0</sub> is *true*: **F-statistic** = 1.0\n",
    "  * H<sub>0</sub> is *false*: **F-statistic** > 1.0\n",
    "\n",
    "### SciPy Package: `f_oneway()`\n",
    "https://docs.scipy.org/doc/scipy-0.18.1/reference/generated/scipy.stats.f_oneway.html  \n",
    "`scipy.stats.f_oneway(group1, group2, ..., groupn)`\n",
    "\n",
    "### StatsModels Package: `anova_lm`\n",
    "\n",
    "`statsmodels.stats.anova.anova_lm()`"
   ]
  },
  {
   "cell_type": "markdown",
   "metadata": {},
   "source": [
    "### Example: Average Voter Age Across Race\n",
    "Compare the mean average age of voters across race (*categorical variable*).\n",
    "\n",
    "Hypotheses\n",
    "  * **H<sub>0</sub>**: The sample mean points to a population where the population mean is μ so that μ<sub>A</sub> = μ<sub>B</sub> = μ<sub>C</sub> = μ<sub>D</sub>.\n",
    "  * **H<sub>A</sub>**: The sample mean points to a population where the population mean is not μ so that μ<sub>A</sub> ≠ μ<sub>B</sub> ≠ μ<sub>C</sub> ≠ μ<sub>D</sub>."
   ]
  },
  {
   "cell_type": "code",
   "execution_count": 3,
   "metadata": {
    "collapsed": false
   },
   "outputs": [
    {
     "data": {
      "text/plain": [
       "F_onewayResult(statistic=1.7744689357329695, pvalue=0.13173183201930463)"
      ]
     },
     "execution_count": 3,
     "metadata": {},
     "output_type": "execute_result"
    }
   ],
   "source": [
    "np.random.seed(12)\n",
    "\n",
    "races =   [\"asian\",\"black\",\"hispanic\",\"other\",\"white\"]\n",
    "\n",
    "# Generate random data\n",
    "voter_race = np.random.choice(a= races,\n",
    "                              p = [0.05, 0.15 ,0.25, 0.05, 0.5],\n",
    "                              size=1000)\n",
    "\n",
    "voter_age = stats.poisson.rvs(loc=18,\n",
    "                              mu=30,\n",
    "                              size=1000)\n",
    "\n",
    "# Group age data by race\n",
    "voter_frame = pd.DataFrame({\"race\":voter_race,\"age\":voter_age})\n",
    "groups = voter_frame.groupby(\"race\").groups\n",
    "\n",
    "# Etract individual groups\n",
    "asian = voter_age[groups[\"asian\"]]\n",
    "black = voter_age[groups[\"black\"]]\n",
    "hispanic = voter_age[groups[\"hispanic\"]]\n",
    "other = voter_age[groups[\"other\"]]\n",
    "white = voter_age[groups[\"white\"]]\n",
    "\n",
    "# Perform the ANOVA\n",
    "stats.f_oneway(asian, black, hispanic, other, white)"
   ]
  },
  {
   "cell_type": "markdown",
   "metadata": {},
   "source": [
    "The one-way ANOVA test yields a **F-statistic** of 1.774 and **p-value** of 0.1317. Thus, indicating that there's no significant difference between the means of the group."
   ]
  },
  {
   "cell_type": "code",
   "execution_count": null,
   "metadata": {
    "collapsed": true
   },
   "outputs": [],
   "source": []
  }
 ],
 "metadata": {
  "kernelspec": {
   "display_name": "Python 2",
   "language": "python",
   "name": "python2"
  },
  "language_info": {
   "codemirror_mode": {
    "name": "ipython",
    "version": 2
   },
   "file_extension": ".py",
   "mimetype": "text/x-python",
   "name": "python",
   "nbconvert_exporter": "python",
   "pygments_lexer": "ipython2",
   "version": "2.7.11"
  }
 },
 "nbformat": 4,
 "nbformat_minor": 2
}
