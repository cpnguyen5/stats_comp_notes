{
 "cells": [
  {
   "cell_type": "markdown",
   "metadata": {},
   "source": [
    "# Chapter 13: Survival Analysis"
   ]
  },
  {
   "cell_type": "code",
   "execution_count": 1,
   "metadata": {
    "collapsed": false
   },
   "outputs": [],
   "source": [
    "import numpy as np\n",
    "import pandas as pd\n",
    "import math\n",
    "import statsmodels.formula.api as smf\n",
    "import statsmodels.tsa.stattools as smtsa\n",
    "import matplotlib.pyplot as plt\n",
    "import nsfg\n",
    "from statsmodels.distributions.empirical_distribution import ECDF\n",
    "import lifelines\n",
    "from collections import Counter\n",
    "import os\n",
    "\n",
    "%matplotlib inline"
   ]
  },
  {
   "cell_type": "markdown",
   "metadata": {},
   "source": [
    "## Survival Analysis\n",
    "**Survival Analysis**: a set of methods for describing & predicting life-times (*how long things last *), or more generally time until an event occurs (**duration**).\n",
    "\n",
    "Estimate of the probability of surviving `X` years (\"X-year survival rate\") after diagnosis of a life-threatening disease and related statistics are the result of survival analysis.\n",
    "\n",
    "### Applications\n",
    "Traditionally, survival analysis was develop to measure lifespans of individuals (e.g. *How long does this population live for?*).  It's applications extends beyond traditional births and deaths, *but **any duration*** until an event occurs.\n",
    "\n",
    "*Examples*:\n",
    "  * human lifetimes (*time to death in biological systems*)\n",
    "  * \"survival\" of mechanical & electronic components\n",
    "  * How long can we expect a user to be on a website/service?\n",
    "  * Time to recovery for lung cancer treatment\n",
    "  \n",
    "### Core Topics\n",
    "  1. **Survival Function** (*`S`*): probability that event (e.g. death) has not occurred yet at time (`t`).\n",
    "    * Estimation: **Kaplan-Meier**\n",
    "  2. **Hazard Function**: probability of the event happening (e.g. \"death\") in the next instant (`λ`).\n",
    "    * Estimation: **Nelson-Aalen**\n",
    "    \n",
    "https://plot.ly/ipython-notebooks/survival-analysis-r-vs-python/#Survival-Analysis-with-Plotly:-R-vs.-Python"
   ]
  },
  {
   "cell_type": "markdown",
   "metadata": {},
   "source": [
    "## Survival Curves (*`S`*)\n",
    "**Survival Curve** (`S(t)`): a function that maps from a duration (`t`) to the probability of surviving longer than `t`. \n",
    "  * complement of the CDF of the distribution of durations (\"lifetimes\")\n",
    "  \n",
    "In other words, it's the probability that the **event** (e.g. death) has not occurred yet at time (**`t`**). More equivalently, it's the probability of surviving until at least time (`t`).\n",
    "\n",
    "`S(t) = Pr( T > t)`\n",
    "  * **S**: a probability at time `t`\n",
    "    * `0 ≤ S(t)≤ 1`\n",
    "  * **Pr**: probability of survival times\n",
    "    * survival times are non-negative (**T ≥ 0 **)\n",
    "    * S(0) = 1.0\n",
    "  * **T**: denotes time of event (e.g. death)\n",
    "  \n",
    "\n",
    "#### Survival Function Equation\n",
    "`S(t) = 1 - CDF(t)`  \n",
    "  * CDF(t): probability of a lifetime ≤ `t`"
   ]
  },
  {
   "cell_type": "code",
   "execution_count": 2,
   "metadata": {
    "collapsed": true
   },
   "outputs": [],
   "source": [
    "def survival_function(cdf_obj, percentile):\n",
    "    \"\"\"Function takes the CDF object and percentile and returns the corresponding\n",
    "    survival curve.\n",
    "    \"\"\"\n",
    "    return 1 - cdf_obj([percentile])[0]"
   ]
  },
  {
   "cell_type": "markdown",
   "metadata": {},
   "source": [
    "### NSFG Example: Pregnancies\n",
    "The duration of 11,189 pregnancies is known.\n",
    "\n",
    "Completed pregnancies have `outcome` values of `1, 3,` & `4`.\n",
    "`outcome` (11,189):\n",
    "  * `1` (live birth): 9148\n",
    "  * `3` (still birth): 120\n",
    "  * `4` (miscarriage): 1921\n",
    "\n",
    "#### pandas `query()` method\n",
    "`pandas.DataFrame.query()` method takes a boolean expression and evaluates it for each row, *selecting the rows that yield True*."
   ]
  },
  {
   "cell_type": "code",
   "execution_count": 3,
   "metadata": {
    "collapsed": false
   },
   "outputs": [],
   "source": [
    "preg = nsfg.ReadFemPreg()\n",
    "complete = preg.query('outcome in [1,3,4]').prglngth\n",
    "cdf_preg = ECDF(complete)"
   ]
  },
  {
   "cell_type": "markdown",
   "metadata": {},
   "source": [
    "The `x` attribute of the ECDF StatsModels method is equivalent to the original `x` input (*lifetimes*)."
   ]
  },
  {
   "cell_type": "code",
   "execution_count": 4,
   "metadata": {
    "collapsed": false
   },
   "outputs": [
    {
     "data": {
      "text/plain": [
       "True    11189\n",
       "Name: prglngth, dtype: int64"
      ]
     },
     "execution_count": 4,
     "metadata": {},
     "output_type": "execute_result"
    }
   ],
   "source": [
    "compare = complete.sort_values() == cdf_preg.x[1:]\n",
    "compare.value_counts()"
   ]
  },
  {
   "cell_type": "markdown",
   "metadata": {},
   "source": [
    "Compress list to unique values. Original list has multiple duplicate values, which have the same CDF values (*each value is tied to a CDF/percentile*). \n",
    "\n",
    "**Note**: This smooths the curve by preventing the plotting of duplicate data points. Data points of the same `x` have the same percentile or CDF value (`y`)."
   ]
  },
  {
   "cell_type": "code",
   "execution_count": 5,
   "metadata": {
    "collapsed": false
   },
   "outputs": [],
   "source": [
    "cdf_x = np.unique(cdf_preg.x[1:]).astype(int) # sequence of unique lifetimes\n",
    "cdf_y = np.array([cdf_preg([x])[0] for x in cdf_x])"
   ]
  },
  {
   "cell_type": "code",
   "execution_count": 6,
   "metadata": {
    "collapsed": false
   },
   "outputs": [],
   "source": [
    "# surv_curve = 1 - cdf_preg.y[1:]\n",
    "surv_curve = 1 - cdf_y"
   ]
  },
  {
   "cell_type": "code",
   "execution_count": 7,
   "metadata": {
    "collapsed": false
   },
   "outputs": [
    {
     "data": {
      "image/png": "[encoded data removed]",
      "text/plain": [
       "<matplotlib.figure.Figure at 0x7f7c4fb34f10>"
      ]
     },
     "metadata": {},
     "output_type": "display_data"
    }
   ],
   "source": [
    "# plt.plot(complete.sort_values(), cdf_preg.y[1:])\n",
    "plt.plot(cdf_preg.x, cdf_preg.y, label='cdf')\n",
    "# plt.plot(range(int(cdf_preg.x.max()) + 1), surv_curve, label='survival')\n",
    "plt.plot(cdf_x, surv_curve, label='survival')\n",
    "plt.xlabel('t(weeks)')\n",
    "plt.ylabel('CDF (probability)')\n",
    "plt.title('Pregnancy Length')\n",
    "plt.legend(loc='best')\n",
    "plt.show()"
   ]
  },
  {
   "cell_type": "markdown",
   "metadata": {},
   "source": [
    "Plot of survival curve (`S(t)`) and CDF (percentiles) of pregnancy length.\n",
    "\n",
    "The curve is nearly flat between 13 and 26 weeks (2nd trimester), which shows that few pregnancies end in the second trimester.\n",
    "\n",
    "The curve is steepest around 39 weeks (3rd trimester), which is the most common pregnancy length."
   ]
  },
  {
   "cell_type": "markdown",
   "metadata": {},
   "source": [
    "#### Survival Function\n",
    "Determine the survival curve to its corresponding lifetime (`x`) in *weeks*.\n",
    "\n",
    "**Lifetime: 13 weeks**"
   ]
  },
  {
   "cell_type": "code",
   "execution_count": 8,
   "metadata": {
    "collapsed": false
   },
   "outputs": [
    {
     "data": {
      "text/plain": [
       "0.86021985878988294"
      ]
     },
     "execution_count": 8,
     "metadata": {},
     "output_type": "execute_result"
    }
   ],
   "source": [
    "# 1 - cdf([13])[0]\n",
    "survival_function(cdf_preg, 13)"
   ]
  },
  {
   "cell_type": "code",
   "execution_count": 9,
   "metadata": {
    "collapsed": false
   },
   "outputs": [
    {
     "data": {
      "text/plain": [
       "0.13978014121011709"
      ]
     },
     "execution_count": 9,
     "metadata": {},
     "output_type": "execute_result"
    }
   ],
   "source": [
    "cdf_preg([13])[0]"
   ]
  },
  {
   "cell_type": "markdown",
   "metadata": {},
   "source": [
    "The survival curve (fraction) of pregnancies that proceeded past the first trimester (lifecyle: *13 weeks*) is 0.86022.\n",
    "\n",
    "About 86% of pregnancies reached the 1st trimester and 14% did not."
   ]
  },
  {
   "cell_type": "markdown",
   "metadata": {
    "collapsed": true
   },
   "source": [
    "## Hazard Function **(`λ(t)`)**\n",
    "**Hazard Function**: a function that maps from time (`t`) to the fraction of people alive until `t` who die at `t`.\n",
    "  * derived from the **survival curve**\n",
    "  * important tool for **estimating survival curves**.\n",
    "\n",
    "It depicts the probability of the event happening (e.g. \"death\") in the next instant, given that the event has not occurred yet.\n",
    "\n",
    "### Equation  \n",
    "**`λ(t) = (S(t) − S(t + 1)) / (S(t))`**\n",
    "\n",
    "  * Numerator: fraction of lifetimes *that end at `t`*\n",
    "    * which is also **`PMF(t)`**\n",
    "    \n",
    "The function is non-parametric, enabling easy conversion between **survival functions** and **hazard functions**.\n",
    "    \n",
    "**Example**: The hazard function maps from a time (`t`) to the fraction of pregnancies that continue until `t` *and then end at `t`*."
   ]
  },
  {
   "cell_type": "code",
   "execution_count": 10,
   "metadata": {
    "collapsed": true
   },
   "outputs": [],
   "source": [
    "def hazard_func(cdf_obj, t):\n",
    "    \n",
    "    surv_curve_t = survival_function(cdf_obj, t)\n",
    "    lam = (surv_curve_t - survival_function(cdf_obj, t+1)) / surv_curve_t\n",
    "    return lam"
   ]
  },
  {
   "cell_type": "code",
   "execution_count": 11,
   "metadata": {
    "collapsed": false
   },
   "outputs": [
    {
     "data": {
      "text/plain": [
       "0.49689440993788825"
      ]
     },
     "execution_count": 11,
     "metadata": {},
     "output_type": "execute_result"
    }
   ],
   "source": [
    "hazard_func(cdf_preg, 39)"
   ]
  },
  {
   "cell_type": "markdown",
   "metadata": {},
   "source": [
    "Of all pregnancies that proceed until **week 39**(`t`), about 50% *end in week 39*."
   ]
  },
  {
   "cell_type": "markdown",
   "metadata": {},
   "source": [
    "#### Plot: Hazard Function of NSFG Pregnancy Lengths\n",
    "The hazard function is erratic after week 42 because it is based on a small number of cases. Aside from this, the shape of the curve is as is expected:\n",
    "  * The highest is around **39 weeks**\n",
    "  * values are a little higher in the first trimester than in the second"
   ]
  },
  {
   "cell_type": "code",
   "execution_count": 12,
   "metadata": {
    "collapsed": false
   },
   "outputs": [
    {
     "name": "stderr",
     "output_type": "stream",
     "text": [
      "/home/cpnguyen/Enthought/Canopy_64bit/User/lib/python2.7/site-packages/ipykernel/__main__.py:4: RuntimeWarning: invalid value encountered in double_scalars\n"
     ]
    }
   ],
   "source": [
    "hazard_curve = []\n",
    "for elem in cdf_x:\n",
    "    hazard_curve += [hazard_func(cdf_preg, elem)]"
   ]
  },
  {
   "cell_type": "code",
   "execution_count": 13,
   "metadata": {
    "collapsed": false
   },
   "outputs": [
    {
     "data": {
      "image/png": "[encoded data removed]",
      "text/plain": [
       "<matplotlib.figure.Figure at 0x7f7c4f869990>"
      ]
     },
     "metadata": {},
     "output_type": "display_data"
    }
   ],
   "source": [
    "plt.figure(figsize=(8,3))\n",
    "plt.plot(cdf_x, hazard_curve, label='hazard')\n",
    "plt.xlabel('t (weeks)')\n",
    "plt.title('Hazard Function: Pregnancy Length')\n",
    "plt.legend(loc='best')\n",
    "plt.show()"
   ]
  },
  {
   "cell_type": "markdown",
   "metadata": {
    "collapsed": true
   },
   "source": [
    "# Estimation\n",
    "## Inferring Survival Curves\n",
    "In real-world scenarios, the distribution or CDF of lifetimes are not measured directly. Instead, they must be *inferred*.\n",
    "  * Example: Suppose you're following a group of patients to see how long they survive after a diagnosis. Not all patients are diagnosed on the same day, so at any point in time, some patients may have survived longer than others. If some patients have passed, we know their survival times. For patients still alive, their survival times are unknown, but the lower bound is known.\n",
    "  \n",
    "The survival curve cannot always be computed until after all patients have passed. For instance, the evaluation of the effectiveness of a new treatment would require earlier computation with *incomplete information*.  \n",
    "\n",
    "### Survival Analysis Inference Methods:\n",
    "  1. Kaplan-Meier\n",
    "  2. Nelson-Aalen"
   ]
  },
  {
   "cell_type": "markdown",
   "metadata": {},
   "source": [
    "### NSFG Example - Respondents' \"Survival\" (Age) Until 1st Marriage\n",
    "Estimate the hazard function and survival function for age at first marriage. Quantify how long respondents \"survive\" *until they get married for the first time*. The range of respondents' ages is 14-44 years. Thus, the data provides a snapshot of women at different stages in their lives.\n",
    "\n",
    "The data provides the age at first marriage for *some* women:\n",
    "  * **Married women**: dataset includes the date of their 1st marriage and their age at the time.\n",
    "  * **Unmarried women**: data includes age during time of interview, but incomplete information regarding if and when they got married\n",
    "\n",
    "**Note**: It's tempting to exclude the women with unknown marriage info and compute the CDF of known data, but this is ***poor practice***.\n",
    "  * Result would be misleading in 2 ways:\n",
    "    1. Overrepresentation of *older* women (more likely to be married when interviewed*)\n",
    "    2. Overrepresentation of *married* women\n",
    "  * False Conclusion that all women get married, which is incorrect.\n",
    "  \n",
    "#### Dataset Features\n",
    "  * **`cmbirth`**: The respondent's date of birth, known for all respondents.\n",
    "  * **`cmintvw`**: The date the respondent was interviewed, known for all re-\n",
    "spondents.\n",
    "  * **`cmmarrhx`**: The date the respondent was \f",
    "rst married, if applicable and\n",
    "known.\n",
    "  * **`evrmarry`**: 1 if the respondent had been married prior to the date of\n",
    "interview, 0 otherwise.\n",
    "\n",
    "The first 3 features are encoded in \"century-months\", so the integer represents the number of months since December 1899."
   ]
  },
  {
   "cell_type": "markdown",
   "metadata": {},
   "source": [
    "Read in respondent file"
   ]
  },
  {
   "cell_type": "code",
   "execution_count": 14,
   "metadata": {
    "collapsed": false
   },
   "outputs": [
    {
     "data": {
      "text/plain": [
       "(7643, 3087)"
      ]
     },
     "execution_count": 14,
     "metadata": {},
     "output_type": "execute_result"
    }
   ],
   "source": [
    "resp = nsfg.ReadFemResp()\n",
    "resp.shape"
   ]
  },
  {
   "cell_type": "markdown",
   "metadata": {},
   "source": [
    "Clean up variables\n",
    "1. Replace invalid values (code 9997, 9998, & 9999) of `cmmarrhx`.\n",
    "2. Compute each respondent's age when *married* & when *interviewed*."
   ]
  },
  {
   "cell_type": "code",
   "execution_count": 15,
   "metadata": {
    "collapsed": false
   },
   "outputs": [
    {
     "name": "stdout",
     "output_type": "stream",
     "text": [
      "(7643, 3087)\n"
     ]
    },
    {
     "data": {
      "text/plain": [
       "(4089, 7643)"
      ]
     },
     "execution_count": 15,
     "metadata": {},
     "output_type": "execute_result"
    }
   ],
   "source": [
    "# Replace invalid values/code with np.nan\n",
    "resp.cmmarrhx.replace([9997, 9998, 9999], np.nan, inplace=True)\n",
    "print resp.shape\n",
    "\n",
    "# age when married & interviewed\n",
    "resp['agemarry'] = (resp.cmmarrhx - resp.cmbirth) / 12.0\n",
    "resp['ageintvw'] = (resp.cmintvw - resp.cmbirth) / 12.0\n",
    "\n",
    "resp['agemarry'].notnull().sum(), resp['ageintvw'].notnull().sum()"
   ]
  },
  {
   "cell_type": "markdown",
   "metadata": {},
   "source": [
    "Extract ages:\n",
    "  * `complete`: age at first marriage for women who have been married\n",
    "  * `ongoing`: age at interview for women who have not been married"
   ]
  },
  {
   "cell_type": "code",
   "execution_count": 17,
   "metadata": {
    "collapsed": false
   },
   "outputs": [
    {
     "data": {
      "text/plain": [
       "((4089,), (3517,))"
      ]
     },
     "execution_count": 17,
     "metadata": {},
     "output_type": "execute_result"
    }
   ],
   "source": [
    "complete = resp[resp.evrmarry==1].agemarry.dropna()\n",
    "ongoing = resp[resp.evrmarry==0].ageintvw\n",
    "\n",
    "complete.shape, ongoing.shape"
   ]
  },
  {
   "cell_type": "markdown",
   "metadata": {},
   "source": [
    "4089 of the respondents got married, 3,517 \"survived\" and remain unmarried (event \"*1st marriage*\" has not occurred yet).\n",
    "\n",
    "Create a comprehensive list of age that includes all ages (married and interviewed for those that the event occurred and didn't, respectively)."
   ]
  },
  {
   "cell_type": "code",
   "execution_count": 18,
   "metadata": {
    "collapsed": false
   },
   "outputs": [],
   "source": [
    "age = []\n",
    "for i, row in resp.iterrows():\n",
    "    if np.isnan(row['agemarry']):\n",
    "        age += [row['ageintvw']]\n",
    "    else:\n",
    "        age += [row['agemarry']]"
   ]
  },
  {
   "cell_type": "code",
   "execution_count": 19,
   "metadata": {
    "collapsed": false
   },
   "outputs": [
    {
     "data": {
      "text/html": [
       "<div>\n",
       "<table border=\"1\" class=\"dataframe\">\n",
       "  <thead>\n",
       "    <tr style=\"text-align: right;\">\n",
       "      <th></th>\n",
       "      <th>age</th>\n",
       "      <th>agemarry</th>\n",
       "      <th>ageintvw</th>\n",
       "    </tr>\n",
       "  </thead>\n",
       "  <tbody>\n",
       "    <tr>\n",
       "      <th>0</th>\n",
       "      <td>27.666667</td>\n",
       "      <td>NaN</td>\n",
       "      <td>27.666667</td>\n",
       "    </tr>\n",
       "    <tr>\n",
       "      <th>1</th>\n",
       "      <td>21.333333</td>\n",
       "      <td>21.333333</td>\n",
       "      <td>42.916667</td>\n",
       "    </tr>\n",
       "    <tr>\n",
       "      <th>2</th>\n",
       "      <td>16.833333</td>\n",
       "      <td>16.833333</td>\n",
       "      <td>43.833333</td>\n",
       "    </tr>\n",
       "    <tr>\n",
       "      <th>3</th>\n",
       "      <td>16.000000</td>\n",
       "      <td>NaN</td>\n",
       "      <td>16.000000</td>\n",
       "    </tr>\n",
       "    <tr>\n",
       "      <th>4</th>\n",
       "      <td>20.166667</td>\n",
       "      <td>NaN</td>\n",
       "      <td>20.166667</td>\n",
       "    </tr>\n",
       "  </tbody>\n",
       "</table>\n",
       "</div>"
      ],
      "text/plain": [
       "         age   agemarry   ageintvw\n",
       "0  27.666667        NaN  27.666667\n",
       "1  21.333333  21.333333  42.916667\n",
       "2  16.833333  16.833333  43.833333\n",
       "3  16.000000        NaN  16.000000\n",
       "4  20.166667        NaN  20.166667"
      ]
     },
     "execution_count": 19,
     "metadata": {},
     "output_type": "execute_result"
    }
   ],
   "source": [
    "resp['age'] = age\n",
    "resp[['age', 'agemarry', 'ageintvw']].head()"
   ]
  },
  {
   "cell_type": "markdown",
   "metadata": {},
   "source": [
    "Fit KMF with duration (ages) and events_observed (if ever married)."
   ]
  },
  {
   "cell_type": "code",
   "execution_count": 20,
   "metadata": {
    "collapsed": false
   },
   "outputs": [
    {
     "data": {
      "text/html": [
       "<div>\n",
       "<table border=\"1\" class=\"dataframe\">\n",
       "  <thead>\n",
       "    <tr style=\"text-align: right;\">\n",
       "      <th></th>\n",
       "      <th>age</th>\n",
       "      <th>evrmarry</th>\n",
       "    </tr>\n",
       "  </thead>\n",
       "  <tbody>\n",
       "    <tr>\n",
       "      <th>0</th>\n",
       "      <td>27.666667</td>\n",
       "      <td>0</td>\n",
       "    </tr>\n",
       "    <tr>\n",
       "      <th>1</th>\n",
       "      <td>21.333333</td>\n",
       "      <td>1</td>\n",
       "    </tr>\n",
       "    <tr>\n",
       "      <th>2</th>\n",
       "      <td>16.833333</td>\n",
       "      <td>1</td>\n",
       "    </tr>\n",
       "    <tr>\n",
       "      <th>3</th>\n",
       "      <td>16.000000</td>\n",
       "      <td>0</td>\n",
       "    </tr>\n",
       "    <tr>\n",
       "      <th>4</th>\n",
       "      <td>20.166667</td>\n",
       "      <td>0</td>\n",
       "    </tr>\n",
       "  </tbody>\n",
       "</table>\n",
       "</div>"
      ],
      "text/plain": [
       "         age  evrmarry\n",
       "0  27.666667         0\n",
       "1  21.333333         1\n",
       "2  16.833333         1\n",
       "3  16.000000         0\n",
       "4  20.166667         0"
      ]
     },
     "execution_count": 20,
     "metadata": {},
     "output_type": "execute_result"
    }
   ],
   "source": [
    "resp[['age', 'evrmarry']].head()"
   ]
  },
  {
   "cell_type": "code",
   "execution_count": 21,
   "metadata": {
    "collapsed": false
   },
   "outputs": [
    {
     "data": {
      "text/plain": [
       "<lifelines.KaplanMeierFitter: fitted with 7643 observations, 3517 censored>"
      ]
     },
     "execution_count": 21,
     "metadata": {},
     "output_type": "execute_result"
    }
   ],
   "source": [
    "kmf_mrg = lifelines.KaplanMeierFitter().fit(resp.age, event_observed = resp.evrmarry)\n",
    "kmf_mrg"
   ]
  },
  {
   "cell_type": "code",
   "execution_count": 22,
   "metadata": {
    "collapsed": false
   },
   "outputs": [
    {
     "data": {
      "image/png": "[encoded data removed]",
      "text/plain": [
       "<matplotlib.figure.Figure at 0x7f7c4f7eeb90>"
      ]
     },
     "metadata": {},
     "output_type": "display_data"
    }
   ],
   "source": [
    "kmf_mrg.survival_function_.plot(title=\"Survival Function \\n Age of First Marriage\")\n",
    "plt.xlabel('Age (years)')\n",
    "plt.ylabel('Probability (Unmarried)')\n",
    "plt.show()"
   ]
  },
  {
   "cell_type": "code",
   "execution_count": 23,
   "metadata": {
    "collapsed": false
   },
   "outputs": [
    {
     "data": {
      "text/plain": [
       "<matplotlib.axes._subplots.AxesSubplot at 0x7f7c4f7ee410>"
      ]
     },
     "execution_count": 23,
     "metadata": {},
     "output_type": "execute_result"
    },
    {
     "data": {
      "image/png": "[encoded data removed]",
      "text/plain": [
       "<matplotlib.figure.Figure at 0x7f7c4f88e6d0>"
      ]
     },
     "metadata": {},
     "output_type": "display_data"
    }
   ],
   "source": [
    "naf_mrg = lifelines.NelsonAalenFitter().fit(resp.age, event_observed = resp.evrmarry)\n",
    "naf_mrg.cumulative_hazard_.plot()"
   ]
  },
  {
   "cell_type": "markdown",
   "metadata": {},
   "source": [
    "Approximately 20% survived and were unmarried at age 30."
   ]
  },
  {
   "cell_type": "markdown",
   "metadata": {},
   "source": [
    "## Kaplan-Meier Estimation (Survival Function)\n",
    "**Kaplan-Meier Estimation**: an algorithm for estimating *survival functions/curves*.\n",
    "  * central algorithm in survival analysis\n",
    "  \n",
    "It's a popular estimate for the survival function (**`S(t)`**), which uses *observed data* to estimate without having the *actual survival function* of a population.\n",
    "\n",
    "#### Censorship\n",
    "Censoring is a type of missing data problem common in survival analysis. Ideally, both *birth* and *death* rate of a patient is known as it would means the *lifetime* is known.\n",
    "\n",
    "  * **Right-censoring**: occurs when the death is *unkown*, but it is after some known date.\n",
    "    * info is *lost* if they're still alive at time (`t`) since time of \"death\" is unknown\n",
    "  * **Left-censoring**: occurs when the lifetime is known to be less than a certain duration.\n",
    "  \n",
    "### Python Package: Lifelines\n",
    "https://lifelines.readthedocs.io/en/latest/Quickstart.html  \n",
    "`lifelines.KaplanMeierFitter().fit(event_times, event_observed=None, label='KM-estimate')\n",
    "\n",
    "Parameters:\n",
    "  * **`event_times`**: an array of length `n` of *times* that the death event occurred at\n",
    "    * an array of the durations\n",
    "  * **`event_observed`**: an array (of length `n`) -- array of binary/boolean representing whether \"death\" was observed\n",
    "    * `True` if the death was observed\n",
    "    * `False` if the event was lost (**right-censored**)\n",
    "    * Defaults all `True` if `event_observed == None`\n",
    "  * **`timeline`**: set the index of the survival curve to this positively increasing array\n",
    "  * **`label`**: string name of the column of the estimate\n",
    "  * **`alpha`**: alpha value in the confidence intervals\n",
    "\n",
    "Attributes (*after fitting*):\n",
    "  * **`.survival_function_`**\n",
    "  * **`median_`**\n",
    "  \n",
    "Methods (*after fitting*):\n",
    "  * **`plot()`**\n",
    "  \n",
    "#### Duration Conversion (Data Formatting)\n",
    "**Sublibrary: `lifellines.utils`**\n",
    "https://lifelines.readthedocs.io/en/latest/Intro%20to%20lifelines.html#estimating-hazard-rates-using-nelson-aalen\n",
    "\n",
    "`lifelines.utils.datetimes_to_durations(start_date, end_date)`\n",
    "\n",
    "Parameters:\n",
    "  * `start_date`: array of start datetimes\n",
    "  * `end_date`: array of end datetimes\n",
    "  * `fill_date`\n",
    "\n",
    "Returns:\n",
    "  * `T`: durations\n",
    "  * `C`: events_observed (binary)\n",
    "\n",
    "\n",
    "Data is not always in the time format of **durations** and instead may be available in the `datetimes64` format. The lifelines package conitains a sublibrary `lifelines.utils` with functions to format raw data.\n",
    "\n",
    "##### `datetimes_to_durations` Function\n",
    "The function accepts an array/Pandas object of *start times/dates* and an array/Pandas object of *end times/dates* (or None **if NOT observed**). It outputs the **duration**."
   ]
  },
  {
   "cell_type": "markdown",
   "metadata": {},
   "source": [
    "### Example: NSFG Example: Pregnancies\n",
    "Determine the survival function/curve of completed pregnancies (\"death\" - end of event). Secondly, illustrate that the KMF approach is analagous to the CDF approach of determining the survival function"
   ]
  },
  {
   "cell_type": "markdown",
   "metadata": {},
   "source": [
    "Convert outcome into a binary value."
   ]
  },
  {
   "cell_type": "code",
   "execution_count": 24,
   "metadata": {
    "collapsed": false
   },
   "outputs": [],
   "source": [
    "preg2 = preg.copy()\n",
    "preg2.outcome.replace({4:1, 3:1, 2:0, 5:0, 6:0}, inplace=True)"
   ]
  },
  {
   "cell_type": "code",
   "execution_count": 25,
   "metadata": {
    "collapsed": false
   },
   "outputs": [
    {
     "data": {
      "text/plain": [
       "<lifelines.KaplanMeierFitter: fitted with 13593 observations, 2404 censored>"
      ]
     },
     "execution_count": 25,
     "metadata": {},
     "output_type": "execute_result"
    }
   ],
   "source": [
    "kmf_preg = lifelines.KaplanMeierFitter().fit(preg2.prglngth, event_observed = preg2.outcome)\n",
    "kmf_preg"
   ]
  },
  {
   "cell_type": "code",
   "execution_count": 26,
   "metadata": {
    "collapsed": false
   },
   "outputs": [
    {
     "data": {
      "image/png": "[encoded data removed]",
      "text/plain": [
       "<matplotlib.figure.Figure at 0x7f7c4f238410>"
      ]
     },
     "metadata": {},
     "output_type": "display_data"
    }
   ],
   "source": [
    "kmf_preg.survival_function_.plot(title='Survival Function (KMF Estimate)')\n",
    "plt.xlabel('t (weeks)')\n",
    "plt.ylabel('Probability')\n",
    "plt.show()"
   ]
  },
  {
   "cell_type": "markdown",
   "metadata": {},
   "source": [
    "### Example: Tongue Dataset\n",
    "Perform survival analysis of Type 1 DNA cohort (*aneuploid tumor* DNA profile).\n",
    "\n",
    "Data Features:\n",
    "  * **Type**: Tumor DNA profile\n",
    "    * `1` = Aneuploid Tumor\n",
    "    * `2` = Diploid Tumor\n",
    "  * **Time**: time to death\n",
    "  * **Delta**: death indicator\n",
    "    * `0`: alive\n",
    "    * `1`: dead"
   ]
  },
  {
   "cell_type": "code",
   "execution_count": 27,
   "metadata": {
    "collapsed": false
   },
   "outputs": [],
   "source": [
    "tongue_path = os.path.join(os.getcwd(), 'tongue.csv')\n",
    "tongue = pd.read_csv(tongue_path, header = 0, names=['type', 'time', 'delta'])"
   ]
  },
  {
   "cell_type": "code",
   "execution_count": 32,
   "metadata": {
    "collapsed": false
   },
   "outputs": [
    {
     "data": {
      "text/plain": [
       "1    53\n",
       "0    27\n",
       "Name: delta, dtype: int64"
      ]
     },
     "execution_count": 32,
     "metadata": {},
     "output_type": "execute_result"
    }
   ],
   "source": [
    "tongue['delta'].value_counts()"
   ]
  },
  {
   "cell_type": "markdown",
   "metadata": {},
   "source": [
    "80 total events. 27 of these observations are alive (**right-censored**) and thus their time of \"death\" is unknown."
   ]
  },
  {
   "cell_type": "code",
   "execution_count": 28,
   "metadata": {
    "collapsed": false
   },
   "outputs": [
    {
     "data": {
      "text/plain": [
       "<lifelines.KaplanMeierFitter: fitted with 80 observations, 27 censored>"
      ]
     },
     "execution_count": 28,
     "metadata": {},
     "output_type": "execute_result"
    }
   ],
   "source": [
    "tong_kmf = lifelines.KaplanMeierFitter()\n",
    "tong_kmf.fit(tongue['time'], event_observed = tongue['delta'])"
   ]
  },
  {
   "cell_type": "markdown",
   "metadata": {},
   "source": [
    "##### Attribute: Survival Function\n",
    "Survival Curve of the analysis"
   ]
  },
  {
   "cell_type": "code",
   "execution_count": 33,
   "metadata": {
    "collapsed": false
   },
   "outputs": [
    {
     "data": {
      "text/html": [
       "<div>\n",
       "<table border=\"1\" class=\"dataframe\">\n",
       "  <thead>\n",
       "    <tr style=\"text-align: right;\">\n",
       "      <th></th>\n",
       "      <th>KM_estimate</th>\n",
       "    </tr>\n",
       "    <tr>\n",
       "      <th>timeline</th>\n",
       "      <th></th>\n",
       "    </tr>\n",
       "  </thead>\n",
       "  <tbody>\n",
       "    <tr>\n",
       "      <th>0.0</th>\n",
       "      <td>1.0000</td>\n",
       "    </tr>\n",
       "    <tr>\n",
       "      <th>1.0</th>\n",
       "      <td>0.9750</td>\n",
       "    </tr>\n",
       "    <tr>\n",
       "      <th>3.0</th>\n",
       "      <td>0.9375</td>\n",
       "    </tr>\n",
       "    <tr>\n",
       "      <th>4.0</th>\n",
       "      <td>0.9125</td>\n",
       "    </tr>\n",
       "    <tr>\n",
       "      <th>5.0</th>\n",
       "      <td>0.8875</td>\n",
       "    </tr>\n",
       "  </tbody>\n",
       "</table>\n",
       "</div>"
      ],
      "text/plain": [
       "          KM_estimate\n",
       "timeline             \n",
       "0.0            1.0000\n",
       "1.0            0.9750\n",
       "3.0            0.9375\n",
       "4.0            0.9125\n",
       "5.0            0.8875"
      ]
     },
     "execution_count": 33,
     "metadata": {},
     "output_type": "execute_result"
    }
   ],
   "source": [
    "tong_survf = tong_kmf.survival_function_\n",
    "tong_survf.head()"
   ]
  },
  {
   "cell_type": "markdown",
   "metadata": {},
   "source": [
    "##### Attribute: Median\n",
    "The point in time where on average, half of the population has expired (event has occurred)."
   ]
  },
  {
   "cell_type": "code",
   "execution_count": 37,
   "metadata": {
    "collapsed": false
   },
   "outputs": [
    {
     "data": {
      "text/plain": [
       "73.0"
      ]
     },
     "execution_count": 37,
     "metadata": {},
     "output_type": "execute_result"
    }
   ],
   "source": [
    "tong_kmf.median_"
   ]
  },
  {
   "cell_type": "markdown",
   "metadata": {},
   "source": [
    "Half of the population has expired since the diagnosis of tumor (aneuploid or diploid) at 73 days."
   ]
  },
  {
   "cell_type": "markdown",
   "metadata": {},
   "source": [
    "#### Plot Survival Curve\n",
    "Plot the curve of the survival function.\n",
    "\n",
    "S(t=0) is 1.0 as all patients are alive/survived at the start."
   ]
  },
  {
   "cell_type": "code",
   "execution_count": 35,
   "metadata": {
    "collapsed": false
   },
   "outputs": [
    {
     "data": {
      "image/png": "[encoded data removed]",
      "text/plain": [
       "<matplotlib.figure.Figure at 0x7f7c4b6d3f90>"
      ]
     },
     "metadata": {},
     "output_type": "display_data"
    }
   ],
   "source": [
    "tong_kmf.survival_function_.plot(title='Survival Function')\n",
    "plt.xlabel('timeline (days)')\n",
    "plt.show()"
   ]
  },
  {
   "cell_type": "markdown",
   "metadata": {},
   "source": [
    "#### Quantify Uncertainty (Confidence Intervals)\n",
    "Plot survival curve with **uncertainty** (confidence intervals) about these point estimates."
   ]
  },
  {
   "cell_type": "code",
   "execution_count": 36,
   "metadata": {
    "collapsed": false
   },
   "outputs": [
    {
     "data": {
      "image/png": "[encoded data removed]",
      "text/plain": [
       "<matplotlib.figure.Figure at 0x7f7c4ed07410>"
      ]
     },
     "metadata": {},
     "output_type": "display_data"
    }
   ],
   "source": [
    "tong_kmf.plot(title='Survival Function')\n",
    "plt.xlabel('timeline (days)')\n",
    "plt.show()"
   ]
  },
  {
   "cell_type": "markdown",
   "metadata": {},
   "source": [
    "#### Interpretation\n",
    "The `y-axis` is the probability of the event not occuring at time `t` (`x-axis`).\n",
    "\n",
    "It appears that only 20% of the population survive after about 160 days of diagnosis of a tumor (aneuploid or diploid)."
   ]
  },
  {
   "cell_type": "markdown",
   "metadata": {},
   "source": [
    "## KMF Estimation: Multiple Types (Cohort Effect)\n",
    "A challenge of survival analysis that different parts of the estimated survival curve are based on *different groups* (**cohorts**) of respondents. There may be differences between cohorts (**cohort effect**).\n",
    "  * **cohort**: a group of subjects defned by an event, like date of birth, in a\n",
    "particular interval of time.\n",
    "\n",
    "These different groups/cohorts in a single dataset may represent categories such as:\n",
    "  * treatment groups\n",
    "  * different species\n",
    "  * manufacturing techniques"
   ]
  },
  {
   "cell_type": "markdown",
   "metadata": {},
   "source": [
    "### Example: Tongue\n",
    "The `type` variable describes the groups/cohorts of patients' DNA profile:\n",
    "  * `1`: aneuploid cohort\n",
    "  * `2`: diploid cohort"
   ]
  },
  {
   "cell_type": "code",
   "execution_count": 38,
   "metadata": {
    "collapsed": false
   },
   "outputs": [],
   "source": [
    "# Filter for Aneuploid Tumor\n",
    "aneu = tongue[tongue['type']==1][['time', 'delta']]\n",
    "\n",
    "aneu_time = aneu['time'] # durations\n",
    "aneu_delta = aneu['delta'] # observed events (death or not)\n",
    "\n",
    "# Filter for Diploid Tumor\n",
    "di = tongue[tongue['type']==2][['time', 'delta']]\n",
    "\n",
    "di_time = di['time'] # durations\n",
    "di_delta = di['delta'] # observed events (death or not)"
   ]
  },
  {
   "cell_type": "code",
   "execution_count": 40,
   "metadata": {
    "collapsed": false
   },
   "outputs": [
    {
     "name": "stdout",
     "output_type": "stream",
     "text": [
      "1    31\n",
      "0    21\n",
      "Name: delta, dtype: int64\n",
      "\n",
      "1    22\n",
      "0     6\n",
      "Name: delta, dtype: int64\n"
     ]
    }
   ],
   "source": [
    "print aneu_delta.value_counts()\n",
    "print\n",
    "print di_delta.value_counts()"
   ]
  },
  {
   "cell_type": "markdown",
   "metadata": {},
   "source": [
    "##### Aneuploid Cohort (Type 1 DNA)\n",
    "52 total events. 21 of these observations are alive (**right-censored**) and thus their time of \"death\" is unknown.\n",
    "\n",
    "##### Diploid Cohort (Type 2 DNA)\n",
    "28 total events. 6 of these observations are alive (**right-censored**) and thus their time of \"death\" is unknown."
   ]
  },
  {
   "cell_type": "code",
   "execution_count": 44,
   "metadata": {
    "collapsed": false
   },
   "outputs": [
    {
     "data": {
      "text/plain": [
       "<lifelines.KaplanMeierFitter: fitted with 52 observations, 21 censored>"
      ]
     },
     "execution_count": 44,
     "metadata": {},
     "output_type": "execute_result"
    }
   ],
   "source": [
    "aneu_kmf = lifelines.KaplanMeierFitter()\n",
    "aneu_kmf.fit(aneu_time, event_observed=aneu_delta, label=['Type 1 DNA'])"
   ]
  },
  {
   "cell_type": "code",
   "execution_count": 43,
   "metadata": {
    "collapsed": false
   },
   "outputs": [
    {
     "data": {
      "text/plain": [
       "<lifelines.KaplanMeierFitter: fitted with 28 observations, 6 censored>"
      ]
     },
     "execution_count": 43,
     "metadata": {},
     "output_type": "execute_result"
    }
   ],
   "source": [
    "di_kmf = lifelines.KaplanMeierFitter()\n",
    "di_kmf.fit(di_time, event_observed=di_delta, label=['Type 2 DNA'])"
   ]
  },
  {
   "cell_type": "markdown",
   "metadata": {},
   "source": [
    "##### Attribute: Median\n",
    "The point in time where on average, half of the population has expired (event has occurred)."
   ]
  },
  {
   "cell_type": "code",
   "execution_count": 42,
   "metadata": {
    "collapsed": false
   },
   "outputs": [
    {
     "name": "stdout",
     "output_type": "stream",
     "text": [
      "Aneuploid Median = 93\n",
      "Diploid Median = 42\n"
     ]
    }
   ],
   "source": [
    "print \"Aneuploid Median = %d\" % aneu_kmf.median_\n",
    "print \"Diploid Median = %d\" % di_kmf.median_"
   ]
  },
  {
   "cell_type": "markdown",
   "metadata": {},
   "source": [
    "Half of the population has expired since the diagnosis of aneuploid tumor at 93 days.  \n",
    "On the contary, half of the diploid population has expired at 42 days since the diagnosis of the diploid tumor."
   ]
  },
  {
   "cell_type": "markdown",
   "metadata": {},
   "source": [
    "#### Plot Survival Curves\n",
    "Plot the curve of the survival functions."
   ]
  },
  {
   "cell_type": "code",
   "execution_count": 49,
   "metadata": {
    "collapsed": false
   },
   "outputs": [
    {
     "data": {
      "image/png": "[encoded data removed]",
      "text/plain": [
       "<matplotlib.figure.Figure at 0x7f7c4eee2050>"
      ]
     },
     "metadata": {},
     "output_type": "display_data"
    }
   ],
   "source": [
    "ax = plt.subplot(111)\n",
    "aneu_kmf.survival_function_.plot(ax=ax)\n",
    "di_kmf.survival_function_.plot(ax=ax)\n",
    "\n",
    "plt.title('Lifespans of Different Tumor DNA Profile')\n",
    "plt.show()"
   ]
  },
  {
   "cell_type": "markdown",
   "metadata": {},
   "source": [
    "#### Interpretation\n",
    "The `y-axis` is the probability of the event not occuring at time `t` (`x-axis`).\n",
    "\n",
    "It appears that only 20% of the Type I DNA population survive after about 160 days of diagnosis of the aneuploid tumor. Whereas, 20% of the Type 2 DNA cohort expires after about 110 days of diagnosis.\n",
    "\n",
    "Ultimately, Type 2 DNA appears to be potentially more deadly and difficult to treat compared to Type I DNA. The Type 2 DNA cohort has a natural bias towards the event (e.g. death). The survival curve is much steeper, where there's a lower probability of surviving with a specific duration."
   ]
  },
  {
   "cell_type": "markdown",
   "metadata": {
    "collapsed": true
   },
   "source": [
    "### KMF Estimation: Testing for Difference (Statistical Significance)\n",
    "The differences in survival functions can be tested for between cohorts. More specifically, a statistical test on the different cohorts can be performed to determine if the difference in survival rates are statistically significant.\n",
    "\n",
    "#### Python Package: Lifelines Statistics\n",
    "The `lifelines` library contains a statistic sublibrary to compare survival curves.\n",
    "##### `logrank_test` function\n",
    "`lifelines.statistics.logrank_test()`  \n",
    "\n",
    "A common statistical test in survival analysis to compare two event series' generators. If the value returned exceeds some prespecified value, then we rule that the series  have different generators."
   ]
  },
  {
   "cell_type": "markdown",
   "metadata": {},
   "source": [
    "#### Hypothesis Testing (Significance Test)\n",
    "Hypothesis\n",
    "  * **H<sub>0</sub>**: There survival rates of Type 1 and Type 2 DNA are not statistically significantly different.\n",
    "  * **H<sub>A</sub>**: There survival rates of Type 1 and Type 2 DNA are statistically significantly different."
   ]
  },
  {
   "cell_type": "code",
   "execution_count": 59,
   "metadata": {
    "collapsed": false
   },
   "outputs": [
    {
     "data": {
      "text/plain": [
       "<lifelines.StatisticalResult: \n",
       "Results\n",
       "   df: 1\n",
       "   alpha: 0.95\n",
       "   t 0: -1\n",
       "   test: logrank\n",
       "   null distribution: chi squared\n",
       "\n",
       "   __ p-value ___|__ test statistic __|____ test result ____|__ is significant __\n",
       "         0.09487 |              2.790 |  Cannot Reject Null |       False       \n",
       ">"
      ]
     },
     "execution_count": 59,
     "metadata": {},
     "output_type": "execute_result"
    }
   ],
   "source": [
    "from lifelines.statistics import logrank_test\n",
    "tong_summary = logrank_test(aneu_time, di_time, aneu_delta, di_delta)\n",
    "\n",
    "tong_summary"
   ]
  },
  {
   "cell_type": "markdown",
   "metadata": {},
   "source": [
    "#### Conclusion\n",
    "The p-value is relatively large (p-val > 0.05), providing weak evidence against the H<sub>0</sub>. Hence, the null hypothesis cannot be rejected.\n",
    "\n",
    "There is ***no*** statistically significant difference between the survival rates of the two cohorts (Type 1 DNA and Type 2 DNA)."
   ]
  },
  {
   "cell_type": "markdown",
   "metadata": {
    "collapsed": true
   },
   "source": [
    "## Nelson-Aalen Estimation (Hazard Rates)\n",
    "**Nelson-Aalen Estimation**: an algorithm for estimating *hazard functions/rates*.\n",
    "\n",
    "This estimation is an alternative method to determine the survival function, by determining the hazard rate and converting it into the survival curve. Unfortunately, the reverse conversion from the **Kaplan-Meier Estimate** (*survival function*) to the **Nelson-Aalen Estimation** (*hazard rate*) is not feasible.\n",
    "\n",
    "### General Approach/Idea\n",
    "1. Use data to estimate the **hazard function**\n",
    "2. Convert **hazard function** into a **survival curve**\n",
    "\n",
    "### Python Package: Lifelines\n",
    "https://lifelines.readthedocs.io/en/latest/Quickstart.html  \n",
    "`lifelines.NelsonAalenFitter().fit(event_times, event_observed=None, label='KM-estimate')\n",
    "\n",
    "Parameters:\n",
    "  * **`event_times`**: an array of length `n` of *times* that the death event occurred at\n",
    "    * an array of the durations\n",
    "  * **`event_observed`**: an array (of length `n`) -- array of binary/boolean representing whether \"death\" was observed\n",
    "    * `True` if the death was observed\n",
    "    * `False` if the event was lost (**right-censored**)\n",
    "    * Defaults all `True` if `event_observed == None`\n",
    "\n",
    "Attributes (*after fitting*):\n",
    "  * **`.cumulative_hazard_`**\n",
    "  * **`median_`**\n",
    "  \n",
    "Methods (*after fitting*):\n",
    "  * **`plot()`**"
   ]
  },
  {
   "cell_type": "markdown",
   "metadata": {},
   "source": [
    "### Example: Tongue Dataset"
   ]
  },
  {
   "cell_type": "code",
   "execution_count": 50,
   "metadata": {
    "collapsed": false
   },
   "outputs": [
    {
     "data": {
      "text/plain": [
       "<lifelines.NelsonAalenFitter: fitted with 52 observations, 21 censored>"
      ]
     },
     "execution_count": 50,
     "metadata": {},
     "output_type": "execute_result"
    }
   ],
   "source": [
    "aneu_naf = lifelines.NelsonAalenFitter()\n",
    "aneu_naf.fit(aneu_time, event_observed=aneu_delta)"
   ]
  },
  {
   "cell_type": "markdown",
   "metadata": {},
   "source": [
    "##### Attribute: Cumulative Hazard Rate\n",
    "Hazard rate of the analysis."
   ]
  },
  {
   "cell_type": "code",
   "execution_count": 51,
   "metadata": {
    "collapsed": false
   },
   "outputs": [
    {
     "data": {
      "text/html": [
       "<div>\n",
       "<table border=\"1\" class=\"dataframe\">\n",
       "  <thead>\n",
       "    <tr style=\"text-align: right;\">\n",
       "      <th></th>\n",
       "      <th>NA_estimate</th>\n",
       "    </tr>\n",
       "    <tr>\n",
       "      <th>timeline</th>\n",
       "      <th></th>\n",
       "    </tr>\n",
       "  </thead>\n",
       "  <tbody>\n",
       "    <tr>\n",
       "      <th>0.0</th>\n",
       "      <td>0.000000</td>\n",
       "    </tr>\n",
       "    <tr>\n",
       "      <th>1.0</th>\n",
       "      <td>0.019231</td>\n",
       "    </tr>\n",
       "    <tr>\n",
       "      <th>3.0</th>\n",
       "      <td>0.058839</td>\n",
       "    </tr>\n",
       "    <tr>\n",
       "      <th>4.0</th>\n",
       "      <td>0.079247</td>\n",
       "    </tr>\n",
       "    <tr>\n",
       "      <th>10.0</th>\n",
       "      <td>0.100080</td>\n",
       "    </tr>\n",
       "  </tbody>\n",
       "</table>\n",
       "</div>"
      ],
      "text/plain": [
       "          NA_estimate\n",
       "timeline             \n",
       "0.0          0.000000\n",
       "1.0          0.019231\n",
       "3.0          0.058839\n",
       "4.0          0.079247\n",
       "10.0         0.100080"
      ]
     },
     "execution_count": 51,
     "metadata": {},
     "output_type": "execute_result"
    }
   ],
   "source": [
    "aneu_hazf = aneu_naf.cumulative_hazard_\n",
    "aneu_hazf.head()"
   ]
  },
  {
   "cell_type": "markdown",
   "metadata": {},
   "source": [
    "#### Plot Cumulative Hazard Rate\n",
    "Plot the curve of the hazard function.\n",
    "\n",
    "λ(t=0) is 1.0 as all patients are alive at time `t=0` and when the event has not occurred yet."
   ]
  },
  {
   "cell_type": "code",
   "execution_count": 52,
   "metadata": {
    "collapsed": false
   },
   "outputs": [
    {
     "data": {
      "image/png": "[encoded data removed]",
      "text/plain": [
       "<matplotlib.figure.Figure at 0x7f7c4b1e8e10>"
      ]
     },
     "metadata": {},
     "output_type": "display_data"
    }
   ],
   "source": [
    "aneu_naf.cumulative_hazard_.plot(title='Hazard Function \\n Tumor DNA Profile 1 (Aneuploid)')\n",
    "plt.xlabel('timeline (days)')\n",
    "plt.ylim([0, 2.5])\n",
    "plt.show()"
   ]
  },
  {
   "cell_type": "code",
   "execution_count": 53,
   "metadata": {
    "collapsed": false
   },
   "outputs": [
    {
     "data": {
      "image/png": "[encoded data removed]",
      "text/plain": [
       "<matplotlib.figure.Figure at 0x7f7c4ecee2d0>"
      ]
     },
     "metadata": {},
     "output_type": "display_data"
    }
   ],
   "source": [
    "aneu_naf.plot(title='Hazard Function \\n Tumor DNA Profile 1 (Aneuploid)')\n",
    "plt.xlabel('timeline (days)')\n",
    "plt.show()"
   ]
  },
  {
   "cell_type": "markdown",
   "metadata": {},
   "source": [
    "#### Interpretation\n",
    "There is a much higher/steep hazard rate in the first 150 days. The rate of the onset of the event (e.g. death) plateaus after around 190 days."
   ]
  }
 ],
 "metadata": {
  "kernelspec": {
   "display_name": "Python 2",
   "language": "python",
   "name": "python2"
  },
  "language_info": {
   "codemirror_mode": {
    "name": "ipython",
    "version": 2
   },
   "file_extension": ".py",
   "mimetype": "text/x-python",
   "name": "python",
   "nbconvert_exporter": "python",
   "pygments_lexer": "ipython2",
   "version": "2.7.11"
  }
 },
 "nbformat": 4,
 "nbformat_minor": 2
}
