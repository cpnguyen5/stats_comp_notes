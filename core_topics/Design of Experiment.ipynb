{
 "cells": [
  {
   "cell_type": "markdown",
   "metadata": {},
   "source": [
    "# Statistical Study Design\n",
    "\n",
    "## Design Types\n",
    "### Prospective vs. Retrospective (Data Collection)\n",
    "  * **Prospective** study: data are collected from the *beginning* of the study\n",
    "  * **Retrospective** study: data are acquired from previous events\n",
    "\n",
    "### Longitudinal vs. Cross-Sectional (Duration)\n",
    "  * **Longitudinal** study: researcher collections info over a period of time (maybe multiple times from each patient)\n",
    "    * record patterns of change\n",
    "    * establish direction & magnitude of causal relationships\n",
    "  * **Cross-sectional** study: individuals are observed *only once* (at 1 point of itme)\n",
    "\n",
    "Most surverys are cross-sectional, whereas experiments are usually longitudinal. Thus, cross-sectional research provides the \"big picture\" and provides the foundation to suggest more expensive research.\n",
    "\n",
    "### Case-Control vs. Cohort Studies (Grouping)\n",
    "  * **Case-Control** study: first, patients are treated and then they are selected for inclusion in the study *based on a certain criteria* (e.g. whethery they responded to a certain medication)\n",
    "  * **Cohort** study: first, subjects of interest are selected and then these subjects are studied over time (e.g. for their response to a treatment)\n",
    "\n",
    "### Randomized Controlled Trial (Experiment)\n",
    "The gold standard for experimental clincal trials and the basis for the approval of new medications.\n",
    "\n",
    "## Statistical Study Types\n",
    "### Study Design Tree"
   ]
  },
  {
   "cell_type": "code",
   "execution_count": 2,
   "metadata": {
    "collapsed": false
   },
   "outputs": [
    {
     "data": {
      "text/html": [
       "<img src=\"http://www.cebm.net/wp-content/uploads/2014/04/263_study-design.jpg\"/>"
      ],
      "text/plain": [
       "<IPython.core.display.Image object>"
      ]
     },
     "execution_count": 2,
     "metadata": {},
     "output_type": "execute_result"
    }
   ],
   "source": [
    "from IPython.display import Image\n",
    "from IPython.core.display import HTML \n",
    "Image(url=\"http://www.cebm.net/wp-content/uploads/2014/04/263_study-design.jpg\")"
   ]
  },
  {
   "cell_type": "markdown",
   "metadata": {},
   "source": [
    "### Study Types\n",
    "1. **Sample Study/Survey**\n",
    "  * *estimate parameter of a broader population*\n",
    "2. **Observational Study**\n",
    "  * *determine if a relationship (positive/negative correlation) exists between variables* (cannot conclude causality due to confounding variables)\n",
    "  * observe outcomes *without imposing any treatment*\n",
    "3. **Experimental Design**\n",
    "  * *establish or show causality*\n",
    "  * *actively impose* some treatment to observe the response\n",
    "\n",
    "#### Observational vs. Experimental Comparative Studies\n",
    "**Observational** and **Experimental** (randomized experiments) studies are *comparative* statistical studies that explore differences in explanatory variables (`x`)\n",
    "\n",
    "##### Observational\n",
    "Differences occurring in a *natural setting/grouping* (no randomly assigned intervention)\n",
    "  * patients **are already undergoing the treatment** and other **are already not undergoing the treatment**\n",
    "  \n",
    "##### Randomized Experiment\n",
    "differences occurring as a result of *randomly  assigned interventions*.\n",
    "  * randomly assign patients into **treatment group** (receive treatment) and **control group** (placebo)\n",
    "\n",
    "#### Relevant Links\n",
    "  1. https://www.illustrativemathematics.org/content-standards/HSS/IC/B/3/tasks/2118\n",
    " 2. https://onlinecourses.science.psu.edu/stat100/node/54\n",
    " 3. https://www.khanacademy.org/math/ap-statistics/gathering-data-ap#types-of-studies-experimental-vs-observational\n",
    "\n",
    "## Sample Survey\n",
    "**Question**: *What is the `<population parameter>` for population `A`?*\n",
    "\n",
    "Estimate the population parameter (e.g. average blood pressure) by computing the parameter for a sample that was *randomly sampled from the same population*.\n",
    "\n",
    "This approach serves as a solution as it may be impractical to compute the parameter for an entire population. Essentially, a sample survey uses a sample of people who are intended to represent the larger population.\n",
    "\n",
    "## Observational Study (Natural or Quasi-Experiment)\n",
    "A type of study where researcher uses *observed information* to learn about a group of individuals in a natural setting. The researcher *only* collects information and does not \"interact\" with the study population (e.g. introduce intervention/treatment).\n",
    "\n",
    "**Goal**: strive for association conclusions since \"cause and effect\" conclusions are not possible\n",
    "\n",
    "#### Disclaimer: Correlation does not mean Causality\n",
    "Observational studies do not prove causality between 2 variables, regardless of any correlation.\n",
    "\n",
    "*Why?*  \n",
    "**Confounding (*aka lurking*) variables** are inherent. They are *uncontrolled inputs* that provide alternative explanations for the results (effect on dependent variables).\n",
    "\n",
    "### Descriptive Studies\n",
    "Descriptive studies are often conducted as surveys. They explore characteristics  about the population, but do not answer questions about *how/when/why* the characteristics occurred (this is done under analytical research).\n",
    "\n",
    "Results are data descriptions that are factual, accurate, and systematic, but such research cannot describe *what caused the situation*. Hence, descriptive research cannot be implemented to create a causal relationship where 1 variable affects another.\n",
    "\n",
    "### Analytical Studies (Comparative)\n",
    "Research testing hypotheses to answer questions about *how/when/why* the characteristics occur within a specific population.\n",
    "\n",
    "Study Type | Directionality\n",
    ":----|:---:\n",
    "Cohort Study | *Exposure -> Outcome*\n",
    "Case-Control Study | *Outcome -> Exposure*\n",
    "Cross-Sectional Study | Exposed & Outcome *at the same time*\n",
    "\n",
    "#### Cohort Studies\n",
    "A form of longitudinal observational study that \n",
    "  * begins with a group of people *who do **not** have the disease* and have bee n exposed to a substance (\"intervention\")\n",
    "  * takes baseline measurements\n",
    "  * follows them over time to  determine whether there are correlations\n",
    "\n",
    "**Cohort**: a group of people who share *a common characteristic or experience* within a defined period (e.g. are born, are exposed to a drug/vaccine/pollutant, undergo a medical procedure).\n",
    "\n",
    "The **comparison group** are otherwise similar but may be from\n",
    "  * the general population from which the population was drawn\n",
    "  * another cohort thought to have had little or no exposure to the substance (\"intervention\") under investigation\n",
    "  \n",
    "Research Question: *Does exposure to **`X`** (e.g. smoking) associate with outcome **`Y`** (e.g. lung cancer).\n",
    "  * Such study would recruit and follow a group/cohort of *smokers* and *non-smokers* (unexposed group) for a set period of time. The differences in incidence of **`Y`** (lung cnacer) between the groups would be noted.\n",
    "  \n",
    "#### Case-Control Study\n",
    "A type of observational study in which 2 existing groups *differing in outcome* are identified and compared on the basis of some supposed causual attribute. Case-control studies are often used to **identify factors that may contribute to a medical condition** by comparing subjects who have the condition/disease (the **'cases'**) with patients who do not have it but are otherwise similar (the **'controls'**)\n",
    "\n",
    "It's less than expensive than cohort studies.\n",
    "\n",
    "#### Cross-Sectional Study\n",
    "A descriptive study in which the *disease & exposure status are measured simultaneously* in a given population. Cross-sectional studies can be thought of as a providing a **\"snapshot\"** of the frequency and characteristics of a disease in a population  ***at a particular point in time*** .\n",
    "\n",
    "This type of data can be used to assess the prevalence of acute or chronic conditions in a population. However, since exposreu and disease status are measured *at the same point in time*, *it may not be possible to distinguish whether the exposure **preceded or followed** the disease*. Thus, cause and effect relationships are not certain.\n",
    "\n",
    "## Experimental Studies\n",
    "Experimental studies deliberately influence events, creating differences in the explanatory variables, (e.g. treat patients with a new type of medication) and investigates the effects of these interventions. The goal is to establish or demonstrate *causality*, allowing for possible \"**cause & effect**\" conclusions.\n",
    "\n",
    "They are *cohort studies*, where allocation of patients (investigational units) into **treatment** and **control** groups are achieved by a random process (*akin to a coin flip*).\n",
    "\n",
    "In a designed experiment, there may be several conditions (*factors* or explanatory variables) that are **controlled** by the experiment. By having the groups differ in *only 1 aspect* (**factor: *treatment***), the study can detect teh effect of the treatment on the patients (*causality*)."
   ]
  },
  {
   "cell_type": "code",
   "execution_count": 1,
   "metadata": {
    "collapsed": false
   },
   "outputs": [
    {
     "data": {
      "text/html": [
       "<img src=\"http://www.itl.nist.gov/div898/handbook/pri/section1/gifs/img1351.gif\"/>"
      ],
      "text/plain": [
       "<IPython.core.display.Image object>"
      ]
     },
     "execution_count": 1,
     "metadata": {},
     "output_type": "execute_result"
    }
   ],
   "source": [
    "Image(url= \"http://www.itl.nist.gov/div898/handbook/pri/section1/gifs/img1351.gif\")"
   ]
  },
  {
   "cell_type": "markdown",
   "metadata": {},
   "source": [
    "# Design of Experiment (DOE) (Experimental Design)\n",
    "\n",
    "## What is Experimental Design?\n",
    "Experimental design is a framework to carefully plan experiments *in advance* so that data obtained can be analyzed to yield *valid* and *objective* conclusions.  Essentially, a rigorous study design reduces significant bias.\n",
    "\n",
    "Experimental research design is concerned with the examination of the efefct of independent variable(s) on the dependent variable, where the independent variable is manipulated by some treatment/intervention. The effect of such interventions is observed on the dependent variable.\n",
    "\n",
    "The goal is to: \n",
    "  * describe how participants are allocated into experimentl groups\n",
    "  * minimize or eliminate **confounding variables** offering alternative explanations for experimental results\n",
    "  * allow inferences about the relationship between independent variables (`x`) and dependent variables (`y`)\n",
    "  * reduce variability -- easier to identify differnces between treatment outcomes\n",
    "\n",
    "#### Example\n",
    "The importance of a good study design (*prior to any actual analysis*) is the effect of the introduction of *clinicaltrials.gov* registry requiring the recording of trial methods and outcome measures *before* data collection: **drastic reduction of cardiovascular drug studies showing positive outcomes from 57% to 8%**.\n",
    "\n",
    "#### Resources\n",
    "1. http://www.statisticshowto.com/experimental-design/\n",
    "\n",
    "\n",
    "\n",
    "## Principles\n",
    "### 1) Control\n",
    "Control the effects of extraneous variables on the response (`y`). This achieved by comparing *treatment* groups to a ***control*** group (placebo).\n",
    "\n",
    "### 2) Replication\n",
    "It's vital to replicate the experiment on *many subjects* to quantify the natural variation in the experiment.\n",
    "\n",
    "### 3) Randomization\n",
    "Random assignment of groups helps reduce *selection bias* and *allocation bias*. Hence, errors introduced by confounding variables are minimized by balancing their effects across the groups. In other words, bias is avoided by splitting the subjects to be tested into an *intervention* and *control* group randomly.\n",
    "\n",
    "Essentially, the random assignment of treatments (intervention/placebo) ensures that measured *and* unmeasured characteristics/factors are **evenly divided** over the groups. THus, any differences from these factors are most likely due to chance (better \"control\" of them to isolate the factor of interest - *treatment*).\n",
    "\n",
    "### Note: *Blinding*\n",
    "Blinding also controls for bias inherent with experimental design (e.g. differences in individuals - age, race ,sex - that may skew results) and are difficult to control for.\n",
    "  * **Single Blind**: participant doesn't know whether they are receiving a treatment or placebo (*prevent placebo effect*)\n",
    "    * **Placebo Effect**: patients response to *any treatment*, regardless of whether it's effective or not\n",
    "  * **Double Blind**: participant & researcher does not know\n",
    "\n",
    "\n",
    "Essentially, blinding prevents subjective influence."
   ]
  },
  {
   "cell_type": "code",
   "execution_count": 3,
   "metadata": {
    "collapsed": false
   },
   "outputs": [
    {
     "data": {
      "text/html": [
       "<img src=\"http://www.statisticshowto.com/wp-content/uploads/2015/09/randomized-controlled-trial.png\"/>"
      ],
      "text/plain": [
       "<IPython.core.display.Image object>"
      ]
     },
     "execution_count": 3,
     "metadata": {},
     "output_type": "execute_result"
    }
   ],
   "source": [
    "Image(url=\"http://www.statisticshowto.com/wp-content/uploads/2015/09/randomized-controlled-trial.png\")"
   ]
  },
  {
   "cell_type": "markdown",
   "metadata": {
    "collapsed": true
   },
   "source": [
    "# Types of Experimental Designs (Randomization Techniques)\n",
    "## Randomized Controlled Trial\n",
    "Randomized Controlled Trials are the staple of DoE. It's the gold standard for clinical trials and validating new treatments. \n",
    "\n",
    "Properties:\n",
    "  * Random assignment of subjects into **treatment(s)** & **control** groups\n",
    "    * random stratification minimizes confounding factors by balancing it across the groups and reduces bias\n",
    "  * several conditions (*factors*) are controlled, allowing the groups to differ in *only 1 aspect* (**treatment**) enables the results to illustrate the effect of the treatment on the patients.\n",
    "\n",
    "## Independent Measures Design (Between Subjects)\n",
    "Separate groups are created for *each* **treatment**. Each participant participant is only assigned to 1 treatment group.\n",
    "\n",
    "The samples/groups in the study are *independent* of one another. Thus, the results of one group does not affect the other's.\n",
    "\n",
    "#### Example: *Test 2 New Depression Medications*\n",
    "Randomly assign patients into these groups:\n",
    "  * Group 1: **Medication 1**\n",
    "  * Group 2: **Medication 2**\n",
    "  * Group 3: **Placebo**\n",
    "\n",
    "## Factorial Design\n",
    "Factorial experimental design investigates the effect of 2+ independent variables (`x` == factors) on 1 dependent variables (`y`). Essentially, **each combination of factors** is tested (*full factorial design*).\n",
    "\n",
    "### Factorial Combinations (n<sub>levels</sub><sup>n<sub>factors</sub></sup>)\n",
    "  * An experiment with 3 factors with 2 levels: 2x2x2 = 2<sup>3</sub>\n",
    "  * An experiment with 2 factors with 3 levels: 3<sup>2</sup>\n",
    "\n",
    "### Null Outcome\n",
    "A null outcome occurs when the experiment's outcome (dependent variable = SAT score) remains the same regardless (*unaffected*) of how the levels and factors were combined. The factors did not have any impact on the dependent variable.\n",
    "\n",
    "### Main Effect & Interaction Effect\n",
    "Results are in the form of 2 types of effects:\n",
    "  * **Main Effect**: the effect of an independent variable (*1 of the factors*) on the dependent variable\n",
    "    * for a main effect to exist: there must be a consistent trend across the different levels\n",
    "  * **Interaction Effect**: the effect occurring *between factors* (pair of factors causing the effect)\n",
    "\n",
    "\n",
    "#### Example: *Investigate Components for Increasing SAT Scores*\n",
    "Factorial experimental desing exploring components (SAT class, SAT prep book, extra homework) in increasing SAT scores. \n",
    " \n",
    "Components (**Factors**):\n",
    "  * SAT class (yes or no)\n",
    "  * SAT prep book (yes or no)\n",
    "  * Extra homework (yes or no)\n",
    "  \n",
    "**3 factors with 2 levels** (yes/no): 2<sup>3</sup>\n",
    "\n",
    "Effects:\n",
    "  * **Main Effect**: SAT class causing an increase in SAT scores (those who took the class were consistently higher than those who didn't)\n",
    "  * ** Interaction Effect**: interaction between factors SAT class & SAT prep book\n",
    "     * group of students who took **SAT class** *AND* used **SAT prep book** showed an increase in SAT scores\n",
    "     * group of students who did take the **SAT class** *BUT NOT* use **SAT prep book** didn't show any increase\n",
    "\n",
    "## Randomized Block Design\n",
    "The experimental design divides experimental subjects into **homogeneous blocks**. Then, treatments are *randomly assigned* to the blocks. The purpose of doing this is to **reduce variability** in the experiments.\n",
    "  * Each block contains subjects that are *very similiar* (e.g. blocks by sex - male & female)\n",
    "\n",
    "Properties:\n",
    "  * Divide/stratify patients into **homogeneous blocks**, reducing variability in the experiment (**block**)\n",
    "  * Randomly assign *treatment/placebo* for each block (**randomiozation**)\n",
    "    * each block has a treatment and placebo group\n",
    "\n",
    "### Blocks by Confounding Variable (Account for Source of Variability)\n",
    "Blocking by a confouding variable (source of potential variability) allows the experimental desing to account for it and reduce its effect on results.\n",
    "\n",
    "For example, if a variable was believed to be a *confounding variable* (source of variability), dividing the groups into blocks of that variable will mitigate any bias associated with that confounding variable. In other words, the block design ensures that the variable is closely balanced and equally representative in each group (*treatment/placebo*).\n",
    "  * Example: simple random assignment with population containing an age imbalance may result in skewed results due to disproportionate representation of males/females in a certain group.\n",
    "  \n",
    "    \n",
    "#### Example: Homogenous Blocks of Age for a Drug Study (Treatment/Placebo)\n",
    "**Age** was determined to be  a  confounding variable, potentially affecting the results of the study. Thus the randomized block design divided the subjects into different age groups that were equally spread across **homogeneous blocks**.\n",
    "\n",
    "The study tests the new drug on 1,000 people age 18-69):  \n",
    "\n",
    "Age|Placebo|Drug\n",
    ":--|:--:|:--:\n",
    "18-29|100|100\n",
    "30-39|100|100\n",
    "40-49|100|100\n",
    "50-59|100|100\n",
    "60-69|100|100\n",
    "\n",
    "Each block equally contains 200 people from *each age group*. They are then randomly assigned to the placebo or treatment group. Doing so, *removed age as a potential source of variability*.\n",
    "\n",
    "## Matched-Pairs Design (Dependent Samples)\n",
    "A special case of randomized block design. Lke randomized block design, the random assignment of subjects into *treatment* and *placebo* groups are done for each block. In the matched-pairs design, the *blocks are  composed of **matched pairs***. Thus, each pair is randomly assigned to the respective groups. \n",
    "\n",
    "**Goal**: maximize homogeneity in each pair. You want each pair to be as similar as possible.\n",
    "\n",
    "#### Example: Homogenous Blocks of Age-Pairs for a Drug Study (Treatment/Placebo)\n",
    "An experiment is designed to test a new drug has blocks of 200 males and 200 females. Each block contains 100 pairs, who are matched according to some criteria other than sex (e.g. age, medications, health conditions, etc.).\n",
    "\n",
    "Then *each pair* is treated like a block, with each randomly assigned to receive the drug or placebo.\n",
    "\n"
   ]
  },
  {
   "cell_type": "code",
   "execution_count": null,
   "metadata": {
    "collapsed": true
   },
   "outputs": [],
   "source": []
  }
 ],
 "metadata": {
  "kernelspec": {
   "display_name": "Python 2",
   "language": "python",
   "name": "python2"
  },
  "language_info": {
   "codemirror_mode": {
    "name": "ipython",
    "version": 2
   },
   "file_extension": ".py",
   "mimetype": "text/x-python",
   "name": "python",
   "nbconvert_exporter": "python",
   "pygments_lexer": "ipython2",
   "version": "2.7.10"
  }
 },
 "nbformat": 4,
 "nbformat_minor": 0
}
