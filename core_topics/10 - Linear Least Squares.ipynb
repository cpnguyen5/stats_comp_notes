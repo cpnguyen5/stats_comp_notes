{
 "cells": [
  {
   "cell_type": "markdown",
   "metadata": {},
   "source": [
    "# Chapter 10: Linear Least Squares\n"
   ]
  },
  {
   "cell_type": "code",
   "execution_count": 1,
   "metadata": {
    "collapsed": true
   },
   "outputs": [],
   "source": [
    "import numpy as np\n",
    "import pandas as pd\n",
    "import matplotlib.pyplot as plt\n",
    "import scipy\n",
    "import scipy.stats as stats\n",
    "import statsmodels.api as sm\n",
    "from statsmodels.distributions.empirical_distribution import ECDF\n",
    "\n",
    "%matplotlib inline"
   ]
  },
  {
   "cell_type": "markdown",
   "metadata": {},
   "source": [
    "## Least Squares Fit\n",
    "**Correlation Coefficient Flaw**: measure only the strength & sign of a relationship, *but not the slope*.\n",
    "\n",
    "Methods to Estimate *slope*:\n",
    "  * **Linear Fit**: a line intended to model the relationship between variables.\n",
    "  * **Linear Least Squares Fit**: a model of a dataset that *minimizes the sum of squares of the residuals*\n",
    "    * most common method to *estimate the slope*.\n",
    "    * A \"**least squares**\" fit: minimizes the **mean squared error (MSE)** between the line & data\n",
    "    \n",
    "### Example\n",
    "Suppose you have a sequence of points (`ys`), which are expressed as a function of another sequence `xs`.  \n",
    "If a **linear relationship** between `xs` & `ys` exists with intercept `inter` and slope `m`, we'd expect *each*:  \n",
    "`y[i] = inter + m * x[i]`\n",
    "\n",
    "### Residual\n",
    "Equation:  \n",
    "**`res = ys - (inter + slope * xs)`**\n",
    "\n",
    "*Unless the correlation is perfect*, this prediction is only approximate.\n",
    "  * **Residual**: deviation of an actual value from a model\n",
    "     * the vertical deviation from the line\n",
    "     * may be due to random factors (e.g. *measurement error*) or non-random factors (*unknown*)  \n",
    "        * Non-Random/Unknown Factors of Predicting *weight as a function of height*: diet, exercise, & body type\n",
    "\n",
    "\n",
    "#### Minimize the Absolute Value of Residuals (*or their squares, cubes,...*)\n",
    "Most common choice is to *minimize* the **sum of squared residuals**: `sum(res`<sup>2</sup>`))`\n",
    "\n",
    "Reasons Why (Benefits of Squaring):\n",
    "  1. Squaring has the feature of *treating positive & negative residuals **the same***.\n",
    "  2. Squaring gives more weight to large residuals, but not so much weight that the largest residual always dominates.\n",
    "  3. If the residuals are uncorrelated & normally distributed with mean 0 and constant (but unknown variance), then the **least squares fit** is also the *maximum likelihood estimator* of `inter` and `slope`.\n",
    "  4. The values of `inter` and `slope` that minimize the squared residuals can be computed efficiently."
   ]
  },
  {
   "cell_type": "markdown",
   "metadata": {},
   "source": [
    "## Implementation"
   ]
  },
  {
   "cell_type": "code",
   "execution_count": 2,
   "metadata": {
    "collapsed": true
   },
   "outputs": [],
   "source": [
    "def Var(xs, mu=None, ddof=0):\n",
    "    \"\"\"Computes variance.\n",
    "\n",
    "    xs: sequence of values\n",
    "    mu: option known mean\n",
    "    ddof: delta degrees of freedom\n",
    "\n",
    "    returns: float\n",
    "    \"\"\"\n",
    "    xs = np.asarray(xs)\n",
    "\n",
    "    if mu is None:\n",
    "        mu = xs.mean()\n",
    "\n",
    "    ds = xs - mu\n",
    "    return np.dot(ds, ds) / (len(xs) - ddof)\n",
    "\n",
    "\n",
    "def MeanVar(xs, ddof=0):\n",
    "    \"\"\"Computes mean and variance.\n",
    "\n",
    "    Based on http://stackoverflow.com/questions/19391149/\n",
    "    numpy-mean-and-variance-from-single-function\n",
    "\n",
    "    xs: sequence of values\n",
    "    ddof: delta degrees of freedom\n",
    "    \n",
    "    returns: pair of float, mean and var\n",
    "    \"\"\"\n",
    "    xs = np.asarray(xs)\n",
    "    mean = xs.mean()\n",
    "    s2 = Var(xs, mean, ddof)\n",
    "    return mean, s2\n",
    "\n",
    "\n",
    "def Cov(xs, ys, meanx=None, meany=None):\n",
    "    \"\"\"Computes Cov(X, Y).\n",
    "\n",
    "    Args:\n",
    "        xs: sequence of values\n",
    "        ys: sequence of values\n",
    "        meanx: optional float mean of xs\n",
    "        meany: optional float mean of ys\n",
    "\n",
    "    Returns:\n",
    "        Cov(X, Y)\n",
    "    \"\"\"\n",
    "    xs = np.asarray(xs)\n",
    "    ys = np.asarray(ys)\n",
    "    \n",
    "    if meanx is None:\n",
    "        meanx = np.mean(xs)\n",
    "    if meany is None:\n",
    "        meany = np.mean(ys)\n",
    "    \n",
    "    cov = np.dot(xs-meanx, ys-meany) / len(xs)\n",
    "    return cov\n",
    "\n",
    "def LeastSquares(xs, ys):\n",
    "    meanx, varx = MeanVar(xs)\n",
    "    meany = np.mean(ys)\n",
    "\n",
    "    slope = Cov(xs, ys, meanx, meany) / varx\n",
    "    inter = meany - slope * meanx\n",
    "\n",
    "    return inter, slope"
   ]
  },
  {
   "cell_type": "markdown",
   "metadata": {},
   "source": [
    "### Example: NSFG - `agepreg` vs. `totalwgt_lb`\n",
    "  * **x** (independent var) = mother's age during pregnancy (`agepreg`)\n",
    "  * **y** (dependent var) = birth weight (`totalwgt_lb`)"
   ]
  },
  {
   "cell_type": "code",
   "execution_count": 3,
   "metadata": {
    "collapsed": false
   },
   "outputs": [],
   "source": [
    "import nsfg\n",
    "preg = nsfg.ReadFemPreg() # DataFrame\n",
    "live = preg[preg.outcome==1] # filter for live births\n",
    "firsts = live[live.birthord == 1]\n",
    "others = live[live.birthord != 1]\n",
    "\n",
    "live = live.dropna(subset=['agepreg', 'totalwgt_lb'])\n",
    "ages = np.array(live.agepreg)\n",
    "weights = np.array(live.totalwgt_lb)"
   ]
  },
  {
   "cell_type": "code",
   "execution_count": 4,
   "metadata": {
    "collapsed": false
   },
   "outputs": [
    {
     "name": "stdout",
     "output_type": "stream",
     "text": [
      "estimated intercept = 6.8 lbs and slope = 0.017 lbs per year\n"
     ]
    }
   ],
   "source": [
    "yint, slope = LeastSquares(ages, weights)\n",
    "print \"estimated intercept = %.1f lbs and slope = %.3f lbs per year\" % (yint, slope)"
   ]
  },
  {
   "cell_type": "markdown",
   "metadata": {},
   "source": [
    "#### Tip: Interpretation Purposes\n",
    "**Best Practice**: Present `y-intercept` at the **x<sub>mean</sub>** & transform the `slope` for easier interpretation.\n",
    "  * Values hard to interpret \n",
    "     * `y-intercept` at `x=0` (e.g. intercept is the baby's *expected weight* whose mother is 0 years old)\n",
    "     * `slope` is too small to grasp easily"
   ]
  },
  {
   "cell_type": "code",
   "execution_count": 5,
   "metadata": {
    "collapsed": false
   },
   "outputs": [
    {
     "data": {
      "text/plain": [
       "7.2656284576233681"
      ]
     },
     "execution_count": 5,
     "metadata": {},
     "output_type": "execute_result"
    }
   ],
   "source": [
    "intercept_mean = yint + slope * np.mean(ages)\n",
    "intercept_mean"
   ]
  },
  {
   "cell_type": "markdown",
   "metadata": {},
   "source": [
    "**Intercept**: easier to interpret if we evaluate `y-intercept` *at the mean of the independent variable*\n",
    "  * y-int<sub>x-mean</sub> = 7.3 pounds\n",
    "  * The mean baby weight for a 25 year old mother (mean<sub>`agepreg`</sub>)"
   ]
  },
  {
   "cell_type": "code",
   "execution_count": 6,
   "metadata": {
    "collapsed": false
   },
   "outputs": [
    {
     "data": {
      "text/plain": [
       "0.17453851471802756"
      ]
     },
     "execution_count": 6,
     "metadata": {},
     "output_type": "execute_result"
    }
   ],
   "source": [
    "slope * 10"
   ]
  },
  {
   "cell_type": "markdown",
   "metadata": {},
   "source": [
    "**Slope**: easier to interpret if expressed in *pounds per decade* or *ounces per year*.\n",
    "  * slope = 0.17 lbs/decade\n",
    "  * The slope is 0.17 pounds per decade"
   ]
  },
  {
   "cell_type": "markdown",
   "metadata": {},
   "source": [
    "#### Fitted Line\n",
    "Leverage *estimated* `y-intercept` and `slope` to produce a **fitted line**, which is used to assess:\n",
    "  * whether the relationship is linear\n",
    "  * whether the fitted line seems like a good model of the relationship"
   ]
  },
  {
   "cell_type": "code",
   "execution_count": 7,
   "metadata": {
    "collapsed": true
   },
   "outputs": [],
   "source": [
    "def FitLine(xs, inter, slope):\n",
    "    fit_xs = np.sort(xs)\n",
    "    fit_ys = inter + slope * fit_xs\n",
    "    return fit_xs, fit_ys"
   ]
  },
  {
   "cell_type": "code",
   "execution_count": 8,
   "metadata": {
    "collapsed": false
   },
   "outputs": [
    {
     "data": {
      "image/png": "[encoded data removed]",
      "text/plain": [
       "<matplotlib.figure.Figure at 0xcdb69b0>"
      ]
     },
     "metadata": {},
     "output_type": "display_data"
    }
   ],
   "source": [
    "fit_xs, fit_ys = FitLine(ages, yint, slope)\n",
    "\n",
    "plt.scatter(ages, weights, color='b', alpha=0.1, s=10)\n",
    "plt.plot(fit_xs, fit_ys, color='r', linewidth=3)\n",
    "plt.xlabel(\"Mother's age (years)\")\n",
    "plt.ylabel(\"Birth weight (lbs)\")\n",
    "plt.xlim([10, 45])\n",
    "plt.ylim([0, 14])\n",
    "plt.show()"
   ]
  },
  {
   "cell_type": "markdown",
   "metadata": {},
   "source": [
    "## Residuals\n",
    "Another useful test is to plot the residuals\n",
    "### `Residuals` Function\n",
    "Takes sequences `xs` and `ys` and estimated parameters `inter` and `slope` to returns the *differences between the **actual values** and the **fitted line***."
   ]
  },
  {
   "cell_type": "code",
   "execution_count": 9,
   "metadata": {
    "collapsed": true
   },
   "outputs": [],
   "source": [
    "def Residuals(xs, ys, inter, slope):\n",
    "    \"\"\"Computes residuals for a linear fit with parameters inter and slope.\n",
    "\n",
    "    Args:\n",
    "        xs: independent variable\n",
    "        ys: dependent variable\n",
    "        inter: float intercept\n",
    "        slope: float slope\n",
    "\n",
    "    Returns:\n",
    "        list of residuals\n",
    "    \"\"\"\n",
    "    xs = np.asarray(xs)\n",
    "    ys = np.asarray(ys)\n",
    "    res = ys - (inter + slope * xs)\n",
    "    return res"
   ]
  },
  {
   "cell_type": "code",
   "execution_count": 10,
   "metadata": {
    "collapsed": false
   },
   "outputs": [],
   "source": [
    "live['residual'] = Residuals(ages, weights, yint, slope) # difference from fitted line for each actual value"
   ]
  },
  {
   "cell_type": "markdown",
   "metadata": {},
   "source": [
    "To visualize the residuals:\n",
    "  1. Split the respondents into groups by `age`.\n",
    "  2. Plot the *percentiles of the `residuals`* versus the *`average age` in each group*.\n",
    "  \n",
    "1) Split respondents into groups by age (13 bins)"
   ]
  },
  {
   "cell_type": "code",
   "execution_count": 11,
   "metadata": {
    "collapsed": false
   },
   "outputs": [
    {
     "data": {
      "text/plain": [
       "[15.212333333333335,\n",
       " 17.740359281437126,\n",
       " 20.506304824561404,\n",
       " 23.455752212389378,\n",
       " 26.435156146179406,\n",
       " 29.411177432542924,\n",
       " 32.302325301204817,\n",
       " 35.240273631840786,\n",
       " 38.108764705882351,\n",
       " 40.912058823529406]"
      ]
     },
     "execution_count": 11,
     "metadata": {},
     "output_type": "execute_result"
    }
   ],
   "source": [
    "bins = np.arange(10,48,3)\n",
    "indices = np.digitize(live.agepreg, bins)\n",
    "groups = live.groupby(indices)\n",
    "\n",
    "age_means = [group.agepreg.mean() for _, group in groups][1:-1]\n",
    "age_means"
   ]
  },
  {
   "cell_type": "markdown",
   "metadata": {},
   "source": [
    "Obtain `25%`, `50%`, `75%` percentiles of each group's residual"
   ]
  },
  {
   "cell_type": "code",
   "execution_count": 12,
   "metadata": {
    "collapsed": false
   },
   "outputs": [],
   "source": [
    "perc75 = []\n",
    "perc50 = []\n",
    "perc25 = []\n",
    "for _, group in groups:\n",
    "    perc75 += [group.residual.describe()['75%']]\n",
    "    perc50 += [group.residual.describe()['50%']]\n",
    "    perc25 += [group.residual.describe()['25%']]"
   ]
  },
  {
   "cell_type": "markdown",
   "metadata": {},
   "source": [
    "2) Plot percentiles of the residuals vs. Average Age per group (`age_means`)"
   ]
  },
  {
   "cell_type": "code",
   "execution_count": 13,
   "metadata": {
    "collapsed": false
   },
   "outputs": [
    {
     "data": {
      "image/png": "[encoded data removed]",
      "text/plain": [
       "<matplotlib.figure.Figure at 0x130ff710>"
      ]
     },
     "metadata": {},
     "output_type": "display_data"
    }
   ],
   "source": [
    "plt.plot(age_means, perc75[1:-1], label= \"75th percentile\")\n",
    "plt.plot(age_means, perc50[1:-1], label= \"50th percentile\")\n",
    "plt.plot(age_means, perc25[1:-1], label= \"25th percentile\")\n",
    "plt.xlabel(\" Average Mother's age (years)\")\n",
    "plt.ylabel(\"Residual (lbs)\")\n",
    "plt.xlim([10, 45])\n",
    "plt.show()"
   ]
  },
  {
   "cell_type": "markdown",
   "metadata": {},
   "source": [
    "**Ideal Results**:\n",
    "  * Flat line plots of residuals, indiciating that *residuals are random*\n",
    "  * Parallel lines, indicating that the variance of the residuals is the same for all age groups\n",
    "\n",
    "**Conclusions**\n",
    "  * Residual plots for the percentiles are *parallel*, but have *some curvature* which **indicates that the relationship is non-linear**."
   ]
  },
  {
   "cell_type": "markdown",
   "metadata": {},
   "source": [
    "## Sampling Distribution\n",
    "To estimate the sampling distribution of `inter` and `slope`.\n",
    "  * Assess **sampling error** (*result of measuring a sample rather than the entire pop*) by running simulated experiments and computing sampling distributions of the estimates.\n",
    "    * Answers the question: \"*If we run this experiment again, how much variability do we expect in the estimates*?\"\n",
    "  * Parameters `inter` and `slope` are *estimates based on a sample*. Like other estimates, they're vulnerable to sampling bias, measurement error, & sampling error.\n",
    "  \n",
    "**Approach**: Resample the data *to estimate parameters `inter` and `slope`.\n",
    "  \n",
    "### Estimation of Sampling Distribution *using resampling*"
   ]
  },
  {
   "cell_type": "code",
   "execution_count": 14,
   "metadata": {
    "collapsed": true
   },
   "outputs": [],
   "source": [
    "def SampleRows(df, nrows, replace=False):\n",
    "    \"\"\"Choose a sample of rows from a DataFrame.\n",
    "\n",
    "    df: DataFrame\n",
    "    nrows: number of rows\n",
    "    replace: whether to sample with replacement\n",
    "\n",
    "    returns: DataDf\n",
    "    \"\"\"\n",
    "    indices = np.random.choice(df.index, nrows, replace=replace)\n",
    "    sample = df.loc[indices]\n",
    "    return sample\n",
    "\n",
    "def ResampleRows(df):\n",
    "    \"\"\"Resamples rows from a DataFrame. SampleRows version with resampling.\n",
    "\n",
    "    df: DataFrame\n",
    "\n",
    "    returns: DataFrame\n",
    "    \"\"\"\n",
    "    return SampleRows(df, len(df), replace=True)\n",
    "\n",
    "def SamplingDistributions(live, iters=101):\n",
    "    \"\"\"Estimates sampling distributions by resampling rows.\n",
    "\n",
    "    live: DataFrame\n",
    "    iters: number of times to run simulations\n",
    "\n",
    "    returns: pair of sequences (estimated inters, estimated slopes)\n",
    "    \"\"\"\n",
    "    t = []\n",
    "    for _ in range(iters):\n",
    "        sample = ResampleRows(live)\n",
    "        ages = sample.agepreg\n",
    "        weights = sample.totalwgt_lb\n",
    "        estimates = LeastSquares(ages, weights)\n",
    "        t.append(estimates)\n",
    "\n",
    "    inters, slopes = zip(*t)\n",
    "    return inters, slopes"
   ]
  },
  {
   "cell_type": "code",
   "execution_count": 15,
   "metadata": {
    "collapsed": false
   },
   "outputs": [
    {
     "data": {
      "text/plain": [
       "(1001, 1001)"
      ]
     },
     "execution_count": 15,
     "metadata": {},
     "output_type": "execute_result"
    }
   ],
   "source": [
    "inters, slopes = SamplingDistributions(live, iters=1001)\n",
    "len(inters), len(slopes)"
   ]
  },
  {
   "cell_type": "markdown",
   "metadata": {},
   "source": [
    "1001 values for `inters` and `slopes` (*`inter` and `slope` for each estimation*)\n",
    "\n",
    "#### Summarize\n",
    "  1. Mean\n",
    "  2. Standard Deviation/Standard Error\n",
    "  3. 90% Confidence Interval\n",
    "\n",
    "#### Confidence Interval: SciPy Package (`scipy.stats.norm.interval()`)\n",
    "https://docs.scipy.org/doc/scipy/reference/generated/scipy.stats.norm.html\n",
    "`scipy.stats.norm.interval(alpha, loc=0, scale=1)1\n",
    "Parameters:\n",
    "  * **alpha**: CI endpoints (%)\n",
    "  * loc = estimate seq's mean\n",
    "  * scale = estimate seq's std\n",
    "  \n",
    "#### Summarize `intercept` resampling estimation"
   ]
  },
  {
   "cell_type": "code",
   "execution_count": 16,
   "metadata": {
    "collapsed": false
   },
   "outputs": [
    {
     "name": "stdout",
     "output_type": "stream",
     "text": [
      "Mean = 6.83\n",
      "Standard Error = 0.07\n",
      "CI = [6.71, 6.95]\n"
     ]
    }
   ],
   "source": [
    "int_ci0, int_ci1 = stats.norm.interval(0.90, loc=np.mean(inters), scale=np.std(inters))\n",
    "print \"Mean = %.2f\" % np.mean(inters)\n",
    "print \"Standard Error = %.2f\" % np.std(inters)\n",
    "print \"CI = [%.2f, %.2f]\" % (int_ci0, int_ci1)"
   ]
  },
  {
   "cell_type": "markdown",
   "metadata": {},
   "source": [
    "#### Summarize `slope` resampling estimation"
   ]
  },
  {
   "cell_type": "code",
   "execution_count": 17,
   "metadata": {
    "collapsed": false
   },
   "outputs": [
    {
     "name": "stdout",
     "output_type": "stream",
     "text": [
      "Mean = 0.018\n",
      "Standard Error = 0.003\n",
      "CI = [0.013, 0.022]\n"
     ]
    }
   ],
   "source": [
    "slopes_ci0, slopes_ci1 = stats.norm.interval(0.90, loc=np.mean(slopes), scale=np.std(slopes))\n",
    "print \"Mean = %.3f\" % np.mean(slopes)\n",
    "print \"Standard Error = %.3f\" % np.std(slopes)\n",
    "print \"CI = [%.3f, %.3f]\" % (slopes_ci0, slopes_ci1)"
   ]
  },
  {
   "cell_type": "markdown",
   "metadata": {},
   "source": [
    "### Visualizing Uncertainty\n",
    "To show the uncertainty of the estimated slope and intercept, we can generate a fitted line for each resampled estimate and plot them on top of each other.\n",
    "\n",
    "Likewise, we can make a more efficient plot by computing fitted lines and finding percentiles of the fits for each value of the dependent variable.\n",
    "\n",
    "**Example**: Shows CI for the fitted values at each mother's age."
   ]
  },
  {
   "cell_type": "code",
   "execution_count": 18,
   "metadata": {
    "collapsed": false
   },
   "outputs": [],
   "source": [
    "def PlotConfidenceIntervals(xs, inters, slopes, percent=90, **options):\n",
    "    import thinkstats2, thinkplot\n",
    "    fys_seq = []\n",
    "    for inter, slope in zip(inters, slopes):\n",
    "        fxs, fys = FitLine(xs, inter, slope)\n",
    "        fys_seq.append(fys)\n",
    "\n",
    "    p = (100 - percent) / 2\n",
    "    percents = p, 100 - p\n",
    "    low, high = thinkstats2.PercentileRows(fys_seq, percents)\n",
    "    thinkplot.FillBetween(fxs, low, high, **options)"
   ]
  },
  {
   "cell_type": "code",
   "execution_count": 19,
   "metadata": {
    "collapsed": false
   },
   "outputs": [
    {
     "data": {
      "image/png": "[encoded data removed]",
      "text/plain": [
       "<matplotlib.figure.Figure at 0xcd6f8d0>"
      ]
     },
     "metadata": {},
     "output_type": "display_data"
    }
   ],
   "source": [
    "import thinkplot\n",
    "PlotConfidenceIntervals(age_means, inters, slopes, percent=90, \n",
    "                        color='grey', alpha=0.3, label='90% CI')\n",
    "PlotConfidenceIntervals(age_means, inters, slopes, percent=50,\n",
    "                        color='blue', alpha=0.5, label='50% CI')\n",
    "thinkplot.Config(xlabel=\"Mother's age (years)\",\n",
    "                 ylabel='Residual (lbs)',\n",
    "                 xlim=[10, 45])"
   ]
  },
  {
   "cell_type": "markdown",
   "metadata": {
    "collapsed": true
   },
   "source": [
    "Figure shows the `50%` and `90%` confidence intervals showing variability in the fitted line due to **sampling error** of `inter` and `slope`. The confidence intervals represent the variability of the curves fitted to `birth weight` as a function of `mother's age` (independent var).\n",
    "  * 90% CI: selects [`5th`, `95th`] percentiles  \n",
    "\n",
    "The vertical region is *smaller* at values near the mean and *larger* at the extremes."
   ]
  },
  {
   "cell_type": "markdown",
   "metadata": {},
   "source": [
    "## Goodness of Fit\n",
    "**Goodness of Fit**: measures the *quality of a linear model* \n",
    "  * a measure of how well a model fits data\n",
    "\n",
    "Methods:\n",
    "  1. **Root Mean Squared Error (RMSE)**: standard deviation of residuals\n",
    "  2. **Coefficient of Determination**\n",
    "\n",
    "### Standard Deviation of Residuals\n",
    "`Std(res)` == **RMSE**<sub>predictions</sub>\n",
    "\n",
    "**Example**:\n",
    "  1. Use mother's age to guess birth weight:  \n",
    "    * `RMSE = `**`Std(res)`**\n",
    "    * **RMSE**<sub>guess</sub> = 1.40 lbs\n",
    "  2. Guess birth weight *without knowledge of mother's weight*:  \n",
    "    * `RMSE = `**`Std(ys)`**\n",
    "    * **RMSE**<sub>guess</sub> = 1.41 lbs\n",
    "\n",
    "**Note**: Knowing a mother's age does not improve the predictions substantially (residual vs. ys) *for this example*."
   ]
  },
  {
   "cell_type": "code",
   "execution_count": 20,
   "metadata": {
    "collapsed": false
   },
   "outputs": [
    {
     "data": {
      "text/plain": [
       "1.4049531557176409"
      ]
     },
     "execution_count": 20,
     "metadata": {},
     "output_type": "execute_result"
    }
   ],
   "source": [
    "live['residual'].std()"
   ]
  },
  {
   "cell_type": "code",
   "execution_count": 21,
   "metadata": {
    "collapsed": false
   },
   "outputs": [
    {
     "data": {
      "text/plain": [
       "1.4082934455690173"
      ]
     },
     "execution_count": 21,
     "metadata": {},
     "output_type": "execute_result"
    }
   ],
   "source": [
    "live['totalwgt_lb'].std()"
   ]
  },
  {
   "cell_type": "markdown",
   "metadata": {},
   "source": [
    "### Coefficient of Determination (R<sup>2</sup>)\n",
    "**Coefficient of Determination**: a statistic intended to quantify goodness of fit\n",
    "  * The coefficient compares the variance of the `residuals` to the variance of the `dependent variable`.\n",
    "\n",
    "#### `CoefDetermination` Function\n",
    "**R<sup>2</sup>** is the fraction of **MSE** that the model *eliminates*.\n",
    "  * The remaining fraction of MSE that remains (*using the model*) is:\n",
    "    * `Var(res)` is the **MSE** of your guesses using the model.\n",
    "    * `Var(ys)` is the **MSE** of your guesses *without the model*."
   ]
  },
  {
   "cell_type": "code",
   "execution_count": 22,
   "metadata": {
    "collapsed": true
   },
   "outputs": [],
   "source": [
    "def CoefDetermination(ys, res):\n",
    "    \"\"\"Computes the coefficient of determination (R^2) for given residuals.\n",
    "\n",
    "    Args:\n",
    "        ys: dependent variable\n",
    "        res: residuals\n",
    "        \n",
    "    Returns:\n",
    "        float coefficient of determination\n",
    "    \"\"\"\n",
    "    return 1 - Var(res) / Var(ys)"
   ]
  },
  {
   "cell_type": "markdown",
   "metadata": {},
   "source": [
    "#### Example: NSFG - `agepreg` vs. `totalwgt_lb`"
   ]
  },
  {
   "cell_type": "code",
   "execution_count": 23,
   "metadata": {
    "collapsed": false
   },
   "outputs": [
    {
     "data": {
      "text/plain": [
       "0.0047381154747107024"
      ]
     },
     "execution_count": 23,
     "metadata": {},
     "output_type": "execute_result"
    }
   ],
   "source": [
    "inter, slope = LeastSquares(ages, weights)\n",
    "res = Residuals(ages, weights, inter, slope)\n",
    "r2 = CoefDetermination(weights, res)\n",
    "r2"
   ]
  },
  {
   "cell_type": "markdown",
   "metadata": {},
   "source": [
    "For birth weight & mother's age, R<sup>2</sup> = 0.0047.\n",
    "  *  R<sup>2</sup> value indicates that the mother's age predicts about half of 1% variance in birth weight (R<sup>2</sup> * 100)\n",
    "\n",
    "In other words, **R<sup>2</sup>** is *very small* for birth weight & mother's age, indicating that the mother's age predicts a *small part* of the variance in birth weight."
   ]
  },
  {
   "cell_type": "markdown",
   "metadata": {},
   "source": [
    "#### R<sup>2</sup> == *p*<sup>2</sup>\n",
    "There's a simple relationship between the **Coefficient of Determination** and **Pearson's coefficient of correlation**.\n",
    "\n",
    "**Example**: If *p*<sup>2</sup> = 0.8 or -0.8, then  R<sup>2</sup> = 0.64\n",
    "\n",
    "##### Example: NSFG Proof"
   ]
  },
  {
   "cell_type": "code",
   "execution_count": 24,
   "metadata": {
    "collapsed": false
   },
   "outputs": [
    {
     "name": "stdout",
     "output_type": "stream",
     "text": [
      "R-squared = 0.06883\n",
      "p = 0.06883\n"
     ]
    }
   ],
   "source": [
    "print 'R-squared = %.5f' % np.sqrt(r2)\n",
    "print 'p = %.5f' % live[['agepreg', 'totalwgt_lb']].corr(method='pearson').loc[['agepreg'], \n",
    "                                                                               ['totalwgt_lb']].values"
   ]
  },
  {
   "cell_type": "markdown",
   "metadata": {},
   "source": [
    "### `Std(res)` vs. R<sup>2</sup>\n",
    "  * **R<sup>2</sup>** & ***p***: best used to quantify strength of relationship, *but not easy to interpret for predictive power*.\n",
    "  * **`Std(res)`**: best representation of the quality of prediction, *especially if presented i relation to* `Std(ys)`.\n",
    "  \n",
    "#### Best Practice: Evaluate Predictive Power\n",
    "To express **predictive power**, most useful to compare the *standard deviation of residuals* to the *standard deviation of the dependent variable* (`ys`), as a measure (RMSE)\n",
    "  * if you try to guess birth weight *with* and *without* taking into account mother's age."
   ]
  },
  {
   "cell_type": "code",
   "execution_count": 25,
   "metadata": {
    "collapsed": false
   },
   "outputs": [
    {
     "name": "stdout",
     "output_type": "stream",
     "text": [
      "Std(ys) =  1.40821553384\n",
      "Std(res) =  1.40487542879\n"
     ]
    }
   ],
   "source": [
    "print 'Std(ys) = ', np.std(weights)\n",
    "print 'Std(res) = ', np.std(res)"
   ]
  },
  {
   "cell_type": "markdown",
   "metadata": {},
   "source": [
    "##### Example: SAT Scores & IQ\n",
    "THe correlation between SAT scores and IQ scores are often discussed when evaluating the validty of SAT scores.\n",
    "\n",
    "Variables\n",
    "  * Independent var (`xs`): SAT scores\n",
    "  * Dependent var (`ys`): IQ\n",
    "  \n",
    "According to one study, there's a **Pearson correlation** of *p* = 0.72 between SAT scores & IQ scores, which sounds like a *strong correlation*.\n",
    "  * But *p*<sup>2</sup> = R<sup>2</sup> = 0.52\n",
    "    * means that SAT scores only account for 52% of the variance in IQ"
   ]
  },
  {
   "cell_type": "code",
   "execution_count": 26,
   "metadata": {
    "collapsed": false
   },
   "outputs": [
    {
     "data": {
      "text/plain": [
       "10.409610943738484"
      ]
     },
     "execution_count": 26,
     "metadata": {},
     "output_type": "execute_result"
    }
   ],
   "source": [
    "# Given, IQ scores are normalized with Std(ys) = 15:\n",
    "var_ys = 15**2\n",
    "rho = 0.72 # Pearson correlation\n",
    "r2 = rho**2\n",
    "var_res = (1 - r2) * var_ys\n",
    "std_res = np.sqrt(var_res)\n",
    "std_res"
   ]
  },
  {
   "cell_type": "markdown",
   "metadata": {},
   "source": [
    "Results:\n",
    "  * `Std(ys)` = 15\n",
    "  * `Std(res)`= 10.4  \n",
    "\n",
    "**Conclusions**:\n",
    "  * Using SAT score to predict IQ reduces **RMSE** from 15 points to 10.4 points.\n",
    "  * A correlation of 0.72 yields a reduction in RMSE of only 31%\n",
    "  \n",
    "**Note**: If you see an impressive **correlation**, remember that **R<sup>2</sup>** is a *better indicator of reduction in MSE*.\n",
    "  * Subsequently, reduction in **RMSE** is a better indicator of **predictive power**."
   ]
  },
  {
   "cell_type": "markdown",
   "metadata": {},
   "source": [
    "## Testing a Linear Model\n",
    "#### Approaches\n",
    "1. Hypothesis test whether the *apparent reduction in MSE* is due to chance.\n",
    "  * **test statistic**: R<sup>2</sup>\n",
    "  * **H<sub>0</sub>**: There is no relationship between the variables.\n",
    "2. Hypothesis test whether the *apparent slope* is due to chance.\n",
    "  * `Y = B`<sub>0</sub> `+ B`<sub>1</sub>X\n",
    "    * B<sub>0</sub>: constant\n",
    "    * B<sub>1</sub>: slope\n",
    "    * `X`: independent var\n",
    "    * `Y`: dependent variable\n",
    "    \n",
    "\n",
    "\n",
    "### Example: NSFG\n",
    "The effect of mother's age on birth weight is *small* and has *little predictive power*. Thus, it may be possible that the apparent relationship is due to chance. \n",
    "  * Solution: Test results of the linear fit\n",
    "\n",
    "#### Hypothesis Test: *Apparent Reduction in MSE*\n",
    "1. Hypothesis\n",
    "  * **H<sub>0</sub>**: There is no relationship between the variables, `agepreg` and `totalweight_lb`.\n",
    "  * **H<sub>A</sub>**: There is a relationship between the variables, `agepreg` and `totalweight_lb`.\n",
    "\n",
    "2. Compute test-statistic & p-value\n",
    "Simulate the null hypothesis by permutation (Ch 9.5), testing the correlation between the mother's age and birth age. In fact, because R<sup>2</sup> = *p*<sup>2</sup>, a one-sided test of R<sup>2</sup> is equivalent to a two-sided test of *p*.\n",
    "  * Results: **p < 0.001**\n",
    "  * **Conclusion:** The apparent relationship between mother's age & birth weight is statistically significant.\n",
    "  \n",
    "#### Hypothesis Test : *Apparent Slope*\n",
    "http://stattrek.com/regression/slope-test.aspx  \n",
    "Using a Hypothesis Test with slopes, which uses permutation to test whether the observed slope is *statistically significant*.\n",
    "1. Hypothesis\n",
    "  * **H<sub>0</sub>**: There slope is actually zero.\n",
    "    * Model the birth weights as random variations around the mean\n",
    "  * **H<sub>A</sub>**: There is a slope (*significantly different from zero*).\n",
    "    * Indicates that there's a significant linear relationship between the independent & dependent variables\n",
    "\n",
    "2. Compute test statistic & p-value\n",
    "  * **test statistic**: slope estimated by `LeastSquares` (or linear regression)"
   ]
  },
  {
   "cell_type": "code",
   "execution_count": 40,
   "metadata": {
    "collapsed": false
   },
   "outputs": [
    {
     "name": "stdout",
     "output_type": "stream",
     "text": [
      "Observed slope = 0.017 lbs/year\n",
      "p-value = 0.000\n"
     ]
    }
   ],
   "source": [
    "m_slope, m_int, m_rval, m_pval, m_stderr = stats.linregress(ages,weights)\n",
    "print \"Observed slope = %.3f lbs/year\" % m_slope\n",
    "print \"p-value = %.3f\" % m_pval"
   ]
  },
  {
   "cell_type": "markdown",
   "metadata": {},
   "source": [
    "3. Analyze the Results\n",
    "The **p-value** is extremely small (p-val < 0.001), providing substantial evidence against H<sub>0</sub>. The null hypothesis is *rejected* in favor of H<sub>A</sub>. Thus, although the estimated slope (**t-statistic**) is small, it's unlikely to be due to chance. \n",
    "\n",
    "Hence, the slope is different from zero and suggests a *significant linear relationship* between the independent (`agepreg`) and dependent (`totalwgt_lb`) variables."
   ]
  },
  {
   "cell_type": "markdown",
   "metadata": {},
   "source": [
    "## Weighted Resampling\n",
    "### NSFG\n",
    "NSFG data is not a representative sample; it was deliberately oversampled for several groups to improve the chance of attianing statistically significant results. Ultimately, to improve the power of tests involving these groups.\n",
    "\n",
    "The survey design is useful for many purposes, but **cannot be used to estimate values for the general population *without accounting for the sampling process***.\n",
    "\n",
    "### Sampling Weight\n",
    "**Sampling Weight**: a value associated with an observation in a sample that indicates what part of the population it represents\n",
    "  * For each respondent, the NSFG data includes a variable `finalwgt` (the number of people in the general population the respondent represents).\n",
    "\n",
    "\n",
    "### Issue: Oversampling\n",
    "If you survey 100,000 people in a country of 300 million, each respondent repersents 3,000 people. Oversampling 1 group by a factor of 2, each person in the oversampled group would have a *lower weight* (~1500).\n",
    "\n",
    "**Solution**: Resampling \n",
    "  * draw samples from the survery using **probabilities** proportional to the sampling weights\n",
    "  * each row is sample with probabilities based on their sampling weight"
   ]
  },
  {
   "cell_type": "code",
   "execution_count": 27,
   "metadata": {
    "collapsed": true
   },
   "outputs": [],
   "source": [
    "def ResampleRowsWeighted(df, column='finalwgt'):\n",
    "    import thinkstats2\n",
    "    weights = df[column]\n",
    "    cdf = thinkstats2.Cdf(dict(weights))\n",
    "    indices = cdf.Sample(len(weights))\n",
    "    sample = df.loc[indices]\n",
    "    return sample\n",
    "\n",
    "def Summarize(estimates, actual=None):\n",
    "    import thinkstats2\n",
    "    mean = np.mean(estimates)\n",
    "    stderr = np.std(estimates)\n",
    "    cdf = thinkstats2.Cdf(estimates)\n",
    "    ci = cdf.ConfidenceInterval(90)\n",
    "    print('mean, SE, CI', mean, stderr, ci)"
   ]
  },
  {
   "cell_type": "markdown",
   "metadata": {},
   "source": [
    "#### Example: Resampling to Estimate the Mean `birthweight`\n",
    "\n",
    "##### Without weights"
   ]
  },
  {
   "cell_type": "code",
   "execution_count": 28,
   "metadata": {
    "collapsed": false
   },
   "outputs": [
    {
     "name": "stdout",
     "output_type": "stream",
     "text": [
      "('mean, SE, CI', 7.2654940943792887, 0.014750008714823917, (7.2392744523124586, 7.2896658552777165))\n"
     ]
    }
   ],
   "source": [
    "iters = 100\n",
    "estimates = [ResampleRows(live).totalwgt_lb.mean()\n",
    "             for _ in range(iters)]\n",
    "Summarize(estimates)"
   ]
  },
  {
   "cell_type": "markdown",
   "metadata": {},
   "source": [
    "#### With weights"
   ]
  },
  {
   "cell_type": "code",
   "execution_count": 29,
   "metadata": {
    "collapsed": false
   },
   "outputs": [
    {
     "name": "stdout",
     "output_type": "stream",
     "text": [
      "('mean, SE, CI', 7.2658382662093395, 0.015500889803332142, (7.237946724939146, 7.2901291768090282))\n"
     ]
    }
   ],
   "source": [
    "estimates = [ResampleRows(live).totalwgt_lb.mean()\n",
    "             for _ in range(iters)]\n",
    "Summarize(estimates)"
   ]
  },
  {
   "cell_type": "markdown",
   "metadata": {},
   "source": [
    "##### Results\n",
    "\n",
    "| | Mean Birth Weight (lbs) | Standard Error | 90% CI |\n",
    "|:--|:--:|:--:|:--:|\n",
    "|Unweighted|7.27|0.014|(7.24, 7.29)|\n",
    "|Weighted|7.35|0.014|(7.32,7.37)|\n",
    "\n",
    "The difference between resampling *with* and *without* **sampling weights** is non-negligible, suggesting that there are differences in birth weight between the strata in the survey.\n",
    "\n",
    "In other words, the effect of weighting is small *but non-negligible*. The difference in estimated means, with & without weighting, is ~ 0.08 pounds (1.3 ounces).\n",
    "  * The difference is substantially larger than the **standard error** of the estimate (0.014 pounds), *implying that the difference is not due to chance*."
   ]
  }
 ],
 "metadata": {
  "kernelspec": {
   "display_name": "Python 2",
   "language": "python",
   "name": "python2"
  },
  "language_info": {
   "codemirror_mode": {
    "name": "ipython",
    "version": 2
   },
   "file_extension": ".py",
   "mimetype": "text/x-python",
   "name": "python",
   "nbconvert_exporter": "python",
   "pygments_lexer": "ipython2",
   "version": "2.7.10"
  }
 },
 "nbformat": 4,
 "nbformat_minor": 0
}
