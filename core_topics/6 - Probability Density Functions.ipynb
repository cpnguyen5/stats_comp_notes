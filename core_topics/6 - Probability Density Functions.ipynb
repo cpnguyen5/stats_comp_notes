{
 "cells": [
  {
   "cell_type": "markdown",
   "metadata": {},
   "source": [
    "# Probability Density Functions"
   ]
  },
  {
   "cell_type": "markdown",
   "metadata": {},
   "source": [
    "## Probability Density Function\n",
    "**Probability Density Function (PDF)**: a function that maps a value to its *probability density*.\n",
    "  * the derivative of a **CDF**\n",
    "\n",
    "Evaluating a PDF for a *particular value* of *x* is not usually useful. The result is not a probability, but a probability density. Density is `mass per unit of volume`.\n",
    "\n",
    "##### Examples:  \n",
    "1. **PDF of an `exponential distribution`**:  \n",
    "PDF<sub>expo</sub>(*x*) = λe<sup>-λ*x*</sup>\n",
    "\n",
    "2. **PDF of a `normal distribution`**:  \n",
    "PDF<sub>normal</sub>(*x*) = (1 / (σ (√2π) ) ) exp [-(1/2) * ( (x-μ) / σ)<sup>2</sup>]\n",
    "\n",
    "## Probability Density\n",
    "**Probability Density**: measures *probability per unit of x*\n",
    "  * you must integrate over *x* to obtain probability mass.\n",
    "  * a quantity that can be integrated over a *range of values* to yield a probability.\n",
    "  * Ex: if values are in units of `cm`, then the probability density is in units of `probability per cm`.\n",
    "  \n",
    "A probability density value is the *density of distribution* for a given `x` value.\n",
    "\n",
    "\n",
    "### SciPy Package (scipy.stats.norm.pdf)\n",
    "https://docs.scipy.org/doc/scipy/reference/generated/scipy.stats.norm.html\n",
    "\n",
    "`scipy.stats.norm.pdf(x, loc=0, scale=1)`\n",
    "\n",
    "The PDF method represents a *normal distribution* and returns the **probability density** of distribution for a given value *x*.\n",
    "\n",
    "Parameters:\n",
    "  * **loc**: μ (mu) - mean\n",
    "  * **scale**: σ (sigma) - standard deviation"
   ]
  },
  {
   "cell_type": "markdown",
   "metadata": {},
   "source": [
    "### Example: BRFSS - Adult Female Heights\n",
    "\n",
    "Calculate the density of the distribution for adult female heights at a location *1 standard deviation from the mean*."
   ]
  },
  {
   "cell_type": "code",
   "execution_count": 45,
   "metadata": {
    "collapsed": true
   },
   "outputs": [],
   "source": [
    "import numpy as np\n",
    "import pandas as pd\n",
    "import matplotlib.pyplot as plt\n",
    "import scipy.stats as stats\n",
    "import random\n",
    "%matplotlib inline"
   ]
  },
  {
   "cell_type": "code",
   "execution_count": 46,
   "metadata": {
    "collapsed": false
   },
   "outputs": [
    {
     "name": "stdout",
     "output_type": "stream",
     "text": [
      "163.0 7.26915628664 52.8406331196\n"
     ]
    }
   ],
   "source": [
    "from brfss import *\n",
    "\n",
    "risk = ReadBrfss()\n",
    "female_risk = risk[risk['sex']==2] # filter for female respondents\n",
    "female_hgt = female_risk['htm3']\n",
    "\n",
    "female_hgt_mean = np.floor(female_hgt.mean())\n",
    "female_hgt_std = female_hgt.std()\n",
    "female_hgt_var = female_hgt.std()**2\n",
    "print female_hgt_mean, female_hgt_std, female_hgt_var"
   ]
  },
  {
   "cell_type": "markdown",
   "metadata": {},
   "source": [
    "Adult Female Height Stats:\n",
    "  * **Mean**: 163 cm\n",
    "  * **Standard Deviation**: 7.27\n",
    "  * **Variance**: 52.8"
   ]
  },
  {
   "cell_type": "markdown",
   "metadata": {},
   "source": [
    "`PDF(mean+std) = 0.333`\n",
    "\n",
    "The probability density of x, with a value of the mean + 1 standard deviation, is 0.333 (units of probability mass per cm)."
   ]
  },
  {
   "cell_type": "code",
   "execution_count": 47,
   "metadata": {
    "collapsed": false
   },
   "outputs": [
    {
     "data": {
      "text/plain": [
       "0.033287319047437085"
      ]
     },
     "execution_count": 47,
     "metadata": {},
     "output_type": "execute_result"
    }
   ],
   "source": [
    "# x-values of female height @ 1 std from mean\n",
    "fhgt_x = female_hgt_mean + female_hgt_std\n",
    "\n",
    "# Calculate PDF\n",
    "stats.norm.pdf(fhgt_x, loc=female_hgt_mean, scale=female_hgt_std)"
   ]
  },
  {
   "cell_type": "code",
   "execution_count": 48,
   "metadata": {
    "collapsed": false
   },
   "outputs": [
    {
     "data": {
      "text/plain": [
       "0.033300124989618714"
      ]
     },
     "execution_count": 48,
     "metadata": {},
     "output_type": "execute_result"
    }
   ],
   "source": [
    "import thinkstats2\n",
    "\n",
    "mean, var = 163,52.8\n",
    "std=math.sqrt(var)\n",
    "pdf = thinkstats2.NormalPdf(mean,std)\n",
    "pdf.Density(mean+std)"
   ]
  },
  {
   "cell_type": "markdown",
   "metadata": {},
   "source": [
    "### Plotting\n",
    "\n",
    "Plotting the PDF portrays the shape of the distribution. This is much more valuable than exploring a the density value for a given value."
   ]
  },
  {
   "cell_type": "code",
   "execution_count": 49,
   "metadata": {
    "collapsed": false
   },
   "outputs": [
    {
     "data": {
      "image/png": "[encoded data removed]",
      "text/plain": [
       "<matplotlib.figure.Figure at 0xb17b1d0>"
      ]
     },
     "metadata": {},
     "output_type": "display_data"
    }
   ],
   "source": [
    "fhgt_pdf = stats.norm.pdf(female_hgt.sort_values(), \n",
    "                          loc=female_hgt_mean, \n",
    "                          scale=female_hgt_std)\n",
    "\n",
    "plt.plot(female_hgt.sort_values(), fhgt_pdf, label='normal')\n",
    "plt.xlim([140,185])\n",
    "plt.xlabel('Height (cm)')\n",
    "plt.ylabel('Density (probability mass/cm)')\n",
    "plt.title('Probability Density Function - Adult Female Height')\n",
    "plt.legend(loc='upper right')\n",
    "plt.show()"
   ]
  },
  {
   "cell_type": "markdown",
   "metadata": {},
   "source": [
    "### PMF\n",
    "**PMF** can be used as an approximation of the **PDF** distribution.\n",
    "\n",
    "**PMF** evaluates the probability density at a discrete set of values (as a step function) & approximates the **PDF**. In other words, the PMF of a given value is computed based on the **fraction of the probability density and total probability density**, *as opposed to the frequency and total sample size (`n`)*.\n",
    "\n",
    "Steps for PMF approximation of PDF:\n",
    "  1. Generate random sample based on empirical sample's mean (mu) & standard deviation (sigma).\n",
    "    * Mean & Std gives a representative range of x-values (e.g. height) to model the random sample's distribution.\n",
    "  2. Compute `PDF(x)` (*probability density*) for each value of the random sample.\n",
    "  3. Compute `PMF(X)` (*probability* - fraction) for each value, *using the fraction of their probability density*\n",
    "     * PMF<sub>PDF</sub>(x) = PDF<sub>x</sub> / PDF<sub>total</sub> "
   ]
  },
  {
   "cell_type": "code",
   "execution_count": 50,
   "metadata": {
    "collapsed": false
   },
   "outputs": [],
   "source": [
    "def to_pmf(mu, sigma):\n",
    "    \"\"\"Takes the PDF's mean(mu) and standard deviation(sigma) to \n",
    "    create a PMF dictionary (probabilities) that approximates the PDF.\n",
    "    \n",
    "    \"\"\"\n",
    "    # Generate random sample based on mean & std\n",
    "    low, high = mu-3*sigma, mu+3*sigma\n",
    "    xs = np.linspace(low, high, 101)\n",
    "    n = float(sum(xs))\n",
    "    \n",
    "    # Compute PDF of random sample - probability density of a given value\n",
    "    pdf = [stats.norm.pdf(x, loc=mu, scale=sigma) for x in xs]\n",
    "    pdf_dict = dict(zip(xs,pdf)) # create dict of corresponding xs & PDF value\n",
    "    \n",
    "    # Compute PMF - probability of a given value based on probability density (not freq)\n",
    "    pmf = {} # accumulator\n",
    "    for val, ds in pdf_dict.items(): # ds = probability density of given value\n",
    "        pmf[val] = ds / sum(pdf_dict.values()) # fraction of probability density\n",
    "    return pmf"
   ]
  },
  {
   "cell_type": "code",
   "execution_count": 51,
   "metadata": {
    "collapsed": false
   },
   "outputs": [
    {
     "data": {
      "image/png": "[encoded data removed]",
      "text/plain": [
       "<matplotlib.figure.Figure at 0xb17b5f8>"
      ]
     },
     "metadata": {},
     "output_type": "display_data"
    }
   ],
   "source": [
    "# Find PMF\n",
    "fhgt_pmf = to_pmf(female_hgt_mean, female_hgt_std)\n",
    "fhgt_df = pd.DataFrame.from_dict(fhgt_pmf, orient='index')\n",
    "sort_hgtdf = fhgt_df.sort_index() # sort by height (x-values)\n",
    "\n",
    "# Plot PMF\n",
    "fig = plt.figure()\n",
    "plt.step(sort_hgtdf.index, sort_hgtdf.values)\n",
    "plt.xlabel('height (cm)')\n",
    "plt.ylabel('PMF') # Probability Mass Function (probability of a value)\n",
    "plt.xlim([140,190])\n",
    "plt.title('Probability Mass Function - Adult Female Height')\n",
    "plt.show()\n",
    "plt.close(fig)"
   ]
  },
  {
   "cell_type": "code",
   "execution_count": 52,
   "metadata": {
    "collapsed": false
   },
   "outputs": [
    {
     "data": {
      "image/png": "[encoded data removed]",
      "text/plain": [
       "<matplotlib.figure.Figure at 0xe7230b8>"
      ]
     },
     "metadata": {},
     "output_type": "display_data"
    },
    {
     "data": {
      "text/plain": [
       "<matplotlib.figure.Figure at 0x1410fb38>"
      ]
     },
     "metadata": {},
     "output_type": "display_data"
    }
   ],
   "source": [
    "pmf=pdf.MakePmf()\n",
    "thinkplot.Pmf(pmf)\n",
    "thinkplot.Show()"
   ]
  },
  {
   "cell_type": "markdown",
   "metadata": {
    "collapsed": true
   },
   "source": [
    "## Kernel Density Estimation (KDE)\n",
    "\n",
    "**Kernel Density Estimation (KDE)** is an algorithm that takes a sample & estimates a **PDF** that fits the data.\n",
    "  *  estimate the PDF (*probability density*) of a random variable\n",
    "\n",
    "### Purposes\n",
    "Estimating a density function with KDE is useful for several purposes:\n",
    "  1. **Visualization**\n",
    "     * During the exploration phase off a project, `CDFs` (percentile rank/cumulative probability) are usually the best visualization of a distribution. \n",
    "     * After examining a `CDF`, you can decide whether an `estimated PDF` is an appropriate model of distribution.\n",
    "     * If so, it can be a better option to present the distribution to an audience unfamiliar with `CDFs`.\n",
    "  2. **Interpolation**\n",
    "     * An `estimated PDF` is a way to get from a sample to a model of the population.\n",
    "     * If there's reason to believe that the population distribution is smooth, you can use `KDE` to interpolate the density for values that don't appear in the sample.\n",
    "  3. **Simulation**\n",
    "    * Simulations are often based on the distribution of a sample.\n",
    "    * If the sample size is *small*, it might be appropriate to smooth the sample distribution using `KDE`, which allows the simulation to explore more possible outcomes, *rather than replicating observed data*.\n",
    "\n",
    "\n",
    "### SciPy Package (scipy.stats.gaussian_kde)\n",
    "https://docs.scipy.org/doc/scipy/reference/generated/scipy.stats.gaussian_kde.html  \n",
    "`scipy.stats.gaussian_kde(sample)`\n",
    "\n",
    "The algorithm applies a filter based on a *Gaussian* distribution to smooth the KDE, providing the estimated PDF.\n",
    "\n",
    "#### Attributes\n",
    "  * `.dataset`: dataset with which the gaussian_kde was intialized\n",
    "  * `.d`: number of dimensions\n",
    "  * `.n`: number of datapoints\n",
    "  * `.factor`: bandwidth factor\n",
    "  * `.covariance` covariance matrix of dataset, scaled by bandwidth factor\n",
    "  * `.inv_cov`: inverse of covariance  \n",
    "\n",
    "#### Key Methods\n",
    "  * `.evaluate(new_sample)`\n",
    "     1. Create/initialize KDE object - *perform PDF estimation on a sample*\n",
    "     2. Evaluate new data points (KDE object already initialized)\n",
    "\n",
    "`Evaluate` method evaluates the estimated PDF on new data points *based on the estimation done on the original sample*."
   ]
  },
  {
   "cell_type": "markdown",
   "metadata": {},
   "source": [
    "#### Example: Estimate PDF (compute KDE) based on a Random Sample of Adult Female Heights\n",
    "\n",
    "1) Generate a random sample from a normal distribution.\n",
    "\n",
    "`random.gauss(mu, sigma)` generates a random value based on the Gaussian distribution."
   ]
  },
  {
   "cell_type": "code",
   "execution_count": 53,
   "metadata": {
    "collapsed": false
   },
   "outputs": [],
   "source": [
    "sample = [random.gauss(female_hgt_mean, female_hgt_std) for i in range(500)]"
   ]
  },
  {
   "cell_type": "code",
   "execution_count": 54,
   "metadata": {
    "collapsed": false
   },
   "outputs": [
    {
     "data": {
      "text/plain": [
       "True"
      ]
     },
     "execution_count": 54,
     "metadata": {},
     "output_type": "execute_result"
    }
   ],
   "source": [
    "# Copy sample for proving function\n",
    "sample_copy = sample[:]\n",
    "sample == sample_copy"
   ]
  },
  {
   "cell_type": "markdown",
   "metadata": {},
   "source": [
    "2) Initialize KDE based on the random sample."
   ]
  },
  {
   "cell_type": "code",
   "execution_count": 55,
   "metadata": {
    "collapsed": false
   },
   "outputs": [],
   "source": [
    "sample_kde = stats.gaussian_kde(sample) #estimated PDF"
   ]
  },
  {
   "cell_type": "markdown",
   "metadata": {},
   "source": [
    "3) Evaluate sample to compute each value's PDFs."
   ]
  },
  {
   "cell_type": "code",
   "execution_count": 56,
   "metadata": {
    "collapsed": false
   },
   "outputs": [],
   "source": [
    "sample.sort()\n",
    "sample_pdf = sample_kde.evaluate(sample)"
   ]
  },
  {
   "cell_type": "code",
   "execution_count": 57,
   "metadata": {
    "collapsed": true
   },
   "outputs": [],
   "source": [
    "def EstimatedPdf(sample):\n",
    "    \"\"\"Computes the KDE/estimates PDF of a given sample.\"\"\"\n",
    "    kde = stats.gaussian_kde(sample)\n",
    "    sample.sort()\n",
    "    est_pdf = kde.evaluate(sample)\n",
    "    return est_pdf"
   ]
  },
  {
   "cell_type": "code",
   "execution_count": 58,
   "metadata": {
    "collapsed": false
   },
   "outputs": [
    {
     "data": {
      "text/plain": [
       "array([ True,  True,  True,  True,  True,  True,  True,  True,  True,\n",
       "        True,  True,  True,  True,  True,  True,  True,  True,  True,\n",
       "        True,  True,  True,  True,  True,  True,  True,  True,  True,\n",
       "        True,  True,  True,  True,  True,  True,  True,  True,  True,\n",
       "        True,  True,  True,  True,  True,  True,  True,  True,  True,\n",
       "        True,  True,  True,  True,  True,  True,  True,  True,  True,\n",
       "        True,  True,  True,  True,  True,  True,  True,  True,  True,\n",
       "        True,  True,  True,  True,  True,  True,  True,  True,  True,\n",
       "        True,  True,  True,  True,  True,  True,  True,  True,  True,\n",
       "        True,  True,  True,  True,  True,  True,  True,  True,  True,\n",
       "        True,  True,  True,  True,  True,  True,  True,  True,  True,\n",
       "        True,  True,  True,  True,  True,  True,  True,  True,  True,\n",
       "        True,  True,  True,  True,  True,  True,  True,  True,  True,\n",
       "        True,  True,  True,  True,  True,  True,  True,  True,  True,\n",
       "        True,  True,  True,  True,  True,  True,  True,  True,  True,\n",
       "        True,  True,  True,  True,  True,  True,  True,  True,  True,\n",
       "        True,  True,  True,  True,  True,  True,  True,  True,  True,\n",
       "        True,  True,  True,  True,  True,  True,  True,  True,  True,\n",
       "        True,  True,  True,  True,  True,  True,  True,  True,  True,\n",
       "        True,  True,  True,  True,  True,  True,  True,  True,  True,\n",
       "        True,  True,  True,  True,  True,  True,  True,  True,  True,\n",
       "        True,  True,  True,  True,  True,  True,  True,  True,  True,\n",
       "        True,  True,  True,  True,  True,  True,  True,  True,  True,\n",
       "        True,  True,  True,  True,  True,  True,  True,  True,  True,\n",
       "        True,  True,  True,  True,  True,  True,  True,  True,  True,\n",
       "        True,  True,  True,  True,  True,  True,  True,  True,  True,\n",
       "        True,  True,  True,  True,  True,  True,  True,  True,  True,\n",
       "        True,  True,  True,  True,  True,  True,  True,  True,  True,\n",
       "        True,  True,  True,  True,  True,  True,  True,  True,  True,\n",
       "        True,  True,  True,  True,  True,  True,  True,  True,  True,\n",
       "        True,  True,  True,  True,  True,  True,  True,  True,  True,\n",
       "        True,  True,  True,  True,  True,  True,  True,  True,  True,\n",
       "        True,  True,  True,  True,  True,  True,  True,  True,  True,\n",
       "        True,  True,  True,  True,  True,  True,  True,  True,  True,\n",
       "        True,  True,  True,  True,  True,  True,  True,  True,  True,\n",
       "        True,  True,  True,  True,  True,  True,  True,  True,  True,\n",
       "        True,  True,  True,  True,  True,  True,  True,  True,  True,\n",
       "        True,  True,  True,  True,  True,  True,  True,  True,  True,\n",
       "        True,  True,  True,  True,  True,  True,  True,  True,  True,\n",
       "        True,  True,  True,  True,  True,  True,  True,  True,  True,\n",
       "        True,  True,  True,  True,  True,  True,  True,  True,  True,\n",
       "        True,  True,  True,  True,  True,  True,  True,  True,  True,\n",
       "        True,  True,  True,  True,  True,  True,  True,  True,  True,\n",
       "        True,  True,  True,  True,  True,  True,  True,  True,  True,\n",
       "        True,  True,  True,  True,  True,  True,  True,  True,  True,\n",
       "        True,  True,  True,  True,  True,  True,  True,  True,  True,\n",
       "        True,  True,  True,  True,  True,  True,  True,  True,  True,\n",
       "        True,  True,  True,  True,  True,  True,  True,  True,  True,\n",
       "        True,  True,  True,  True,  True,  True,  True,  True,  True,\n",
       "        True,  True,  True,  True,  True,  True,  True,  True,  True,\n",
       "        True,  True,  True,  True,  True,  True,  True,  True,  True,\n",
       "        True,  True,  True,  True,  True,  True,  True,  True,  True,\n",
       "        True,  True,  True,  True,  True,  True,  True,  True,  True,\n",
       "        True,  True,  True,  True,  True,  True,  True,  True,  True,\n",
       "        True,  True,  True,  True,  True,  True,  True,  True,  True,\n",
       "        True,  True,  True,  True,  True], dtype=bool)"
      ]
     },
     "execution_count": 58,
     "metadata": {},
     "output_type": "execute_result"
    }
   ],
   "source": [
    "EstimatedPdf(sample_copy) == sample_pdf"
   ]
  },
  {
   "cell_type": "markdown",
   "metadata": {},
   "source": [
    "**Plot**   \n",
    "(height vs. estimated PDF (KDE))\n"
   ]
  },
  {
   "cell_type": "code",
   "execution_count": 59,
   "metadata": {
    "collapsed": false
   },
   "outputs": [
    {
     "data": {
      "text/plain": [
       "<matplotlib.text.Text at 0x16047908>"
      ]
     },
     "execution_count": 59,
     "metadata": {},
     "output_type": "execute_result"
    },
    {
     "data": {
      "image/png": "[encoded data removed]",
      "text/plain": [
       "<matplotlib.figure.Figure at 0x13e41be0>"
      ]
     },
     "metadata": {},
     "output_type": "display_data"
    }
   ],
   "source": [
    "plt.plot(sample, sample_pdf, label='sample KDE')\n",
    "plt.xlabel('height (cm)')\n",
    "plt.ylabel('estimated PDF')\n",
    "plt.title('KDE - Adult Female Height of Random Sample \\n (n=500)')"
   ]
  },
  {
   "cell_type": "code",
   "execution_count": 69,
   "metadata": {
    "collapsed": false
   },
   "outputs": [
    {
     "data": {
      "text/plain": [
       "array([ 0.00146037,  0.0021143 ,  0.00266286,  0.00271478,  0.00274141,\n",
       "        0.00329395,  0.0051032 ,  0.00546255,  0.00579609,  0.00590259,\n",
       "        0.0068499 ,  0.00775095,  0.00972535,  0.0100927 ,  0.01035794,\n",
       "        0.01049086,  0.01179471,  0.01182761,  0.01214303,  0.01313475,\n",
       "        0.01348869,  0.01376501,  0.01408949,  0.01483429,  0.01493449,\n",
       "        0.01512884,  0.01550695,  0.01562381,  0.01569231,  0.01622906,\n",
       "        0.01628481,  0.01684385,  0.01717365,  0.01739719,  0.01796649,\n",
       "        0.01819086,  0.01867219,  0.01937444,  0.01995598,  0.02027685,\n",
       "        0.02151858,  0.0220941 ,  0.02281639,  0.02283835,  0.02307348,\n",
       "        0.02312336,  0.02393906,  0.02449133,  0.02459319,  0.02487095,\n",
       "        0.02496235,  0.02523803,  0.0256808 ,  0.0258301 ,  0.02631316,\n",
       "        0.02656924,  0.02671584,  0.0267765 ,  0.02711664,  0.02713083,\n",
       "        0.02741903,  0.02818922,  0.02903307,  0.02912025,  0.02912222,\n",
       "        0.02933208,  0.02934736,  0.02939612,  0.02952723,  0.03000075,\n",
       "        0.03040833,  0.03062777,  0.03068887,  0.03073872,  0.03098794,\n",
       "        0.03126575,  0.03135549,  0.03180899,  0.03208277,  0.03215944,\n",
       "        0.03238078,  0.03279612,  0.03282294,  0.03294211,  0.03309227,\n",
       "        0.03309955,  0.0332346 ,  0.03327906,  0.03342849,  0.03373049,\n",
       "        0.03377954,  0.03401921,  0.03439902,  0.03453796,  0.03457785,\n",
       "        0.0348001 ,  0.03492634,  0.03503616,  0.03509059,  0.03572122,\n",
       "        0.03588096,  0.03589597,  0.03592459,  0.03615129,  0.03651006,\n",
       "        0.03661499,  0.0367764 ,  0.03680798,  0.03700106,  0.03700535,\n",
       "        0.03722429,  0.03734865,  0.03759328,  0.03772865,  0.03777565,\n",
       "        0.03785126,  0.03797593,  0.03811408,  0.03839389,  0.03845792,\n",
       "        0.0384867 ,  0.03863899,  0.03868817,  0.0386901 ,  0.03896941,\n",
       "        0.03905962,  0.03918204,  0.03949812,  0.0395345 ,  0.03955749,\n",
       "        0.03963664,  0.03969927,  0.03976846,  0.03992829,  0.04001094,\n",
       "        0.04011471,  0.04011946,  0.04031809,  0.04038347,  0.04059907,\n",
       "        0.04087772,  0.04089744,  0.04096091,  0.0411208 ,  0.04119364,\n",
       "        0.04125799,  0.04132335,  0.0414195 ,  0.04145122,  0.04155938,\n",
       "        0.04169945,  0.04175779,  0.04191348,  0.04208958,  0.04221863,\n",
       "        0.04258455,  0.04293969,  0.04316327,  0.04326107,  0.04335238,\n",
       "        0.04357312,  0.04360227,  0.0436257 ,  0.04373088,  0.04388842,\n",
       "        0.04391803,  0.04404807,  0.04405211,  0.04410233,  0.04419268,\n",
       "        0.0442179 ,  0.04441139,  0.04512546,  0.04520961,  0.045327  ,\n",
       "        0.04533703,  0.04559395,  0.04573275,  0.04593496,  0.04602735,\n",
       "        0.04604243,  0.0462993 ,  0.04636661,  0.04641689,  0.04653446,\n",
       "        0.04670401,  0.04681019,  0.04696742,  0.04704521,  0.04725722,\n",
       "        0.04752564,  0.04771056,  0.04774263,  0.04783598,  0.04794555,\n",
       "        0.04811405,  0.04829715,  0.04841033,  0.04854928,  0.04858996,\n",
       "        0.04867262,  0.04869106,  0.04877151,  0.04879098,  0.04887902,\n",
       "        0.04906094,  0.04909432,  0.04915683,  0.04921041,  0.04925245,\n",
       "        0.04937498,  0.04951934,  0.04962117,  0.04966418,  0.04973293,\n",
       "        0.04975392,  0.04981254,  0.04998699,  0.05002032,  0.05036523,\n",
       "        0.05039504,  0.05042741,  0.05060662,  0.05091321,  0.05095246,\n",
       "        0.05102306,  0.05104991,  0.05113583,  0.05115985,  0.05123234,\n",
       "        0.05156861,  0.0515781 ,  0.05160635,  0.05161535,  0.05163311,\n",
       "        0.0516438 ,  0.0516752 ,  0.05167714,  0.05168549,  0.05169826,\n",
       "        0.05176791,  0.05178583,  0.05195439,  0.05198257,  0.05200242,\n",
       "        0.05200384,  0.05201817,  0.05208329,  0.05211721,  0.05214359,\n",
       "        0.05216596,  0.05221353,  0.05226967,  0.05228444,  0.05229207,\n",
       "        0.05229453,  0.0522977 ,  0.05237571,  0.05238442,  0.05238522,\n",
       "        0.05241986,  0.05242855,  0.05242991,  0.05242991,  0.05241862,\n",
       "        0.05240556,  0.05240217,  0.05240174,  0.05238643,  0.05237574,\n",
       "        0.05237443,  0.05237054,  0.05235073,  0.05234235,  0.0523406 ,\n",
       "        0.05232148,  0.05231961,  0.05231488,  0.05231086,  0.05229741,\n",
       "        0.05228558,  0.05227919,  0.05227723,  0.05227623,  0.05227125,\n",
       "        0.05224955,  0.05212684,  0.052119  ,  0.0520943 ,  0.05207748,\n",
       "        0.05203148,  0.05202027,  0.05199562,  0.05198357,  0.0519274 ,\n",
       "        0.05192534,  0.05190787,  0.05188369,  0.05187877,  0.05161235,\n",
       "        0.05156937,  0.05139018,  0.05118897,  0.05115472,  0.0511162 ,\n",
       "        0.05094123,  0.05079401,  0.05065654,  0.05063005,  0.05047658,\n",
       "        0.05030553,  0.05029492,  0.05021911,  0.05009897,  0.05009462,\n",
       "        0.05005518,  0.04998122,  0.04976314,  0.0496339 ,  0.04960116,\n",
       "        0.04953105,  0.04951675,  0.04946925,  0.04942952,  0.04926182,\n",
       "        0.04909898,  0.04889433,  0.04881551,  0.04878515,  0.04877694,\n",
       "        0.04871237,  0.04854709,  0.04846922,  0.04844306,  0.04820428,\n",
       "        0.04816154,  0.04813783,  0.04798316,  0.04791133,  0.04790032,\n",
       "        0.04786928,  0.04777175,  0.04766282,  0.04744157,  0.04739033,\n",
       "        0.04724998,  0.04723444,  0.04713378,  0.04698013,  0.04696676,\n",
       "        0.04679449,  0.04654663,  0.04644369,  0.04632269,  0.04607904,\n",
       "        0.04604633,  0.0454623 ,  0.04533774,  0.04518992,  0.04518734,\n",
       "        0.04510038,  0.04508169,  0.04476145,  0.0445776 ,  0.04429225,\n",
       "        0.04378503,  0.04357154,  0.04355627,  0.04354589,  0.04340509,\n",
       "        0.04338373,  0.04324009,  0.04321793,  0.0429044 ,  0.04279007,\n",
       "        0.04269248,  0.04219739,  0.04209044,  0.0419486 ,  0.04181838,\n",
       "        0.04144738,  0.04117715,  0.0411756 ,  0.04110838,  0.04107217,\n",
       "        0.04077216,  0.04074678,  0.04070107,  0.04065068,  0.04049708,\n",
       "        0.04045583,  0.04038961,  0.04037762,  0.04014101,  0.04007551,\n",
       "        0.0399539 ,  0.03991537,  0.03980026,  0.03977196,  0.03942505,\n",
       "        0.03922756,  0.03917923,  0.03905766,  0.03880472,  0.03840529,\n",
       "        0.03831344,  0.03819585,  0.03812393,  0.0379555 ,  0.03771152,\n",
       "        0.03636748,  0.0362842 ,  0.03600503,  0.03572735,  0.03542131,\n",
       "        0.0352089 ,  0.03498369,  0.03492316,  0.03465607,  0.03460669,\n",
       "        0.03445167,  0.03436762,  0.03423595,  0.03420305,  0.03376755,\n",
       "        0.03351922,  0.03326015,  0.03303932,  0.03298375,  0.03276609,\n",
       "        0.0323725 ,  0.03232564,  0.03181444,  0.03147501,  0.03123685,\n",
       "        0.03101719,  0.03100753,  0.03055321,  0.03018654,  0.03012276,\n",
       "        0.0293038 ,  0.02906842,  0.02861178,  0.02823792,  0.02770135,\n",
       "        0.02764178,  0.02640843,  0.02639847,  0.02604866,  0.0260474 ,\n",
       "        0.02516147,  0.02509379,  0.0248787 ,  0.02455397,  0.02410947,\n",
       "        0.02271388,  0.02218729,  0.02184583,  0.02170954,  0.02168486,\n",
       "        0.02140816,  0.02126396,  0.01944765,  0.01932029,  0.01884231,\n",
       "        0.01828461,  0.01764598,  0.01702685,  0.01694563,  0.01529964,\n",
       "        0.01418841,  0.01415998,  0.01407081,  0.01352129,  0.01338738,\n",
       "        0.01325892,  0.01301063,  0.01196695,  0.01196492,  0.01131941,\n",
       "        0.01118284,  0.01096508,  0.01083052,  0.01058445,  0.00969613,\n",
       "        0.00917877,  0.00913925,  0.00881763,  0.00836515,  0.00808423,\n",
       "        0.0074357 ,  0.00601692,  0.00560917,  0.00401744,  0.0038609 ,\n",
       "        0.00379682,  0.0035145 ,  0.00345127,  0.00201596,  0.00081613])"
      ]
     },
     "execution_count": 69,
     "metadata": {},
     "output_type": "execute_result"
    }
   ],
   "source": [
    "import seaborn as sns\n",
    "sample_pdf\n",
    "# sns.kdeplot(sample_pdf)"
   ]
  },
  {
   "cell_type": "markdown",
   "metadata": {},
   "source": [
    "### Plot\n",
    "Plot the probability density for adult female heights comparing a normal PDF & estimated PDF (KDE). \n",
    "  1. a normal PDF that models adult female height in the US.\n",
    "  2. a kernel density estimate of a sample of 500 random heights."
   ]
  },
  {
   "cell_type": "code",
   "execution_count": 16,
   "metadata": {
    "collapsed": false
   },
   "outputs": [
    {
     "data": {
      "image/png": "[encoded data removed]",
      "text/plain": [
       "<matplotlib.figure.Figure at 0x13f61b00>"
      ]
     },
     "metadata": {},
     "output_type": "display_data"
    }
   ],
   "source": [
    "plt.plot(female_hgt.sort_values(), fhgt_pdf, label='normal') # normal PDF\n",
    "plt.plot(sample, sample_pdf, label='sample KDE') # KDE sample\n",
    "plt.xlim([140,185])\n",
    "plt.xlabel('Height (cm)')\n",
    "plt.ylabel('Density (probability mass/cm)')\n",
    "plt.title('Probability Density Function - Adult Female Height')\n",
    "plt.legend(loc='upper right')\n",
    "plt.show()"
   ]
  },
  {
   "cell_type": "markdown",
   "metadata": {},
   "source": [
    "The estimate is a good match for the original PDF distribution."
   ]
  },
  {
   "cell_type": "markdown",
   "metadata": {},
   "source": [
    "## The Distribution Framework\n",
    "Can view distributions through **PMFs, CDFs,** & **PDFs**.\n",
    "\n",
    "#### Probability Mass Function (PMF)\n",
    "  * PMF represents the **probabilities** for a *discrete* set of values.\n",
    "  * **PMF** --> **CDF**: *add up* the probability masses to get cumulative probabilities.\n",
    "  * approximates **PDF**  \n",
    "\n",
    "#### Cumulative Distribution Function (CDF)\n",
    "  * CDF represents the **cumulative probabilities** for a set of values.\n",
    "  * **CDF --> PMF**: compute the *differences* in cumulative probabiltities.\n",
    "\n",
    "#### Probability Density Function (PDF)\n",
    "  * A PDF is a derivative of a continuous CDF == a CDF is a integral of a PDF.\n",
    "  * PDF maps from values to **probability densities**.\n",
    "  * Integrate to get a probability from probability density.\n",
    "  * Perform various kinds of *smoothing* to go from a `discrete` to `continuous` distribution."
   ]
  },
  {
   "cell_type": "code",
   "execution_count": 17,
   "metadata": {
    "collapsed": false
   },
   "outputs": [
    {
     "data": {
      "image/jpeg": "[encoded data removed]",
      "text/plain": [
       "<IPython.core.display.Image object>"
      ]
     },
     "metadata": {},
     "output_type": "display_data"
    }
   ],
   "source": [
    "from IPython.display import Image, display\n",
    "import platform\n",
    "\n",
    "if platform.system()=='Linux':\n",
    "    display(Image(filename='/media/cpnguyen/Windows8_OS/Users/Calvin/Desktop/HS 699/code/distribution_framework.JPG'))\n",
    "if platform.system()=='Windows':\n",
    "    display(Image(filename='C:\\Users\\Calvin\\Desktop\\HS 699\\code\\distribution_framework.jpg'))"
   ]
  },
  {
   "cell_type": "markdown",
   "metadata": {},
   "source": [
    "### Smoothing\n",
    "Smoothing converts *discrete* distribution to one that's *continuous*. \n",
    "\n",
    "Options:\n",
    "1. Assume data came from an `analytic continuous distribution` (e.g. *exponential* or *normal*) and to estimate the parameters of that distribution.\n",
    "2. **Kernel Density Estimation**\n",
    "\n",
    "### Discretizing\n",
    "**Discretize**: to approximate a *continuous* function or distribution with a *discrete* function.\n",
    "  * the *opposite* of smoothing\n",
    "  * quantizing\n",
    "\n",
    "If you evaluate a **PDF** at *discrete* points, you can generate a **PMF** that is an approximation  of the **PDF**. You can get a better approximation using numerical integration.\n",
    "\n",
    "### Continuous vs. Discrete CDFs\n",
    "A *discrete* CDF is a \"cumulative mass function.\""
   ]
  },
  {
   "cell_type": "markdown",
   "metadata": {},
   "source": [
    "## Distribution Review\n",
    "\n",
    "#### Histogram\n",
    "  * each value has a *frequency*\n",
    "  * frequency should but integers, but can be any numeric type\n",
    "\n",
    "#### Probability Mass Function (PMF)\n",
    "  * similar to histograms, but map each value to a *probability*\n",
    "  * probability should be floating-point numbers\n",
    "  * PMF is **normalized** if Σ<sub>probabilities></sub> = 1.0\n",
    "\n",
    "#### Cumulative Distribution Function (CDF)\n",
    "  * maps each value to *cumulative probabilities*\n",
    "  * useful to compute `inverse CDF(x)`, which maps from cumulative probabilities to value\n",
    "  * create CDF from **histogram** by mapping *cumulative probability* to the given value\n",
    "     * cumulative probability = cumulative frequency /  total frequency\n",
    "  * compute **PMF** by computing *differences* between consecutive cumulative probabilities"
   ]
  },
  {
   "cell_type": "markdown",
   "metadata": {},
   "source": [
    "## Moments\n",
    "Any time you take a sample & reduce it to a *single number*, that number is a **statistic**.\n",
    "  * **mean**\n",
    "  * **variance**\n",
    "  * **standard deviation**\n",
    "  * **median**\n",
    "  * **interquartile range**\n",
    "  \n",
    "### Raw Moment\n",
    "**Raw Moment**: a kind of statistic based on  the *sum* of data raised to a power.\n",
    "\n",
    "When `k=1`, the result is the sample mean (`x̅`). Other raw moments don't mean much by themselves, but are used in some computations."
   ]
  },
  {
   "cell_type": "code",
   "execution_count": 18,
   "metadata": {
    "collapsed": true
   },
   "outputs": [],
   "source": [
    "def RawMoment(sample, k):\n",
    "    return sum(x**k for x in sample) / len(sample)"
   ]
  },
  {
   "cell_type": "code",
   "execution_count": 19,
   "metadata": {
    "collapsed": false
   },
   "outputs": [
    {
     "data": {
      "text/plain": [
       "163.56673810618659"
      ]
     },
     "execution_count": 19,
     "metadata": {},
     "output_type": "execute_result"
    }
   ],
   "source": [
    "RawMoment(sample, 1.0)"
   ]
  },
  {
   "cell_type": "markdown",
   "metadata": {},
   "source": [
    "Calculating the mean the traditional way proves that the mean<sub>sample</sub> == `RawMoment(sample, k=1)`."
   ]
  },
  {
   "cell_type": "code",
   "execution_count": 20,
   "metadata": {
    "collapsed": false
   },
   "outputs": [
    {
     "data": {
      "text/plain": [
       "163.5667381061866"
      ]
     },
     "execution_count": 20,
     "metadata": {},
     "output_type": "execute_result"
    }
   ],
   "source": [
    "raw_mean = float(sum(sample)) / len(sample)\n",
    "raw_mean"
   ]
  },
  {
   "cell_type": "markdown",
   "metadata": {},
   "source": [
    "### Central Moment\n",
    "**Central Moment**: a statistic based on *deviation from the mean*, raised to a power.\n",
    "\n",
    "When `k=2`, the result is the 2nd central moment (which you might recognize as **variance**).\n",
    "  * The definition of variance gives a hint about why these stats are called moments."
   ]
  },
  {
   "cell_type": "code",
   "execution_count": 21,
   "metadata": {
    "collapsed": true
   },
   "outputs": [],
   "source": [
    "def CentralMoment(sample, k):\n",
    "    mean = RawMoment(sample, 1)\n",
    "    return sum((x-mean)**k for x in sample) / len(sample)"
   ]
  },
  {
   "cell_type": "code",
   "execution_count": 22,
   "metadata": {
    "collapsed": false
   },
   "outputs": [
    {
     "data": {
      "text/plain": [
       "57.302342308425906"
      ]
     },
     "execution_count": 22,
     "metadata": {},
     "output_type": "execute_result"
    }
   ],
   "source": [
    "CentralMoment(sample,2)"
   ]
  },
  {
   "cell_type": "markdown",
   "metadata": {},
   "source": [
    "Calculating the variance through the Pandas' method proves that `CentralMoment(sample, k=2)` is equivalent to variance<sub>sample</sub>."
   ]
  },
  {
   "cell_type": "code",
   "execution_count": 23,
   "metadata": {
    "collapsed": false
   },
   "outputs": [
    {
     "data": {
      "text/plain": [
       "57.41717666174943"
      ]
     },
     "execution_count": 23,
     "metadata": {},
     "output_type": "execute_result"
    }
   ],
   "source": [
    "pd.Series(sample).var()"
   ]
  },
  {
   "cell_type": "markdown",
   "metadata": {},
   "source": [
    "Important to pay attention to the **units** when reporting moment-based statistics.\n",
    "#### Example: height in cm\n",
    "If sample values are in units of cm. \n",
    "  * 1st **raw moment**: cm\n",
    "  * 2nd moment: cm<sup>2</sup>\n",
    "  * 3rd moment: cm<sup>3</sup>\n",
    "  \n",
    "Moments are hard to interpret by themselves. Which is why it's common to report **standard deviation** for the 2nd moment, which is the square root of **variance** (so same unit of 1st moment)."
   ]
  },
  {
   "cell_type": "markdown",
   "metadata": {},
   "source": [
    "## Skewness\n",
    "\n",
    "**Skewness**: a property describing the shape of a distribution.\n",
    "  * a measure of how asymmetric a distribution is  \n",
    "\n",
    "Types\n",
    "  * **Unskewed**: distribution is symmetric around its central tendency\n",
    "  * **Right Skewed**: values extend farther to the right\n",
    "  * **Left Skewed**: values extend farther to the left\n",
    "\n",
    "### Skewed vs Bias\n",
    "Skewness only describes the *shape* of the distribution. It tells nothing about whether the sampling process might have been biased.\n",
    "\n",
    "### Statistics Quantifying Skewness of Distribution\n",
    "**Sample Skewness** (*g*<sub>1</sub>): a moment-based statistic intended to quantify the skewness of a distribution.\n",
    "  * Computing in practice is usually not a good idea. Outliers, if any, have a disproportionate effect."
   ]
  },
  {
   "cell_type": "code",
   "execution_count": 24,
   "metadata": {
    "collapsed": true
   },
   "outputs": [],
   "source": [
    "def StandardizedMoment(sample, k):\n",
    "    \"\"\"Normalize the Moment\"\"\"\n",
    "    var = CentralMoment(sample, 2)\n",
    "    std = math.sqrt(var)\n",
    "    return CentralMoment(sample, k) / std**k\n",
    "\n",
    "def Skewness(sample):\n",
    "    \"\"\"Computation of g1 (sampled skewness).\"\"\"\n",
    "    return StandardizedMoment(sample, 3) # 3rd standardized moment"
   ]
  },
  {
   "cell_type": "markdown",
   "metadata": {},
   "source": [
    "*g*<sub>1</sub> is the 3rd **standardized moment**, meaning it has been *normalized* and has no units.\n",
    "\n",
    "**Standardized Moment**: A *ratio* of moments that has no units.\n",
    "  * normalized so it has no units\n",
    "  \n",
    "**Negative Skewness**: indicates that a distribution skews *left*  \n",
    "**Positive Skewness**: indiciates that a distribution skews *right*\n",
    "\n",
    "Magnitude of *g*<sub>1</sub> indicates strength of the skewness. Yet, by itself it's not easy to interpret."
   ]
  },
  {
   "cell_type": "markdown",
   "metadata": {},
   "source": [
    "### Drawback of Sample Skewness (*g*<sub>1</sub>) \n",
    "Computing **sample skewness** is not practical due to disproportionate effect of outliers. \n",
    "\n",
    "### Alternative: Pearson's Median Skewness Coefficient (*g*<sub>p</sub>) \n",
    "Equation:\n",
    "***g*<sub>p</sub> = 3(mean<sub>sample</sub> - median) / standard deviation**\n",
    "\n",
    "##### An alternative to evaluating the *assymetry of a distribution* is looking at the **relationship between the mean & median**.\n",
    "\n",
    "  * Extreme values have more effect on the mean than median.\n",
    "  * A distribution that skews *left* (**mean < median**)\n",
    "  * A distribution that skews *right* (**mean > median**)\n",
    "\n",
    "**Pearson's Median Skewness Coefficient**: a measure of skewness based on the difference between the sample mean & median \n",
    "  * a statistic intended to quantify the skewness of a distribution based on the median, mean, & standard deivation.\n",
    "  * statistic is **robust**, meaning it's less vulnerable to the *effect of outliers*."
   ]
  },
  {
   "cell_type": "code",
   "execution_count": 25,
   "metadata": {
    "collapsed": true
   },
   "outputs": [],
   "source": [
    "def EvalCDF(sample, x):\n",
    "    count = 0.0\n",
    "    for value in sample:\n",
    "        if value <= x:\n",
    "            count += 1\n",
    "    prob = count / len(sample) # float division\n",
    "    return prob\n",
    "\n",
    "def Median(sample):\n",
    "    cdf = {}\n",
    "    for x in sample:\n",
    "        cdf[x] = EvalCDF(sample, x)    \n",
    "    df = pd.DataFrame(cdf.items(), columns=['value', 'cdf'])    \n",
    "    index = df[df['cdf'] >=0.50]['cdf'].argmin()\n",
    "    median = df['value'].loc[index]\n",
    "    return median\n",
    "\n",
    "def PearsonMedianSkewness(sample):\n",
    "    median = Median(sample)\n",
    "    mean = RawMoment(sample, 1)\n",
    "    var = CentralMoment(sample, 2)\n",
    "    std = math.sqrt(var)\n",
    "    std = pd.Series(sample).std()\n",
    "    gp = 3 * (mean-median) / std # Pearson Coefficient\n",
    "    return gp"
   ]
  },
  {
   "cell_type": "markdown",
   "metadata": {},
   "source": [
    "### Example\n",
    "#### NSFG - Birthweight"
   ]
  },
  {
   "cell_type": "code",
   "execution_count": 26,
   "metadata": {
    "collapsed": false
   },
   "outputs": [
    {
     "name": "stderr",
     "output_type": "stream",
     "text": [
      "C:\\Users\\Calvin\\AppData\\Local\\Enthought\\Canopy\\User\\lib\\site-packages\\ipykernel\\__main__.py:4: FutureWarning: sort is deprecated, use sort_values(inplace=True) for INPLACE sorting\n"
     ]
    }
   ],
   "source": [
    "import nsfg\n",
    "\n",
    "preg = nsfg.ReadFemPreg() # DataFrame\n",
    "live = preg[preg.outcome==1] # filter for live births\n",
    "firsts = live[live.birthord == 1]\n",
    "others = live[live.birthord != 1]\n",
    "data = live['totalwgt_lb'].dropna()\n",
    "pdf = EstimatedPdf(data)"
   ]
  },
  {
   "cell_type": "code",
   "execution_count": 27,
   "metadata": {
    "collapsed": false
   },
   "outputs": [
    {
     "data": {
      "image/png": "[encoded data removed]",
      "text/plain": [
       "<matplotlib.figure.Figure at 0xec98b38>"
      ]
     },
     "metadata": {},
     "output_type": "display_data"
    }
   ],
   "source": [
    "plt.plot(data.sort_values(), pdf, label='birth weight')\n",
    "plt.xlabel('lbs')\n",
    "plt.ylabel('PDF')\n",
    "plt.title('Estimated PDF - Birth Weight')\n",
    "plt.legend(loc='upper right')\n",
    "plt.show()"
   ]
  },
  {
   "cell_type": "code",
   "execution_count": 28,
   "metadata": {
    "collapsed": false
   },
   "outputs": [
    {
     "data": {
      "text/plain": [
       "7.375"
      ]
     },
     "execution_count": 28,
     "metadata": {},
     "output_type": "execute_result"
    }
   ],
   "source": [
    "Median(data.values)"
   ]
  },
  {
   "cell_type": "markdown",
   "metadata": {},
   "source": [
    "Median is 7.38 lbs.\n",
    "\n",
    "The Median of a CDF is the value of `CDF(0.50)` (at the 50th percentile)."
   ]
  },
  {
   "cell_type": "code",
   "execution_count": 29,
   "metadata": {
    "collapsed": false
   },
   "outputs": [
    {
     "data": {
      "text/plain": [
       "7.2656284576233681"
      ]
     },
     "execution_count": 29,
     "metadata": {},
     "output_type": "execute_result"
    }
   ],
   "source": [
    "data.mean()"
   ]
  },
  {
   "cell_type": "code",
   "execution_count": 30,
   "metadata": {
    "collapsed": false
   },
   "outputs": [
    {
     "data": {
      "text/plain": [
       "7.2656284576233681"
      ]
     },
     "execution_count": 30,
     "metadata": {},
     "output_type": "execute_result"
    }
   ],
   "source": [
    "mean = RawMoment(data.values, 1)\n",
    "mean"
   ]
  },
  {
   "cell_type": "markdown",
   "metadata": {},
   "source": [
    "Mean is 7.27 lbs."
   ]
  },
  {
   "cell_type": "markdown",
   "metadata": {},
   "source": [
    "**Skewness Coefficient**"
   ]
  },
  {
   "cell_type": "code",
   "execution_count": 31,
   "metadata": {
    "collapsed": false
   },
   "outputs": [
    {
     "data": {
      "text/plain": [
       "-0.58950626875773648"
      ]
     },
     "execution_count": 31,
     "metadata": {},
     "output_type": "execute_result"
    }
   ],
   "source": [
    "Skewness(data.values)"
   ]
  },
  {
   "cell_type": "code",
   "execution_count": 32,
   "metadata": {
    "collapsed": false
   },
   "outputs": [
    {
     "data": {
      "text/plain": [
       "-0.23298739915481315"
      ]
     },
     "execution_count": 32,
     "metadata": {},
     "output_type": "execute_result"
    }
   ],
   "source": [
    "PearsonMedianSkewness(data.values)"
   ]
  },
  {
   "cell_type": "markdown",
   "metadata": {},
   "source": [
    "Sample Skewness (g<sub>1</sub>) is -0.59 and Pearson's Median Skewness (g<sub>p</sub>) is -0.23."
   ]
  },
  {
   "cell_type": "markdown",
   "metadata": {},
   "source": [
    "**Interpretation**: The left tail appears longer than the right (**Left Skewed Distribution**).\n",
    "  * **Mean < Median**, hence consistent with the skew (Mean = 7.27 lbs & Median = 7.38 lbs)\n",
    "  * Both **skewness coefficients** are negative (sample skewness (*g*<sub>1</sub> = -0.59 & Pearson's median skewness (*g*<sub>p</sub> = - 0.23)\n",
    "  "
   ]
  },
  {
   "cell_type": "markdown",
   "metadata": {},
   "source": [
    "#### BRFSS - Adult Weight"
   ]
  },
  {
   "cell_type": "code",
   "execution_count": 33,
   "metadata": {
    "collapsed": false
   },
   "outputs": [],
   "source": [
    "brfss = ReadBrfss(nrows=None)\n",
    "brfss_data = brfss.wtkg2.dropna()"
   ]
  },
  {
   "cell_type": "code",
   "execution_count": 34,
   "metadata": {
    "collapsed": false
   },
   "outputs": [
    {
     "data": {
      "text/plain": [
       "(78.992452996858106, 19.546156913060994)"
      ]
     },
     "execution_count": 34,
     "metadata": {},
     "output_type": "execute_result"
    }
   ],
   "source": [
    "brfss_mean = brfss_data.mean()\n",
    "brfss_std = brfss_data.std()\n",
    "brfss_mean, brfss_std"
   ]
  },
  {
   "cell_type": "markdown",
   "metadata": {},
   "source": [
    "Generate random sample due to massive dataset of brfss_data based on dataset's mean & standard deviation.\n",
    "\n",
    "Apply `brfss_xs` (random sample) for such cases and use `brfss_data` (original) for all others where applicable."
   ]
  },
  {
   "cell_type": "code",
   "execution_count": 35,
   "metadata": {
    "collapsed": false
   },
   "outputs": [
    {
     "data": {
      "text/plain": [
       "(79.255951248677277, 19.576666033622349)"
      ]
     },
     "execution_count": 35,
     "metadata": {},
     "output_type": "execute_result"
    }
   ],
   "source": [
    "brfss_xs = [random.gauss(brfss_mean, brfss_std) for i in range(10000)]\n",
    "pd.Series(brfss_xs).mean(), pd.Series(brfss_xs).std()"
   ]
  },
  {
   "cell_type": "code",
   "execution_count": 36,
   "metadata": {
    "collapsed": false
   },
   "outputs": [],
   "source": [
    "# brfss_pdf = EstimatedPdf(list(brfss_data))\n",
    "brfss_pdf = EstimatedPdf(brfss_xs)\n",
    "\n",
    "brfss_df = pd.concat([pd.Series(brfss_xs), pd.Series(brfss_pdf)], axis=1)\n",
    "brfss_df.columns=['wgt', 'pdf']\n",
    "brfss_df.sort_values('wgt')\n",
    "pass"
   ]
  },
  {
   "cell_type": "code",
   "execution_count": 37,
   "metadata": {
    "collapsed": false
   },
   "outputs": [
    {
     "data": {
      "image/png": "[encoded data removed]",
      "text/plain": [
       "<matplotlib.figure.Figure at 0xf44c5c0>"
      ]
     },
     "metadata": {},
     "output_type": "display_data"
    }
   ],
   "source": [
    "plt.plot(brfss_df.wgt, brfss_df.pdf, label='adult weight')\n",
    "plt.xlabel('kg')\n",
    "plt.ylabel('PDF')\n",
    "plt.title('Estimated PDF - Adult Weight')\n",
    "plt.legend(loc='upper right')\n",
    "plt.show()"
   ]
  },
  {
   "cell_type": "code",
   "execution_count": 38,
   "metadata": {
    "collapsed": false
   },
   "outputs": [
    {
     "data": {
      "text/plain": [
       "79.439420133675327"
      ]
     },
     "execution_count": 38,
     "metadata": {},
     "output_type": "execute_result"
    }
   ],
   "source": [
    "Median(brfss_xs)"
   ]
  },
  {
   "cell_type": "markdown",
   "metadata": {},
   "source": [
    "Median is 79.0 kg"
   ]
  },
  {
   "cell_type": "code",
   "execution_count": 39,
   "metadata": {
    "collapsed": false
   },
   "outputs": [
    {
     "name": "stdout",
     "output_type": "stream",
     "text": [
      "78.9924529969\n"
     ]
    },
    {
     "data": {
      "text/plain": [
       "78.992452996871975"
      ]
     },
     "execution_count": 39,
     "metadata": {},
     "output_type": "execute_result"
    }
   ],
   "source": [
    "print pd.Series(brfss_data).mean()\n",
    "RawMoment(brfss_data, 1)"
   ]
  },
  {
   "cell_type": "markdown",
   "metadata": {},
   "source": [
    "Mean is 79.0 kg\n",
    "\n",
    "#### Skewness Coefficient"
   ]
  },
  {
   "cell_type": "code",
   "execution_count": 40,
   "metadata": {
    "collapsed": false
   },
   "outputs": [
    {
     "data": {
      "text/plain": [
       "1.054840012109306"
      ]
     },
     "execution_count": 40,
     "metadata": {},
     "output_type": "execute_result"
    }
   ],
   "source": [
    "Skewness(brfss_data)"
   ]
  },
  {
   "cell_type": "code",
   "execution_count": 41,
   "metadata": {
    "collapsed": false
   },
   "outputs": [
    {
     "data": {
      "text/plain": [
       "-0.028115443868142419"
      ]
     },
     "execution_count": 41,
     "metadata": {},
     "output_type": "execute_result"
    }
   ],
   "source": [
    "PearsonMedianSkewness(brfss_xs)"
   ]
  },
  {
   "cell_type": "code",
   "execution_count": 42,
   "metadata": {
    "collapsed": false
   },
   "outputs": [
    {
     "data": {
      "image/png": "[encoded data removed]",
      "text/plain": [
       "<matplotlib.figure.Figure at 0xeb87b38>"
      ]
     },
     "metadata": {},
     "output_type": "display_data"
    }
   ],
   "source": [
    "import thinkstats2, thinkplot\n",
    "\n",
    "brf_pdf = thinkstats2.EstimatedPdf(brfss_data)\n",
    "thinkplot.Pdf(brf_pdf, label='birth weight')"
   ]
  },
  {
   "cell_type": "code",
   "execution_count": 43,
   "metadata": {
    "collapsed": false
   },
   "outputs": [
    {
     "name": "stdout",
     "output_type": "stream",
     "text": [
      "1.05484001211\n"
     ]
    }
   ],
   "source": [
    "print Skewness(brfss_data)"
   ]
  },
  {
   "cell_type": "markdown",
   "metadata": {},
   "source": [
    "Sample Skewness (g<sub>1</sub>) is +1.1 and Pearson's Median Skewness (g<sub>p</sub>) is +0.26."
   ]
  },
  {
   "cell_type": "markdown",
   "metadata": {},
   "source": [
    "**Interpretation**: The right tail appears longer than the left (**Right Skewed Distribution**).\n",
    "  * **Mean > Median**, hence consistent with the skew (Mean = 79.0 kg & Median = 77.3 kg)\n",
    "  * Both **skewness coefficients** are positive (sample skewness (*g*<sub>1</sub> = 1.1 & Pearson's median skewness (*g*<sub>p</sub> = 0.26)"
   ]
  },
  {
   "cell_type": "markdown",
   "metadata": {},
   "source": [
    "The sign of the *skewness coefficient* indicates whether the distribution skews left or right. Other than that, they're hard to interpret.\n",
    "  * **Sample Skewness** is less robust as it's more susceptible to outliers. As a result it's less reliable when applied to skewed distributions (exactly when it'd be most relevant).\n",
    "  * **Pearson's Median Skewness** is based on a computed mean & variance. It's also susceptible to outliers, but is somewhat more robust due to the lack of dependence on a third moment.\n",
    "  "
   ]
  }
 ],
 "metadata": {
  "kernelspec": {
   "display_name": "Python 2",
   "language": "python",
   "name": "python2"
  },
  "language_info": {
   "codemirror_mode": {
    "name": "ipython",
    "version": 2
   },
   "file_extension": ".py",
   "mimetype": "text/x-python",
   "name": "python",
   "nbconvert_exporter": "python",
   "pygments_lexer": "ipython2",
   "version": "2.7.10"
  }
 },
 "nbformat": 4,
 "nbformat_minor": 0
}
